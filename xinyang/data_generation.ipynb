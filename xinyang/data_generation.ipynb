{
 "cells": [
  {
   "cell_type": "code",
   "execution_count": 1,
   "metadata": {},
   "outputs": [
    {
     "name": "stderr",
     "output_type": "stream",
     "text": [
      "/mnt/bwpy/single/usr/lib/python3.6/site-packages/h5py/__init__.py:36: FutureWarning: Conversion of the second argument of issubdtype from `float` to `np.floating` is deprecated. In future, it will be treated as `np.float64 == np.dtype(float).type`.\n",
      "  from ._conv import register_converters as _register_converters\n"
     ]
    }
   ],
   "source": [
    "import yt\n",
    "import h5py\n",
    "import pandas as pd"
   ]
  },
  {
   "cell_type": "code",
   "execution_count": 23,
   "metadata": {},
   "outputs": [
    {
     "name": "stderr",
     "output_type": "stream",
     "text": [
      "yt : [INFO     ] 2018-04-06 08:25:28,644 Parameters: current_time              = 18.251880636117\n",
      "yt : [INFO     ] 2018-04-06 08:25:28,646 Parameters: domain_dimensions         = [512 512 512]\n",
      "yt : [INFO     ] 2018-04-06 08:25:28,648 Parameters: domain_left_edge          = [0. 0. 0.]\n",
      "yt : [INFO     ] 2018-04-06 08:25:28,650 Parameters: domain_right_edge         = [1. 1. 1.]\n",
      "yt : [INFO     ] 2018-04-06 08:25:28,652 Parameters: cosmological_simulation   = 1\n",
      "yt : [INFO     ] 2018-04-06 08:25:28,654 Parameters: current_redshift          = 11.599999246256\n",
      "yt : [INFO     ] 2018-04-06 08:25:28,656 Parameters: omega_lambda              = 0.734\n",
      "yt : [INFO     ] 2018-04-06 08:25:28,658 Parameters: omega_matter              = 0.266\n",
      "yt : [INFO     ] 2018-04-06 08:25:28,659 Parameters: hubble_constant           = 0.71\n"
     ]
    }
   ],
   "source": [
    "ds = yt.load(\"RD0077/RedshiftOutput0077\")"
   ]
  },
  {
   "cell_type": "code",
   "execution_count": 25,
   "metadata": {},
   "outputs": [
    {
     "data": {
      "text/plain": [
       "[('all', 'creation_time'),\n",
       " ('all', 'dynamical_time'),\n",
       " ('all', 'metallicity_fraction'),\n",
       " ('all', 'particle_index'),\n",
       " ('all', 'particle_mass'),\n",
       " ('all', 'particle_position_x'),\n",
       " ('all', 'particle_position_y'),\n",
       " ('all', 'particle_position_z'),\n",
       " ('all', 'particle_type'),\n",
       " ('all', 'particle_velocity_x'),\n",
       " ('all', 'particle_velocity_y'),\n",
       " ('all', 'particle_velocity_z'),\n",
       " ('enzo', 'Dark_Matter_Density'),\n",
       " ('enzo', 'Density'),\n",
       " ('enzo', 'Electron_Density'),\n",
       " ('enzo', 'GasEnergy'),\n",
       " ('enzo', 'H2II_Density'),\n",
       " ('enzo', 'H2I_Density'),\n",
       " ('enzo', 'H2I_kdiss'),\n",
       " ('enzo', 'HII_Density'),\n",
       " ('enzo', 'HI_Density'),\n",
       " ('enzo', 'HI_kph'),\n",
       " ('enzo', 'HM_Density'),\n",
       " ('enzo', 'HeIII_Density'),\n",
       " ('enzo', 'HeII_Density'),\n",
       " ('enzo', 'HeI_Density'),\n",
       " ('enzo', 'Metal_Density'),\n",
       " ('enzo', 'PhotoGamma'),\n",
       " ('enzo', 'RadAccel1'),\n",
       " ('enzo', 'RadAccel2'),\n",
       " ('enzo', 'RadAccel3'),\n",
       " ('enzo', 'SN_Colour'),\n",
       " ('enzo', 'Temperature'),\n",
       " ('enzo', 'TotalEnergy'),\n",
       " ('enzo', 'x-velocity'),\n",
       " ('enzo', 'y-velocity'),\n",
       " ('enzo', 'z-velocity'),\n",
       " ('io', 'creation_time'),\n",
       " ('io', 'dynamical_time'),\n",
       " ('io', 'metallicity_fraction'),\n",
       " ('io', 'particle_index'),\n",
       " ('io', 'particle_mass'),\n",
       " ('io', 'particle_position_x'),\n",
       " ('io', 'particle_position_y'),\n",
       " ('io', 'particle_position_z'),\n",
       " ('io', 'particle_type'),\n",
       " ('io', 'particle_velocity_x'),\n",
       " ('io', 'particle_velocity_y'),\n",
       " ('io', 'particle_velocity_z')]"
      ]
     },
     "execution_count": 25,
     "metadata": {},
     "output_type": "execute_result"
    }
   ],
   "source": [
    "ds.field_list"
   ]
  },
  {
   "cell_type": "code",
   "execution_count": 2,
   "metadata": {
    "collapsed": true
   },
   "outputs": [],
   "source": [
    "df = pd.read_csv('RD0077/sv.out', sep='\\t', header=1, names=['# group', 'mass', '# part', \n",
    "                                                             'max-dens-x', 'max-dens-y', 'max-dens-z',\n",
    "                                                             'center-of-mass', 'x', 'y', 'z',\n",
    "                                                             'vx', 'vy', 'vz', 'max_r', 'rms-v'], index_col=False)"
   ]
  },
  {
   "cell_type": "code",
   "execution_count": 8,
   "metadata": {},
   "outputs": [
    {
     "name": "stdout",
     "output_type": "stream",
     "text": [
      "           mass         x         y         z     max_r\n",
      "0  5.350675e+09  0.446537  0.430071  0.551629  0.004200\n",
      "1  1.462075e+09  0.443445  0.438602  0.454461  0.001891\n",
      "2  1.198427e+09  0.433447  0.442860  0.466788  0.002190\n",
      "3  1.052338e+09  0.489212  0.522910  0.525787  0.001611\n",
      "4  1.046643e+09  0.441138  0.439269  0.527910  0.003553\n",
      "5  9.299014e+08  0.444160  0.432626  0.552246  0.002340\n",
      "6  9.058334e+08  0.442028  0.437707  0.542757  0.001750\n",
      "7  7.653786e+08  0.440952  0.523491  0.447570  0.001808\n",
      "8  7.443626e+08  0.435687  0.434774  0.564889  0.001450\n",
      "9  7.362714e+08  0.511577  0.558761  0.532011  0.001531\n"
     ]
    }
   ],
   "source": [
    "massive_halos = df[['mass', 'x', 'y', 'z', 'max_r']].head(10)\n",
    "print(massive_halos)"
   ]
  },
  {
   "cell_type": "code",
   "execution_count": 53,
   "metadata": {},
   "outputs": [],
   "source": [
    "fields = [\"density\", \"temperature\", \"H_p1_fraction\"]\n",
    "f = h5py.File('halos.hdf5','w')"
   ]
  },
  {
   "cell_type": "code",
   "execution_count": 54,
   "metadata": {},
   "outputs": [],
   "source": [
    "for row in massive_halos.iterrows():\n",
    "    index, data = row\n",
    "    x, y, z, r = data[['x', 'y', 'z', 'max_r']]\n",
    "    sp = ds.sphere([x, y, z], (r, \"unitary\"))\n",
    "    profile = sp.profile(\"radius\", fields, weight_field=\"cell_mass\")\n",
    "    for field in fields:\n",
    "        f.create_dataset(\"/Halo%02i/%s\" % (index, field), data=profile[field])"
   ]
  },
  {
   "cell_type": "code",
   "execution_count": 55,
   "metadata": {
    "collapsed": true
   },
   "outputs": [],
   "source": [
    "f.close()"
   ]
  },
  {
   "cell_type": "code",
   "execution_count": null,
   "metadata": {
    "collapsed": true
   },
   "outputs": [],
   "source": []
  }
 ],
 "metadata": {
  "kernelspec": {
   "display_name": "Python 3",
   "language": "python3.6",
   "name": "python3"
  },
  "language_info": {
   "codemirror_mode": {
    "name": "ipython",
    "version": 3
   },
   "file_extension": ".py",
   "mimetype": "text/x-python",
   "name": "python",
   "nbconvert_exporter": "python",
   "pygments_lexer": "ipython3",
   "version": "3.6.3"
  }
 },
 "nbformat": 4,
 "nbformat_minor": 2
}
