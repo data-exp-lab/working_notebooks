{
 "cells": [
  {
   "cell_type": "code",
   "execution_count": 1,
   "metadata": {},
   "outputs": [],
   "source": [
    "import yt\n",
    "import ytree"
   ]
  },
  {
   "cell_type": "code",
   "execution_count": 2,
   "metadata": {},
   "outputs": [],
   "source": [
    "t = ytree.load(\"work/data/merger_trees/normal_bg1/normal_bg1.h5\")"
   ]
  },
  {
   "cell_type": "code",
   "execution_count": 3,
   "metadata": {},
   "outputs": [],
   "source": [
    "#t.field_info"
   ]
  },
  {
   "cell_type": "code",
   "execution_count": 4,
   "metadata": {},
   "outputs": [],
   "source": [
    "m = t[\"mass\"]\n",
    "x = t[\"position_x\"]\n",
    "y = t[\"position_y\"]\n",
    "z = t[\"position_z\"]\n",
    "r = t[\"virial_radius\"]"
   ]
  },
  {
   "cell_type": "code",
   "execution_count": 5,
   "metadata": {},
   "outputs": [
    {
     "data": {
      "text/plain": [
       "[(2881690140.845071 Msun,\n",
       "  0.4461651408450704 unitary,\n",
       "  0.43067077464788733 unitary,\n",
       "  0.5521066901408451 unitary,\n",
       "  47.022535211267616 kpc),\n",
       " (1636619718.3098593 Msun,\n",
       "  0.4475609154929578 unitary,\n",
       "  0.4288007042253521 unitary,\n",
       "  0.5501584507042253 unitary,\n",
       "  38.942253521126766 kpc),\n",
       " (1260563380.2816904 Msun,\n",
       "  0.4205704225352113 unitary,\n",
       "  0.4365468309859155 unitary,\n",
       "  0.5502478873239437 unitary,\n",
       "  35.695774647887326 kpc),\n",
       " (1127323943.661972 Msun,\n",
       "  0.42071936619718314 unitary,\n",
       "  0.4144341549295775 unitary,\n",
       "  0.5323911971830987 unitary,\n",
       "  34.39295774647888 kpc),\n",
       " (1112253521.1267607 Msun,\n",
       "  0.410230985915493 unitary,\n",
       "  0.4163091549295775 unitary,\n",
       "  0.5371676056338028 unitary,\n",
       "  34.238028169014086 kpc),\n",
       " (1059436619.71831 Msun,\n",
       "  0.4433077464788733 unitary,\n",
       "  0.43876584507042254 unitary,\n",
       "  0.4544517605633803 unitary,\n",
       "  33.68732394366197 kpc),\n",
       " (970281690.1408452 Msun,\n",
       "  0.4235704225352113 unitary,\n",
       "  0.49871091549295776 unitary,\n",
       "  0.45812887323943663 unitary,\n",
       "  32.715492957746484 kpc),\n",
       " (948169014.0845071 Msun,\n",
       "  0.48928450704225357 unitary,\n",
       "  0.5228788732394366 unitary,\n",
       "  0.5258200704225352 unitary,\n",
       "  32.46338028169014 kpc),\n",
       " (836338028.1690142 Msun,\n",
       "  0.43345985915492957 unitary,\n",
       "  0.44268239436619716 unitary,\n",
       "  0.4666771126760563 unitary,\n",
       "  31.135211267605637 kpc),\n",
       " (822394366.1971831 Msun,\n",
       "  0.42635774647887326 unitary,\n",
       "  0.45639436619718315 unitary,\n",
       "  0.421030985915493 unitary,\n",
       "  30.96056338028169 kpc)]"
      ]
     },
     "execution_count": 5,
     "metadata": {},
     "output_type": "execute_result"
    }
   ],
   "source": [
    "#10 massive halos, center, and radius\n",
    "sorted(zip(m, x, y, z, r), reverse=True)[:10]"
   ]
  },
  {
   "cell_type": "code",
   "execution_count": 6,
   "metadata": {},
   "outputs": [],
   "source": [
    "ds = yt.load(\"work/data/RD0077/RedshiftOutput0077\")"
   ]
  },
  {
   "cell_type": "code",
   "execution_count": 7,
   "metadata": {},
   "outputs": [],
   "source": [
    "#ds.field_list"
   ]
  },
  {
   "cell_type": "code",
   "execution_count": 8,
   "metadata": {},
   "outputs": [
    {
     "name": "stderr",
     "output_type": "stream",
     "text": [
      "Parsing Hierarchy : 100%|██████████| 336932/336932 [00:27<00:00, 12392.09it/s]\n"
     ]
    }
   ],
   "source": [
    "sphere = ds.sphere(\"c\", (100.0, \"kpc\"))"
   ]
  },
  {
   "cell_type": "code",
   "execution_count": null,
   "metadata": {},
   "outputs": [],
   "source": [
    "plot = yt.ProfilePlot(sphere, \"radius\", \"density\", weight_field=None)"
   ]
  },
  {
   "cell_type": "code",
   "execution_count": null,
   "metadata": {},
   "outputs": [],
   "source": []
  }
 ],
 "metadata": {
  "kernelspec": {
   "display_name": "Python 3",
   "language": "python",
   "name": "python3"
  },
  "language_info": {
   "codemirror_mode": {
    "name": "ipython",
    "version": 3
   },
   "file_extension": ".py",
   "mimetype": "text/x-python",
   "name": "python",
   "nbconvert_exporter": "python",
   "pygments_lexer": "ipython3",
   "version": "3.6.3"
  }
 },
 "nbformat": 4,
 "nbformat_minor": 2
}
