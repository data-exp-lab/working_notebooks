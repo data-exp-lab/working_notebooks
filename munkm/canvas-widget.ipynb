{
 "cells": [
  {
   "cell_type": "code",
   "execution_count": 1,
   "metadata": {
    "collapsed": true
   },
   "outputs": [],
   "source": [
    "from IPython.display import display"
   ]
  },
  {
   "cell_type": "code",
   "execution_count": 2,
   "metadata": {
    "collapsed": true
   },
   "outputs": [],
   "source": [
    "import numpy as np\n",
    "import yt_pycanvas"
   ]
  },
  {
   "cell_type": "code",
   "execution_count": 33,
   "metadata": {
    "collapsed": true
   },
   "outputs": [],
   "source": [
    "image_array = (np.random.random((100, 100, 4))*255).astype(\"uint8\")\n",
    "image_array[...,3] = 254"
   ]
  },
  {
   "cell_type": "code",
   "execution_count": 34,
   "metadata": {},
   "outputs": [
    {
     "data": {
      "application/vnd.jupyter.widget-view+json": {
       "model_id": "fc4d0adf81ab4202a54ff4790ce7c22e",
       "version_major": 2,
       "version_minor": 0
      },
      "text/html": [
       "<p>Failed to display Jupyter Widget of type <code>ImageCanvas</code>.</p>\n",
       "<p>\n",
       "  If you're reading this message in the Jupyter Notebook or JupyterLab Notebook, it may mean\n",
       "  that the widgets JavaScript is still loading. If this message persists, it\n",
       "  likely means that the widgets JavaScript library is either not installed or\n",
       "  not enabled. See the <a href=\"https://ipywidgets.readthedocs.io/en/stable/user_install.html\">Jupyter\n",
       "  Widgets Documentation</a> for setup instructions.\n",
       "</p>\n",
       "<p>\n",
       "  If you're reading this message in another frontend (for example, a static\n",
       "  rendering on GitHub or <a href=\"https://nbviewer.jupyter.org/\">NBViewer</a>),\n",
       "  it may mean that your frontend doesn't currently support widgets.\n",
       "</p>\n"
      ],
      "text/plain": [
       "ImageCanvas(image_array=array([[[ 65,  93, 168, 254],\n",
       "        [ 48, 199,  87, 254],\n",
       "        [226, 157,  60, 254],\n",
       "        ..., \n",
       "        [ 60, 192, 215, 254],\n",
       "        [212,  98, 208, 254],\n",
       "        [ 13,  66, 225, 254]],\n",
       "\n",
       "       [[177, 156, 191, 254],\n",
       "        [232,  95, 208, 254],\n",
       "        [ 30, 140, 112, 254],\n",
       "        ..., \n",
       "        [ 98, 108, 208, 254],\n",
       "        [176,  65, 127, 254],\n",
       "        [191,  50, 253, 254]],\n",
       "\n",
       "       [[219,  32,  28, 254],\n",
       "        [144, 192, 217, 254],\n",
       "        [ 81, 175,  49, 254],\n",
       "        ..., \n",
       "        [ 84, 223, 243, 254],\n",
       "        [222,  76, 106, 254],\n",
       "        [190,  65,  82, 254]],\n",
       "\n",
       "       ..., \n",
       "       [[130, 201,  45, 254],\n",
       "        [136,  23,  86, 254],\n",
       "        [239, 110,   9, 254],\n",
       "        ..., \n",
       "        [103,  43,  94, 254],\n",
       "        [ 66, 107,  26, 254],\n",
       "        [245,  40, 252, 254]],\n",
       "\n",
       "       [[130,  42, 156, 254],\n",
       "        [144, 242, 254, 254],\n",
       "        [141, 118, 222, 254],\n",
       "        ..., \n",
       "        [137,  96, 175, 254],\n",
       "        [ 81, 209,  75, 254],\n",
       "        [210,  88,  60, 254]],\n",
       "\n",
       "       [[ 92,  15, 129, 254],\n",
       "        [218, 237,  34, 254],\n",
       "        [196, 102,  31, 254],\n",
       "        ..., \n",
       "        [ 89, 148,  39, 254],\n",
       "        [134,  41, 142, 254],\n",
       "        [166, 122, 231, 254]]], dtype=uint8))"
      ]
     },
     "metadata": {},
     "output_type": "display_data"
    }
   ],
   "source": [
    "hw = yt_pycanvas.ImageCanvas(image_array = image_array, width=256, height=256)\n",
    "display(hw)"
   ]
  },
  {
   "cell_type": "code",
   "execution_count": 31,
   "metadata": {},
   "outputs": [],
   "source": [
    "alphas = image_array[:,:,3]"
   ]
  },
  {
   "cell_type": "code",
   "execution_count": 32,
   "metadata": {},
   "outputs": [
    {
     "data": {
      "text/plain": [
       "array([[255, 255, 255, ..., 255, 255, 255],\n",
       "       [255, 255, 255, ..., 255, 255, 255],\n",
       "       [255, 255, 255, ..., 255, 255, 255],\n",
       "       ..., \n",
       "       [255, 255, 255, ..., 255, 255, 255],\n",
       "       [255, 255, 255, ..., 255, 255, 255],\n",
       "       [255, 255, 255, ..., 255, 255, 255]], dtype=uint8)"
      ]
     },
     "execution_count": 32,
     "metadata": {},
     "output_type": "execute_result"
    }
   ],
   "source": [
    "alphas"
   ]
  },
  {
   "cell_type": "code",
   "execution_count": null,
   "metadata": {
    "collapsed": true
   },
   "outputs": [],
   "source": []
  }
 ],
 "metadata": {
  "kernelspec": {
   "display_name": "Python 3",
   "language": "python",
   "name": "python3"
  },
  "language_info": {
   "codemirror_mode": {
    "name": "ipython",
    "version": 3
   },
   "file_extension": ".py",
   "mimetype": "text/x-python",
   "name": "python",
   "nbconvert_exporter": "python",
   "pygments_lexer": "ipython3",
   "version": "3.6.1"
  }
 },
 "nbformat": 4,
 "nbformat_minor": 2
}
