{
 "cells": [
  {
   "cell_type": "code",
   "execution_count": null,
   "metadata": {},
   "outputs": [],
   "source": [
    "import numpy as np\n",
    "import widgyts\n",
    "import ipydatawidgets\n",
    "import ipywidgets\n",
    "import traitlets\n",
    "from IPython.display import DisplayObject, display\n",
    "import yt\n",
    "import h5py"
   ]
  },
  {
   "cell_type": "markdown",
   "metadata": {},
   "source": [
    "First we'll load IsolatedGalaxy, one of the datasets that is used throughout yt's documentation. "
   ]
  },
  {
   "cell_type": "markdown",
   "metadata": {},
   "source": [
    "### Slice from Pop II prime through the densest location "
   ]
  },
  {
   "cell_type": "code",
   "execution_count": null,
   "metadata": {},
   "outputs": [],
   "source": [
    "# loading in the data\n",
    "with h5py.File(\"data/DD0182_slice.h5\", \"r\") as f:\n",
    "    s = {}\n",
    "    for field in (\"px\", \"py\", \"pdx\", \"pdy\", \"density\", \"temperature\"):\n",
    "        s[field] = f[field][:]\n",
    "        \n",
    "# putting data into a FRBViewer (loading the data into wasm)\n",
    "frb_dens = widgyts.FRBViewer(height = 512, width = 512,\n",
    "                            px = s[\"px\"], py = s[\"py\"], pdx = s[\"pdx\"], pdy = s[\"pdy\"],\n",
    "                            val = s[\"density\"],\n",
    "                            layout = ipywidgets.Layout(width = '500px', height='500px'))\n",
    "\n",
    "#using the default controls menu\n",
    "controls = frb_dens.setup_controls()\n",
    "display(ipywidgets.HBox([controls,frb_dens]))"
   ]
  },
  {
   "cell_type": "markdown",
   "metadata": {},
   "source": [
    "Let's add another zoom widget with a log scale. The default uses a linear scale and we quickly have issues if we try to zoom with it. Let's also adjust the colorbar upper colorbar to make the data a little more visible. Note here that manually changing the max_val trait updates the the upper colorbound box in the colormap controls accordion pane."
   ]
  },
  {
   "cell_type": "code",
   "execution_count": null,
   "metadata": {},
   "outputs": [],
   "source": [
    "frb_dens.colormaps.is_log = True\n",
    "frb_dens.colormaps.max_val = 1e-22\n",
    "width_slider = ipywidgets.FloatLogSlider(value = 0.0, max = 0.0, min = np.log10(512 * s[\"pdx\"].min()), base = 10)\n",
    "\n",
    "width_slider.value = 1.0\n",
    "def on_changed(event):\n",
    "    frb_dens.view_width = (event['new'], event['new'])\n",
    "width_slider.observe(on_changed, 'value', 'change')\n",
    "width_slider"
   ]
  },
  {
   "cell_type": "markdown",
   "metadata": {},
   "source": [
    "#### We can also link our widget traitlets to explore multiple fields at the same time. "
   ]
  },
  {
   "cell_type": "code",
   "execution_count": null,
   "metadata": {},
   "outputs": [],
   "source": [
    "frb_temp = widgyts.FRBViewer(height = 512, width = 512,\n",
    "                            px = s[\"px\"], py = s[\"py\"], pdx = s[\"pdx\"], pdy = s[\"pdy\"],\n",
    "                            val = s[\"temperature\"], layout=ipywidgets.Layout(width = '500px', height='500px'))\n",
    "ipywidgets.link((frb_dens, 'view_center'), (frb_temp, 'view_center'))\n",
    "ipywidgets.link((frb_dens, 'view_width'), (frb_temp, 'view_width'))\n",
    "ipywidgets.link((frb_dens.colormaps, 'is_log'), (frb_temp.colormaps, 'is_log'))\n",
    "display(ipywidgets.VBox([width_slider,ipywidgets.HBox([controls,frb_dens, frb_temp])]))\n",
    "\n",
    "### We can also access the temperature field properties through the traitlets associated \n",
    "### with the widget and update them. These will set the max and min vals for the temperature \n",
    "### plot and update its colormap. \n",
    "\n",
    "frb_temp.colormaps.map_name='inferno'\n",
    "frb_temp.colormaps.min_val=5.874986614501054\n",
    "frb_temp.colormaps.max_val=15653.545441919285"
   ]
  },
  {
   "cell_type": "markdown",
   "metadata": {},
   "source": [
    "### Projection of Pop II prime dataset"
   ]
  },
  {
   "cell_type": "markdown",
   "metadata": {},
   "source": [
    "Instead of a slice, let's try and look at a projection of the same dataset. This will use all of the same linking features we looked at above. "
   ]
  },
  {
   "cell_type": "code",
   "execution_count": null,
   "metadata": {},
   "outputs": [],
   "source": [
    "# reading in the projection data\n",
    "with h5py.File(\"data/DD0182_proj.h5\", \"r\") as f:\n",
    "    s = {}\n",
    "    for field in (\"px\", \"py\", \"pdx\", \"pdy\", \"density\", \"temperature\"):\n",
    "        s[field] = f[field][:]\n",
    "\n",
    "# putting the fields into two different FRB views\n",
    "frb_projd = widgyts.FRBViewer(height = 512, width = 512,\n",
    "                            px = s[\"px\"], py = s[\"py\"], pdx = s[\"pdx\"], pdy = s[\"pdy\"],\n",
    "                            val = s[\"density\"], layout=ipywidgets.Layout(width = '500px', height='500px'))\n",
    "frb_projt = widgyts.FRBViewer(height = 512, width = 512,\n",
    "                            px = s[\"px\"], py = s[\"py\"], pdx = s[\"pdx\"], pdy = s[\"pdy\"],\n",
    "                            val = s[\"temperature\"], layout=ipywidgets.Layout(width = '500px', height='500px'))\n",
    "\n",
    "# linking the views so their windows are aligned\n",
    "ipywidgets.link((frb_projd, 'view_center'), (frb_projt, 'view_center'))\n",
    "ipywidgets.link((frb_projd, 'view_width'), (frb_projt, 'view_width'))\n",
    "ipywidgets.link((frb_projd.colormaps, 'is_log'), (frb_projt.colormaps, 'is_log'))\n",
    "\n",
    "#adding in the log slider \n",
    "width_slider2 = ipywidgets.FloatLogSlider(value = 0.0, max = 0.0, min = np.log10(512 * s[\"pdx\"].min()), base = 10)\n",
    "width_slider2.value = 1.0\n",
    "def on_changed(event):\n",
    "    frb_projd.view_width = (event['new'], event['new'])\n",
    "width_slider2.observe(on_changed, 'value', 'change')\n",
    "\n",
    "#adding in the controls\n",
    "controls = frb_projd.setup_controls()\n",
    "display(ipywidgets.VBox([width_slider2,ipywidgets.HBox([controls,frb_projd, frb_projt])]))\n",
    "\n",
    "# setting bounds of the temperature plot\n",
    "frb_projt.colormaps.map_name='inferno'\n",
    "frb_projt.colormaps.min_val=8.5\n",
    "frb_projt.colormaps.max_val=1283\n",
    "\n",
    "# setting the log scale\n",
    "frb_projd.colormaps.is_log = True\n",
    "frb_projd.colormaps.max_val = 1e-24"
   ]
  },
  {
   "cell_type": "code",
   "execution_count": null,
   "metadata": {},
   "outputs": [],
   "source": []
  },
  {
   "cell_type": "code",
   "execution_count": null,
   "metadata": {},
   "outputs": [],
   "source": []
  }
 ],
 "metadata": {
  "kernelspec": {
   "display_name": "Python 3",
   "language": "python",
   "name": "python3"
  },
  "language_info": {
   "codemirror_mode": {
    "name": "ipython",
    "version": 3
   },
   "file_extension": ".py",
   "mimetype": "text/x-python",
   "name": "python",
   "nbconvert_exporter": "python",
   "pygments_lexer": "ipython3",
   "version": "3.6.5"
  }
 },
 "nbformat": 4,
 "nbformat_minor": 2
}
