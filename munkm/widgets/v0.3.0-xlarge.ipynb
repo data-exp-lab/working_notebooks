{
 "cells": [
  {
   "cell_type": "code",
   "execution_count": 1,
   "metadata": {},
   "outputs": [],
   "source": [
    "import numpy as np\n",
    "import widgyts\n",
    "import ipydatawidgets\n",
    "import ipywidgets\n",
    "import traitlets\n",
    "from IPython.display import DisplayObject, display\n",
    "import yt\n",
    "import h5py"
   ]
  },
  {
   "cell_type": "markdown",
   "metadata": {},
   "source": [
    "First we'll load IsolatedGalaxy, one of the datasets that is used throughout yt's documentation. "
   ]
  },
  {
   "cell_type": "markdown",
   "metadata": {},
   "source": [
    "### Slice from Pop II prime through the densest location "
   ]
  },
  {
   "cell_type": "code",
   "execution_count": 2,
   "metadata": {},
   "outputs": [
    {
     "data": {
      "application/vnd.jupyter.widget-view+json": {
       "model_id": "f875cd2e1c364b5ca92f0a416f53be4f",
       "version_major": 2,
       "version_minor": 0
      },
      "text/plain": [
       "HBox(children=(Accordion(children=(GridBox(children=(GridBox(children=(Button(icon='arrow-up', layout=Layout(g…"
      ]
     },
     "metadata": {},
     "output_type": "display_data"
    }
   ],
   "source": [
    "# loading in the data\n",
    "with h5py.File(\"/Users/madicken/yt_data/scipydemo/DD0182_slice.h5\", \"r\") as f:\n",
    "    s = {}\n",
    "    for field in (\"px\", \"py\", \"pdx\", \"pdy\", \"density\", \"temperature\"):\n",
    "        s[field] = f[field][:]\n",
    "        \n",
    "# putting data into a FRBViewer (loading the data into wasm)\n",
    "frb_dens = widgyts.FRBViewer(height = 512, width = 512,\n",
    "                            px = s[\"px\"], py = s[\"py\"], pdx = s[\"pdx\"], pdy = s[\"pdy\"],\n",
    "                            val = s[\"density\"],\n",
    "                            layout = ipywidgets.Layout(width = '500px', height='500px'))\n",
    "\n",
    "#using the default controls menu\n",
    "controls = frb_dens.setup_controls()\n",
    "display(ipywidgets.HBox([controls,frb_dens]))"
   ]
  },
  {
   "cell_type": "markdown",
   "metadata": {},
   "source": [
    "Let's add another zoom widget with a log scale. The default uses a linear scale."
   ]
  },
  {
   "cell_type": "code",
   "execution_count": 3,
   "metadata": {},
   "outputs": [
    {
     "data": {
      "application/vnd.jupyter.widget-view+json": {
       "model_id": "11155fb58de34e0c9165568662146d6b",
       "version_major": 2,
       "version_minor": 0
      },
      "text/plain": [
       "FloatLogSlider(value=1.0, max=0.0, min=-8.428839878591473)"
      ]
     },
     "metadata": {},
     "output_type": "display_data"
    }
   ],
   "source": [
    "frb_dens.colormaps.is_log = True\n",
    "width_slider = ipywidgets.FloatLogSlider(value = 0.0, max = 0.0, min = np.log10(512 * s[\"pdx\"].min()), base = 10)\n",
    "\n",
    "width_slider.value = 1.0\n",
    "def on_changed(event):\n",
    "    frb_dens.view_width = (event['new'], event['new'])\n",
    "width_slider.observe(on_changed, 'value', 'change')\n",
    "width_slider"
   ]
  },
  {
   "cell_type": "markdown",
   "metadata": {},
   "source": [
    "#### We can also link our widget traitlets to explore multiple fields at the same time. "
   ]
  },
  {
   "cell_type": "code",
   "execution_count": 4,
   "metadata": {},
   "outputs": [
    {
     "data": {
      "application/vnd.jupyter.widget-view+json": {
       "model_id": "5ee0464898e74482abfadc69f396fe0b",
       "version_major": 2,
       "version_minor": 0
      },
      "text/plain": [
       "VBox(children=(FloatLogSlider(value=0.2959102439385293, max=0.0, min=-8.428839878591473), HBox(children=(Accor…"
      ]
     },
     "metadata": {},
     "output_type": "display_data"
    }
   ],
   "source": [
    "frb_temp = widgyts.FRBViewer(height = 512, width = 512,\n",
    "                            px = s[\"px\"], py = s[\"py\"], pdx = s[\"pdx\"], pdy = s[\"pdy\"],\n",
    "                            val = s[\"temperature\"], layout=ipywidgets.Layout(width = '500px', height='500px'))\n",
    "ipywidgets.link((frb_dens, 'view_center'), (frb_temp, 'view_center'))\n",
    "ipywidgets.link((frb_dens, 'view_width'), (frb_temp, 'view_width'))\n",
    "ipywidgets.link((frb_dens.colormaps, 'is_log'), (frb_temp.colormaps, 'is_log'))\n",
    "display(ipywidgets.VBox([width_slider,ipywidgets.HBox([controls,frb_dens, frb_temp])]))\n",
    "\n",
    "### We can also access the temperature field properties through the traitlets associated \n",
    "### with the widget and update them. These will set the max and min vals for the temperature \n",
    "### plot and update its colormap. \n",
    "\n",
    "frb_temp.colormaps.map_name='inferno'\n",
    "frb_temp.colormaps.min_val=5.874986614501054\n",
    "frb_temp.colormaps.max_val=15653.545441919285"
   ]
  },
  {
   "cell_type": "markdown",
   "metadata": {},
   "source": [
    "### Projection of Pop II prime dataset"
   ]
  },
  {
   "cell_type": "markdown",
   "metadata": {},
   "source": [
    "Instead of a slice, let's try and look at a projection of the same dataset. This will use all of the same linking features we looked at above. "
   ]
  },
  {
   "cell_type": "code",
   "execution_count": 5,
   "metadata": {},
   "outputs": [
    {
     "data": {
      "application/vnd.jupyter.widget-view+json": {
       "model_id": "0e8de6b1a879422dbbcbd51fcac900a1",
       "version_major": 2,
       "version_minor": 0
      },
      "text/plain": [
       "VBox(children=(FloatLogSlider(value=1.0, max=0.0, min=-8.428839878591473), HBox(children=(Accordion(children=(…"
      ]
     },
     "metadata": {},
     "output_type": "display_data"
    }
   ],
   "source": [
    "# reading in the projection data\n",
    "with h5py.File(\"/Users/madicken/yt_data/scipydemo/DD0182_proj.h5\", \"r\") as f:\n",
    "    s = {}\n",
    "    for field in (\"px\", \"py\", \"pdx\", \"pdy\", \"density\", \"temperature\"):\n",
    "        s[field] = f[field][:]\n",
    "\n",
    "# putting the fields into two different FRB views\n",
    "frb_projd = widgyts.FRBViewer(height = 512, width = 512,\n",
    "                            px = s[\"px\"], py = s[\"py\"], pdx = s[\"pdx\"], pdy = s[\"pdy\"],\n",
    "                            val = s[\"density\"], layout=ipywidgets.Layout(width = '500px', height='500px'))\n",
    "frb_projt = widgyts.FRBViewer(height = 512, width = 512,\n",
    "                            px = s[\"px\"], py = s[\"py\"], pdx = s[\"pdx\"], pdy = s[\"pdy\"],\n",
    "                            val = s[\"temperature\"], layout=ipywidgets.Layout(width = '500px', height='500px'))\n",
    "\n",
    "# linking the views so their windows are aligned\n",
    "ipywidgets.link((frb_projd, 'view_center'), (frb_projt, 'view_center'))\n",
    "ipywidgets.link((frb_projd, 'view_width'), (frb_projt, 'view_width'))\n",
    "ipywidgets.link((frb_projd.colormaps, 'is_log'), (frb_projt.colormaps, 'is_log'))\n",
    "\n",
    "#adding in the log slider \n",
    "width_slider2 = ipywidgets.FloatLogSlider(value = 0.0, max = 0.0, min = np.log10(512 * s[\"pdx\"].min()), base = 10)\n",
    "width_slider2.value = 1.0\n",
    "def on_changed(event):\n",
    "    frb_projd.view_width = (event['new'], event['new'])\n",
    "width_slider2.observe(on_changed, 'value', 'change')\n",
    "\n",
    "#adding in the controls\n",
    "controls = frb_projd.setup_controls()\n",
    "display(ipywidgets.VBox([width_slider2,ipywidgets.HBox([controls,frb_projd, frb_projt])]))\n",
    "\n",
    "# setting bounds of the temperature plot\n",
    "frb_projt.colormaps.map_name='inferno'\n",
    "frb_projt.colormaps.min_val=8.5\n",
    "frb_projt.colormaps.max_val=1283\n",
    "\n",
    "# setting the log scale\n",
    "frb_projd.colormaps.is_log = True"
   ]
  },
  {
   "cell_type": "code",
   "execution_count": 9,
   "metadata": {},
   "outputs": [],
   "source": []
  },
  {
   "cell_type": "code",
   "execution_count": null,
   "metadata": {},
   "outputs": [],
   "source": []
  }
 ],
 "metadata": {
  "kernelspec": {
   "display_name": "Python 3",
   "language": "python",
   "name": "python3"
  },
  "language_info": {
   "codemirror_mode": {
    "name": "ipython",
    "version": 3
   },
   "file_extension": ".py",
   "mimetype": "text/x-python",
   "name": "python",
   "nbconvert_exporter": "python",
   "pygments_lexer": "ipython3",
   "version": "3.6.5"
  }
 },
 "nbformat": 4,
 "nbformat_minor": 2
}
