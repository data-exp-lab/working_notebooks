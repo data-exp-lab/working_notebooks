{
 "cells": [
  {
   "cell_type": "code",
   "execution_count": null,
   "metadata": {},
   "outputs": [],
   "source": [
    "import numpy as np\n",
    "import widgyts\n",
    "import ipydatawidgets\n",
    "import ipywidgets\n",
    "import traitlets\n",
    "from IPython.display import DisplayObject, display\n",
    "import yt\n",
    "import h5py"
   ]
  },
  {
   "cell_type": "markdown",
   "metadata": {},
   "source": [
    "### Projection of Pop II prime dataset"
   ]
  },
  {
   "cell_type": "markdown",
   "metadata": {},
   "source": [
    "This next cell demonstrates how the widget can be used to explore large parts of your dataset at once. By linking linking traitlets between widget views of different fields, you can interactively browse multiple fields at the same time. Make sure to click on one of the widget controls buttons (like turning on or off the log scale) -- this will make the first image render. \n",
    "\n",
    "We've implemented a few mouse click features in addition to the widget controls panel. You can drag one image and both should update. You can also double click to center the image at your mouse location. \n",
    "\n",
    "There are two zoom sliders that show up with this dataset. The default that we've implemented in the widget controls is linearly scaled, so it isn't well suited to a dataset like this. The additional slider that is right above the accordion is log scaled and will be more friendly. "
   ]
  },
  {
   "cell_type": "code",
   "execution_count": null,
   "metadata": {},
   "outputs": [],
   "source": [
    "# reading in the projection data\n",
    "with h5py.File(\"data/DD0182_proj.h5\", \"r\") as f:\n",
    "    s = {}\n",
    "    for field in (\"px\", \"py\", \"pdx\", \"pdy\", \"density\", \"temperature\"):\n",
    "        s[field] = f[field][:]\n",
    "\n",
    "# putting the fields into two different FRB views\n",
    "frb_projd = widgyts.FRBViewer(height = 512, width = 512,\n",
    "                            px = s[\"px\"], py = s[\"py\"], pdx = s[\"pdx\"], pdy = s[\"pdy\"],\n",
    "                            val = s[\"density\"], layout=ipywidgets.Layout(width = '500px', height='500px'))\n",
    "frb_projt = widgyts.FRBViewer(height = 512, width = 512,\n",
    "                            px = s[\"px\"], py = s[\"py\"], pdx = s[\"pdx\"], pdy = s[\"pdy\"],\n",
    "                            val = s[\"temperature\"], layout=ipywidgets.Layout(width = '500px', height='500px'))\n",
    "\n",
    "# linking the views so their windows are aligned\n",
    "ipywidgets.link((frb_projd, 'view_center'), (frb_projt, 'view_center'))\n",
    "ipywidgets.link((frb_projd, 'view_width'), (frb_projt, 'view_width'))\n",
    "ipywidgets.link((frb_projd.colormaps, 'is_log'), (frb_projt.colormaps, 'is_log'))\n",
    "\n",
    "#adding in the log slider \n",
    "width_slider2 = ipywidgets.FloatLogSlider(value = 0.0, max = 0.0, min = np.log10(512 * s[\"pdx\"].min()), base = 10)\n",
    "width_slider2.value = 1.0\n",
    "def on_changed(event):\n",
    "    frb_projd.view_width = (event['new'], event['new'])\n",
    "width_slider2.observe(on_changed, 'value', 'change')\n",
    "\n",
    "#adding in the controls\n",
    "controls = frb_projd.setup_controls()\n",
    "display(ipywidgets.VBox([width_slider2,ipywidgets.HBox([controls,frb_projd, frb_projt])]))\n",
    "\n",
    "# setting bounds of the temperature plot\n",
    "frb_projt.colormaps.map_name='inferno'\n",
    "frb_projt.colormaps.min_val=8.5\n",
    "frb_projt.colormaps.max_val=1283\n",
    "\n",
    "# setting the log scale\n",
    "frb_projd.colormaps.is_log = True\n",
    "frb_projd.colormaps.max_val=1.6e-24"
   ]
  },
  {
   "cell_type": "code",
   "execution_count": null,
   "metadata": {},
   "outputs": [],
   "source": []
  },
  {
   "cell_type": "code",
   "execution_count": null,
   "metadata": {},
   "outputs": [],
   "source": []
  }
 ],
 "metadata": {
  "kernelspec": {
   "display_name": "Python 3",
   "language": "python",
   "name": "python3"
  },
  "language_info": {
   "codemirror_mode": {
    "name": "ipython",
    "version": 3
   },
   "file_extension": ".py",
   "mimetype": "text/x-python",
   "name": "python",
   "nbconvert_exporter": "python",
   "pygments_lexer": "ipython3",
   "version": "3.6.5"
  }
 },
 "nbformat": 4,
 "nbformat_minor": 2
}
