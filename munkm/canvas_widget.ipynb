{
 "cells": [
  {
   "cell_type": "code",
   "execution_count": 1,
   "metadata": {
    "collapsed": true
   },
   "outputs": [],
   "source": [
    "import numpy as np\n",
    "import yt_pycanvas\n",
    "import ipydatawidgets\n",
    "from IPython.display import DisplayObject, display\n",
    "import yt"
   ]
  },
  {
   "cell_type": "code",
   "execution_count": 2,
   "metadata": {},
   "outputs": [
    {
     "name": "stderr",
     "output_type": "stream",
     "text": [
      "yt : [INFO     ] 2018-04-27 11:43:56,239 Parameters: current_time              = 0.0060000200028298\n",
      "yt : [INFO     ] 2018-04-27 11:43:56,239 Parameters: domain_dimensions         = [32 32 32]\n",
      "yt : [INFO     ] 2018-04-27 11:43:56,240 Parameters: domain_left_edge          = [ 0.  0.  0.]\n",
      "yt : [INFO     ] 2018-04-27 11:43:56,242 Parameters: domain_right_edge         = [ 1.  1.  1.]\n",
      "yt : [INFO     ] 2018-04-27 11:43:56,243 Parameters: cosmological_simulation   = 0.0\n",
      "Parsing Hierarchy : 100%|██████████| 173/173 [00:00<00:00, 20778.15it/s]\n",
      "yt : [INFO     ] 2018-04-27 11:43:56,268 Gathering a field list (this may take a moment.)\n",
      "/Users/madicken/python/anaconda/envs/py36/lib/python3.6/site-packages/ipydatawidgets/ndarray/traits.py:25: UserWarning: Given trait value dtype \"float64\" does not match required type \"float64\". A coerced copy has been created.\n",
      "  np.dtype(dtype).name))\n"
     ]
    },
    {
     "data": {
      "application/vnd.jupyter.widget-view+json": {
       "model_id": "b20ebd9df3bf4e1f8bcb3329d71242cf",
       "version_major": 2,
       "version_minor": 0
      },
      "text/html": [
       "<p>Failed to display Jupyter Widget of type <code>FRBViewer</code>.</p>\n",
       "<p>\n",
       "  If you're reading this message in the Jupyter Notebook or JupyterLab Notebook, it may mean\n",
       "  that the widgets JavaScript is still loading. If this message persists, it\n",
       "  likely means that the widgets JavaScript library is either not installed or\n",
       "  not enabled. See the <a href=\"https://ipywidgets.readthedocs.io/en/stable/user_install.html\">Jupyter\n",
       "  Widgets Documentation</a> for setup instructions.\n",
       "</p>\n",
       "<p>\n",
       "  If you're reading this message in another frontend (for example, a static\n",
       "  rendering on GitHub or <a href=\"https://nbviewer.jupyter.org/\">NBViewer</a>),\n",
       "  it may mean that your frontend doesn't currently support widgets.\n",
       "</p>\n"
      ],
      "text/plain": [
       "FRBViewer(pdx=array([  1.56250000e-02,   1.56250000e-02,   1.56250000e-02, ...,\n",
       "         6.10351562e-05,   6.10351562e-05,   6.10351562e-05]), pdy=array([  1.56250000e-02,   1.56250000e-02,   1.56250000e-02, ...,\n",
       "         6.10351562e-05,   6.10351562e-05,   6.10351562e-05]), px=array([ 0.015625  ,  0.015625  ,  0.015625  , ...,  0.49749756,\n",
       "        0.49749756,  0.49749756]), py=array([ 0.015625  ,  0.046875  ,  0.078125  , ...,  0.4989624 ,\n",
       "        0.49908447,  0.49920654]), val=array([  4.91956679e-31,   4.94229879e-31,   4.93979518e-31, ...,\n",
       "         2.37242161e-24,   1.88405817e-24,   1.08663196e-24]))"
      ]
     },
     "metadata": {},
     "output_type": "display_data"
    }
   ],
   "source": [
    "ds = yt.load(\"/Users/madicken/Documents/yt_data/IsolatedGalaxy/galaxy0030/galaxy0030\")\n",
    "s = ds.r[:,:,0.5]\n",
    "frb = yt_pycanvas.FRBViewer(height = 512, width = 512,\n",
    "                            px = s[\"px\"], py = s[\"py\"], pdx = s[\"pdx\"], pdy = s[\"pdy\"],\n",
    "                            val = s[\"density\"])\n",
    "display(frb)"
   ]
  },
  {
   "cell_type": "code",
   "execution_count": 6,
   "metadata": {
    "collapsed": true
   },
   "outputs": [],
   "source": [
    "a = dict(px = s[\"px\"], py = s[\"py\"], pdx = s[\"pdx\"], pdy = s[\"pdy\"], val = s[\"density\"])"
   ]
  },
  {
   "cell_type": "code",
   "execution_count": 7,
   "metadata": {},
   "outputs": [
    {
     "name": "stdout",
     "output_type": "stream",
     "text": [
      "float64\n",
      "float64\n",
      "float64\n",
      "float64\n",
      "float64\n"
     ]
    }
   ],
   "source": [
    "for _ in a.values(): print(_.dtype)"
   ]
  },
  {
   "cell_type": "code",
   "execution_count": 3,
   "metadata": {},
   "outputs": [
    {
     "data": {
      "application/vnd.jupyter.widget-view+json": {
       "model_id": "9c615b474c8d44df90a499420a82b68e",
       "version_major": 2,
       "version_minor": 0
      },
      "text/html": [
       "<p>Failed to display Jupyter Widget of type <code>ImageCanvas</code>.</p>\n",
       "<p>\n",
       "  If you're reading this message in the Jupyter Notebook or JupyterLab Notebook, it may mean\n",
       "  that the widgets JavaScript is still loading. If this message persists, it\n",
       "  likely means that the widgets JavaScript library is either not installed or\n",
       "  not enabled. See the <a href=\"https://ipywidgets.readthedocs.io/en/stable/user_install.html\">Jupyter\n",
       "  Widgets Documentation</a> for setup instructions.\n",
       "</p>\n",
       "<p>\n",
       "  If you're reading this message in another frontend (for example, a static\n",
       "  rendering on GitHub or <a href=\"https://nbviewer.jupyter.org/\">NBViewer</a>),\n",
       "  it may mean that your frontend doesn't currently support widgets.\n",
       "</p>\n"
      ],
      "text/plain": [
       "ImageCanvas(image_array=array([[[ 64,  50,   9, 255],\n",
       "        [101, 119, 171, 255],\n",
       "        [117,  59, 208, 255],\n",
       "        ..., \n",
       "        [165, 131, 169, 255],\n",
       "        [ 58,  99,  62, 255],\n",
       "        [191, 154, 191, 255]],\n",
       "\n",
       "       [[ 47, 111,  55, 255],\n",
       "        [ 33,  60, 226, 255],\n",
       "        [ 16,  47, 123, 255],\n",
       "        ..., \n",
       "        [ 47,  21, 117, 255],\n",
       "        [ 33, 201, 245, 255],\n",
       "        [222,  99, 151, 255]],\n",
       "\n",
       "       [[171,  18,  28, 255],\n",
       "        [ 56,  87, 169, 255],\n",
       "        [223, 241, 185, 255],\n",
       "        ..., \n",
       "        [206, 129,  14, 255],\n",
       "        [133,   0, 215, 255],\n",
       "        [ 22, 174,  27, 255]],\n",
       "\n",
       "       ..., \n",
       "       [[112, 108,  94, 255],\n",
       "        [133, 237, 194, 255],\n",
       "        [218, 148, 119, 255],\n",
       "        ..., \n",
       "        [ 71, 148,  19, 255],\n",
       "        [194, 183, 177, 255],\n",
       "        [ 55, 232, 213, 255]],\n",
       "\n",
       "       [[ 67, 161, 219, 255],\n",
       "        [209,  65,  75, 255],\n",
       "        [ 63, 208,  79, 255],\n",
       "        ..., \n",
       "        [131, 252,  62, 255],\n",
       "        [161, 179, 131, 255],\n",
       "        [210, 152, 226, 255]],\n",
       "\n",
       "       [[222, 171, 214, 255],\n",
       "        [202, 151, 135, 255],\n",
       "        [ 59,  74,  18, 255],\n",
       "        ..., \n",
       "        [  9, 118, 252, 255],\n",
       "        [107, 215, 180, 255],\n",
       "        [208,  69,  19, 255]]], dtype=uint8))"
      ]
     },
     "metadata": {},
     "output_type": "display_data"
    }
   ],
   "source": [
    "image_array = (np.random.random((100, 100, 4)) * 255).astype(\"uint8\")\n",
    "image_array[...,3] = 255\n",
    "array_widget = ipydatawidgets.NDArrayWidget(image_array)\n",
    "hw = yt_pycanvas.ImageCanvas(image_array = image_array)\n",
    "\n",
    "display(hw)"
   ]
  },
  {
   "cell_type": "code",
   "execution_count": 5,
   "metadata": {},
   "outputs": [
    {
     "data": {
      "text/plain": [
       "yt.units.yt_array.YTArray"
      ]
     },
     "execution_count": 5,
     "metadata": {},
     "output_type": "execute_result"
    }
   ],
   "source": [
    "type(s[\"density\"])"
   ]
  },
  {
   "cell_type": "code",
   "execution_count": 6,
   "metadata": {},
   "outputs": [
    {
     "data": {
      "text/plain": [
       "yt.units.yt_array.YTArray"
      ]
     },
     "execution_count": 6,
     "metadata": {},
     "output_type": "execute_result"
    }
   ],
   "source": [
    "type(ds.r['density'])"
   ]
  },
  {
   "cell_type": "code",
   "execution_count": 7,
   "metadata": {},
   "outputs": [
    {
     "data": {
      "text/plain": [
       "YTArray([  4.91956679e-31,   4.94229879e-31,   4.93979518e-31, ...,\n",
       "         2.37242161e-24,   1.88405817e-24,   1.08663196e-24]) g/cm**3"
      ]
     },
     "execution_count": 7,
     "metadata": {},
     "output_type": "execute_result"
    }
   ],
   "source": [
    "s['density']"
   ]
  },
  {
   "cell_type": "code",
   "execution_count": 2,
   "metadata": {
    "collapsed": true
   },
   "outputs": [],
   "source": [
    "import matplotlib.colors as mplc"
   ]
  },
  {
   "cell_type": "code",
   "execution_count": 11,
   "metadata": {
    "collapsed": true
   },
   "outputs": [],
   "source": [
    "a = mplc.Colormap('viridis')"
   ]
  },
  {
   "cell_type": "code",
   "execution_count": 14,
   "metadata": {},
   "outputs": [
    {
     "name": "stdout",
     "output_type": "stream",
     "text": [
      "Help on class Normalize in module matplotlib.colors:\n",
      "\n",
      "class Normalize(builtins.object)\n",
      " |  A class which, when called, can normalize data into\n",
      " |  the ``[0.0, 1.0]`` interval.\n",
      " |  \n",
      " |  Methods defined here:\n",
      " |  \n",
      " |  __call__(self, value, clip=None)\n",
      " |      Normalize *value* data in the ``[vmin, vmax]`` interval into\n",
      " |      the ``[0.0, 1.0]`` interval and return it.  *clip* defaults\n",
      " |      to *self.clip* (which defaults to *False*).  If not already\n",
      " |      initialized, *vmin* and *vmax* are initialized using\n",
      " |      *autoscale_None(value)*.\n",
      " |  \n",
      " |  __init__(self, vmin=None, vmax=None, clip=False)\n",
      " |      If *vmin* or *vmax* is not given, they are initialized from the\n",
      " |      minimum and maximum value respectively of the first input\n",
      " |      processed.  That is, *__call__(A)* calls *autoscale_None(A)*.\n",
      " |      If *clip* is *True* and the given value falls outside the range,\n",
      " |      the returned value will be 0 or 1, whichever is closer.\n",
      " |      Returns 0 if::\n",
      " |      \n",
      " |          vmin==vmax\n",
      " |      \n",
      " |      Works with scalars or arrays, including masked arrays.  If\n",
      " |      *clip* is *True*, masked values are set to 1; otherwise they\n",
      " |      remain masked.  Clipping silently defeats the purpose of setting\n",
      " |      the over, under, and masked colors in the colormap, so it is\n",
      " |      likely to lead to surprises; therefore the default is\n",
      " |      *clip* = *False*.\n",
      " |  \n",
      " |  autoscale(self, A)\n",
      " |      Set *vmin*, *vmax* to min, max of *A*.\n",
      " |  \n",
      " |  autoscale_None(self, A)\n",
      " |      autoscale only None-valued vmin or vmax\n",
      " |  \n",
      " |  inverse(self, value)\n",
      " |  \n",
      " |  scaled(self)\n",
      " |      return true if vmin and vmax set\n",
      " |  \n",
      " |  ----------------------------------------------------------------------\n",
      " |  Static methods defined here:\n",
      " |  \n",
      " |  process_value(value)\n",
      " |      Homogenize the input *value* for easy and efficient normalization.\n",
      " |      \n",
      " |      *value* can be a scalar or sequence.\n",
      " |      \n",
      " |      Returns *result*, *is_scalar*, where *result* is a\n",
      " |      masked array matching *value*.  Float dtypes are preserved;\n",
      " |      integer types with two bytes or smaller are converted to\n",
      " |      np.float32, and larger types are converted to np.float.\n",
      " |      Preserving float32 when possible, and using in-place operations,\n",
      " |      can greatly improve speed for large arrays.\n",
      " |      \n",
      " |      Experimental; we may want to add an option to force the\n",
      " |      use of float32.\n",
      " |  \n",
      " |  ----------------------------------------------------------------------\n",
      " |  Data descriptors defined here:\n",
      " |  \n",
      " |  __dict__\n",
      " |      dictionary for instance variables (if defined)\n",
      " |  \n",
      " |  __weakref__\n",
      " |      list of weak references to the object (if defined)\n",
      "\n"
     ]
    }
   ],
   "source": [
    "help(mplc.Normalize)"
   ]
  },
  {
   "cell_type": "code",
   "execution_count": 3,
   "metadata": {
    "collapsed": true
   },
   "outputs": [],
   "source": [
    "import matplotlib.cm as mplcm"
   ]
  },
  {
   "cell_type": "code",
   "execution_count": 4,
   "metadata": {},
   "outputs": [
    {
     "name": "stdout",
     "output_type": "stream",
     "text": [
      "Help on class ScalarMappable in module matplotlib.cm:\n",
      "\n",
      "class ScalarMappable(builtins.object)\n",
      " |  This is a mixin class to support scalar data to RGBA mapping.\n",
      " |  The ScalarMappable makes use of data normalization before returning\n",
      " |  RGBA colors from the given colormap.\n",
      " |  \n",
      " |  Methods defined here:\n",
      " |  \n",
      " |  __init__(self, norm=None, cmap=None)\n",
      " |      Parameters\n",
      " |      ----------\n",
      " |      norm : :class:`matplotlib.colors.Normalize` instance\n",
      " |          The normalizing object which scales data, typically into the\n",
      " |          interval ``[0, 1]``.\n",
      " |          If *None*, *norm* defaults to a *colors.Normalize* object which\n",
      " |          initializes its scaling based on the first data processed.\n",
      " |      cmap : str or :class:`~matplotlib.colors.Colormap` instance\n",
      " |          The colormap used to map normalized data values to RGBA colors.\n",
      " |  \n",
      " |  add_checker(self, checker)\n",
      " |      Add an entry to a dictionary of boolean flags\n",
      " |      that are set to True when the mappable is changed.\n",
      " |  \n",
      " |  autoscale(self)\n",
      " |      Autoscale the scalar limits on the norm instance using the\n",
      " |      current array\n",
      " |  \n",
      " |  autoscale_None(self)\n",
      " |      Autoscale the scalar limits on the norm instance using the\n",
      " |      current array, changing only limits that are None\n",
      " |  \n",
      " |  changed(self)\n",
      " |      Call this whenever the mappable is changed to notify all the\n",
      " |      callbackSM listeners to the 'changed' signal\n",
      " |  \n",
      " |  check_update(self, checker)\n",
      " |      If mappable has changed since the last check,\n",
      " |      return True; else return False\n",
      " |  \n",
      " |  get_array(self)\n",
      " |      Return the array\n",
      " |  \n",
      " |  get_clim(self)\n",
      " |      return the min, max of the color limits for image scaling\n",
      " |  \n",
      " |  get_cmap(self)\n",
      " |      return the colormap\n",
      " |  \n",
      " |  set_array(self, A)\n",
      " |      Set the image array from numpy array *A*\n",
      " |  \n",
      " |  set_clim(self, vmin=None, vmax=None)\n",
      " |      set the norm limits for image scaling; if *vmin* is a length2\n",
      " |      sequence, interpret it as ``(vmin, vmax)`` which is used to\n",
      " |      support setp\n",
      " |      \n",
      " |      ACCEPTS: a length 2 sequence of floats\n",
      " |  \n",
      " |  set_cmap(self, cmap)\n",
      " |      set the colormap for luminance data\n",
      " |      \n",
      " |      ACCEPTS: a colormap or registered colormap name\n",
      " |  \n",
      " |  set_norm(self, norm)\n",
      " |      set the normalization instance\n",
      " |  \n",
      " |  to_rgba(self, x, alpha=None, bytes=False, norm=True)\n",
      " |      Return a normalized rgba array corresponding to *x*.\n",
      " |      \n",
      " |      In the normal case, *x* is a 1-D or 2-D sequence of scalars, and\n",
      " |      the corresponding ndarray of rgba values will be returned,\n",
      " |      based on the norm and colormap set for this ScalarMappable.\n",
      " |      \n",
      " |      There is one special case, for handling images that are already\n",
      " |      rgb or rgba, such as might have been read from an image file.\n",
      " |      If *x* is an ndarray with 3 dimensions,\n",
      " |      and the last dimension is either 3 or 4, then it will be\n",
      " |      treated as an rgb or rgba array, and no mapping will be done.\n",
      " |      If the last dimension is 3, the *alpha* kwarg (defaulting to 1)\n",
      " |      will be used to fill in the transparency.  If the last dimension\n",
      " |      is 4, the *alpha* kwarg is ignored; it does not\n",
      " |      replace the pre-existing alpha.  A ValueError will be raised\n",
      " |      if the third dimension is other than 3 or 4.\n",
      " |      \n",
      " |      In either case, if *bytes* is *False* (default), the rgba\n",
      " |      array will be floats in the 0-1 range; if it is *True*,\n",
      " |      the returned rgba array will be uint8 in the 0 to 255 range.\n",
      " |      \n",
      " |      If norm is False, no normalization of the input data is\n",
      " |      performed, and it is assumed to already be in the range (0-1).\n",
      " |      \n",
      " |      Note: this method assumes the input is well-behaved; it does\n",
      " |      not check for anomalies such as *x* being a masked rgba\n",
      " |      array, or being an integer type other than uint8, or being\n",
      " |      a floating point rgba array with values outside the 0-1 range.\n",
      " |  \n",
      " |  ----------------------------------------------------------------------\n",
      " |  Data descriptors defined here:\n",
      " |  \n",
      " |  __dict__\n",
      " |      dictionary for instance variables (if defined)\n",
      " |  \n",
      " |  __weakref__\n",
      " |      list of weak references to the object (if defined)\n",
      "\n"
     ]
    }
   ],
   "source": [
    "help(mplcm.ScalarMappable)"
   ]
  },
  {
   "cell_type": "code",
   "execution_count": 47,
   "metadata": {},
   "outputs": [],
   "source": [
    "data = np.linspace(0,1,10000).reshape((100,100))"
   ]
  },
  {
   "cell_type": "code",
   "execution_count": 48,
   "metadata": {},
   "outputs": [
    {
     "data": {
      "text/plain": [
       "array([[  0.00000000e+00,   1.00010001e-04,   2.00020002e-04, ...,\n",
       "          9.70097010e-03,   9.80098010e-03,   9.90099010e-03],\n",
       "       [  1.00010001e-02,   1.01010101e-02,   1.02010201e-02, ...,\n",
       "          1.97019702e-02,   1.98019802e-02,   1.99019902e-02],\n",
       "       [  2.00020002e-02,   2.01020102e-02,   2.02020202e-02, ...,\n",
       "          2.97029703e-02,   2.98029803e-02,   2.99029903e-02],\n",
       "       ..., \n",
       "       [  9.70097010e-01,   9.70197020e-01,   9.70297030e-01, ...,\n",
       "          9.79797980e-01,   9.79897990e-01,   9.79998000e-01],\n",
       "       [  9.80098010e-01,   9.80198020e-01,   9.80298030e-01, ...,\n",
       "          9.89798980e-01,   9.89898990e-01,   9.89999000e-01],\n",
       "       [  9.90099010e-01,   9.90199020e-01,   9.90299030e-01, ...,\n",
       "          9.99799980e-01,   9.99899990e-01,   1.00000000e+00]])"
      ]
     },
     "execution_count": 48,
     "metadata": {},
     "output_type": "execute_result"
    }
   ],
   "source": [
    "data"
   ]
  },
  {
   "cell_type": "code",
   "execution_count": 49,
   "metadata": {},
   "outputs": [],
   "source": [
    "mapping = mplcm.ScalarMappable(cmap='viridis')"
   ]
  },
  {
   "cell_type": "code",
   "execution_count": 50,
   "metadata": {},
   "outputs": [],
   "source": [
    "img = mapping.to_rgba(x=data,norm=True)\n",
    "img= img*255\n",
    "img = img.astype(\"uint8\")"
   ]
  },
  {
   "cell_type": "code",
   "execution_count": 51,
   "metadata": {},
   "outputs": [
    {
     "data": {
      "text/plain": [
       "array([[[ 68,   1,  84, 255],\n",
       "        [ 68,   1,  84, 255],\n",
       "        [ 68,   1,  84, 255],\n",
       "        ..., \n",
       "        [ 68,   3,  87, 255],\n",
       "        [ 68,   3,  87, 255],\n",
       "        [ 68,   3,  87, 255]],\n",
       "\n",
       "       [[ 68,   3,  87, 255],\n",
       "        [ 68,   3,  87, 255],\n",
       "        [ 68,   3,  87, 255],\n",
       "        ..., \n",
       "        [ 69,   8,  91, 255],\n",
       "        [ 69,   8,  91, 255],\n",
       "        [ 69,   8,  91, 255]],\n",
       "\n",
       "       [[ 69,   8,  91, 255],\n",
       "        [ 69,   8,  91, 255],\n",
       "        [ 69,   8,  91, 255],\n",
       "        ..., \n",
       "        [ 70,  11,  94, 255],\n",
       "        [ 70,  11,  94, 255],\n",
       "        [ 70,  11,  94, 255]],\n",
       "\n",
       "       ..., \n",
       "       [[236, 228,  26, 255],\n",
       "        [236, 228,  26, 255],\n",
       "        [236, 228,  26, 255],\n",
       "        ..., \n",
       "        [241, 229,  28, 255],\n",
       "        [241, 229,  28, 255],\n",
       "        [241, 229,  28, 255]],\n",
       "\n",
       "       [[241, 229,  28, 255],\n",
       "        [241, 229,  28, 255],\n",
       "        [241, 229,  28, 255],\n",
       "        ..., \n",
       "        [248, 230,  33, 255],\n",
       "        [248, 230,  33, 255],\n",
       "        [248, 230,  33, 255]],\n",
       "\n",
       "       [[248, 230,  33, 255],\n",
       "        [248, 230,  33, 255],\n",
       "        [248, 230,  33, 255],\n",
       "        ..., \n",
       "        [253, 231,  36, 255],\n",
       "        [253, 231,  36, 255],\n",
       "        [253, 231,  36, 255]]], dtype=uint8)"
      ]
     },
     "execution_count": 51,
     "metadata": {},
     "output_type": "execute_result"
    }
   ],
   "source": [
    "img"
   ]
  },
  {
   "cell_type": "code",
   "execution_count": 52,
   "metadata": {},
   "outputs": [
    {
     "data": {
      "application/vnd.jupyter.widget-view+json": {
       "model_id": "822a8694f8714d6b845158b0a5b4df74",
       "version_major": 2,
       "version_minor": 0
      },
      "text/html": [
       "<p>Failed to display Jupyter Widget of type <code>ImageCanvas</code>.</p>\n",
       "<p>\n",
       "  If you're reading this message in the Jupyter Notebook or JupyterLab Notebook, it may mean\n",
       "  that the widgets JavaScript is still loading. If this message persists, it\n",
       "  likely means that the widgets JavaScript library is either not installed or\n",
       "  not enabled. See the <a href=\"https://ipywidgets.readthedocs.io/en/stable/user_install.html\">Jupyter\n",
       "  Widgets Documentation</a> for setup instructions.\n",
       "</p>\n",
       "<p>\n",
       "  If you're reading this message in another frontend (for example, a static\n",
       "  rendering on GitHub or <a href=\"https://nbviewer.jupyter.org/\">NBViewer</a>),\n",
       "  it may mean that your frontend doesn't currently support widgets.\n",
       "</p>\n"
      ],
      "text/plain": [
       "ImageCanvas(image_array=array([[[ 68,   1,  84, 255],\n",
       "        [ 68,   1,  84, 255],\n",
       "        [ 68,   1,  84, 255],\n",
       "        ..., \n",
       "        [ 68,   3,  87, 255],\n",
       "        [ 68,   3,  87, 255],\n",
       "        [ 68,   3,  87, 255]],\n",
       "\n",
       "       [[ 68,   3,  87, 255],\n",
       "        [ 68,   3,  87, 255],\n",
       "        [ 68,   3,  87, 255],\n",
       "        ..., \n",
       "        [ 69,   8,  91, 255],\n",
       "        [ 69,   8,  91, 255],\n",
       "        [ 69,   8,  91, 255]],\n",
       "\n",
       "       [[ 69,   8,  91, 255],\n",
       "        [ 69,   8,  91, 255],\n",
       "        [ 69,   8,  91, 255],\n",
       "        ..., \n",
       "        [ 70,  11,  94, 255],\n",
       "        [ 70,  11,  94, 255],\n",
       "        [ 70,  11,  94, 255]],\n",
       "\n",
       "       ..., \n",
       "       [[236, 228,  26, 255],\n",
       "        [236, 228,  26, 255],\n",
       "        [236, 228,  26, 255],\n",
       "        ..., \n",
       "        [241, 229,  28, 255],\n",
       "        [241, 229,  28, 255],\n",
       "        [241, 229,  28, 255]],\n",
       "\n",
       "       [[241, 229,  28, 255],\n",
       "        [241, 229,  28, 255],\n",
       "        [241, 229,  28, 255],\n",
       "        ..., \n",
       "        [248, 230,  33, 255],\n",
       "        [248, 230,  33, 255],\n",
       "        [248, 230,  33, 255]],\n",
       "\n",
       "       [[248, 230,  33, 255],\n",
       "        [248, 230,  33, 255],\n",
       "        [248, 230,  33, 255],\n",
       "        ..., \n",
       "        [253, 231,  36, 255],\n",
       "        [253, 231,  36, 255],\n",
       "        [253, 231,  36, 255]]], dtype=uint8))"
      ]
     },
     "metadata": {},
     "output_type": "display_data"
    }
   ],
   "source": [
    "hw = yt_pycanvas.ImageCanvas(image_array = img)\n",
    "\n",
    "display(hw)"
   ]
  },
  {
   "cell_type": "code",
   "execution_count": 53,
   "metadata": {},
   "outputs": [
    {
     "data": {
      "text/plain": [
       "(100, 100, 4)"
      ]
     },
     "execution_count": 53,
     "metadata": {},
     "output_type": "execute_result"
    }
   ],
   "source": [
    "np.shape(img)"
   ]
  },
  {
   "cell_type": "code",
   "execution_count": 28,
   "metadata": {},
   "outputs": [
    {
     "name": "stdout",
     "output_type": "stream",
     "text": [
      "Help on class ListedColormap in module matplotlib.colors:\n",
      "\n",
      "class ListedColormap(Colormap)\n",
      " |  Colormap object generated from a list of colors.\n",
      " |  \n",
      " |  This may be most useful when indexing directly into a colormap,\n",
      " |  but it can also be used to generate special colormaps for ordinary\n",
      " |  mapping.\n",
      " |  \n",
      " |  Method resolution order:\n",
      " |      ListedColormap\n",
      " |      Colormap\n",
      " |      builtins.object\n",
      " |  \n",
      " |  Methods defined here:\n",
      " |  \n",
      " |  __init__(self, colors, name='from_list', N=None)\n",
      " |      Make a colormap from a list of colors.\n",
      " |      \n",
      " |      *colors*\n",
      " |          a list of matplotlib color specifications,\n",
      " |          or an equivalent Nx3 or Nx4 floating point array\n",
      " |          (*N* rgb or rgba values)\n",
      " |      *name*\n",
      " |          a string to identify the colormap\n",
      " |      *N*\n",
      " |          the number of entries in the map.  The default is *None*,\n",
      " |          in which case there is one colormap entry for each\n",
      " |          element in the list of colors.  If::\n",
      " |      \n",
      " |              N < len(colors)\n",
      " |      \n",
      " |          the list will be truncated at *N*.  If::\n",
      " |      \n",
      " |              N > len(colors)\n",
      " |      \n",
      " |          the list will be extended by repetition.\n",
      " |  \n",
      " |  ----------------------------------------------------------------------\n",
      " |  Methods inherited from Colormap:\n",
      " |  \n",
      " |  __call__(self, X, alpha=None, bytes=False)\n",
      " |      Parameters\n",
      " |      ----------\n",
      " |      X : scalar, ndarray\n",
      " |          The data value(s) to convert to RGBA.\n",
      " |          For floats, X should be in the interval ``[0.0, 1.0]`` to\n",
      " |          return the RGBA values ``X*100`` percent along the Colormap line.\n",
      " |          For integers, X should be in the interval ``[0, Colormap.N)`` to\n",
      " |          return RGBA values *indexed* from the Colormap with index ``X``.\n",
      " |      alpha : float, None\n",
      " |          Alpha must be a scalar between 0 and 1, or None.\n",
      " |      bytes : bool\n",
      " |          If False (default), the returned RGBA values will be floats in the\n",
      " |          interval ``[0, 1]`` otherwise they will be uint8s in the interval\n",
      " |          ``[0, 255]``.\n",
      " |      \n",
      " |      Returns\n",
      " |      -------\n",
      " |      Tuple of RGBA values if X is scalar, othewise an array of\n",
      " |      RGBA values with a shape of ``X.shape + (4, )``.\n",
      " |  \n",
      " |  is_gray(self)\n",
      " |  \n",
      " |  set_bad(self, color='k', alpha=None)\n",
      " |      Set color to be used for masked values.\n",
      " |  \n",
      " |  set_over(self, color='k', alpha=None)\n",
      " |      Set color to be used for high out-of-range values.\n",
      " |      Requires norm.clip = False\n",
      " |  \n",
      " |  set_under(self, color='k', alpha=None)\n",
      " |      Set color to be used for low out-of-range values.\n",
      " |      Requires norm.clip = False\n",
      " |  \n",
      " |  ----------------------------------------------------------------------\n",
      " |  Data descriptors inherited from Colormap:\n",
      " |  \n",
      " |  __dict__\n",
      " |      dictionary for instance variables (if defined)\n",
      " |  \n",
      " |  __weakref__\n",
      " |      list of weak references to the object (if defined)\n",
      "\n"
     ]
    }
   ],
   "source": [
    "help(mplc.ListedColormap)"
   ]
  },
  {
   "cell_type": "code",
   "execution_count": 33,
   "metadata": {},
   "outputs": [
    {
     "data": {
      "text/plain": [
       "{'inferno': <matplotlib.colors.ListedColormap at 0x117843da0>,\n",
       " 'inferno_r': <matplotlib.colors.ListedColormap at 0x117843dd8>,\n",
       " 'magma': <matplotlib.colors.ListedColormap at 0x117843cc0>,\n",
       " 'magma_r': <matplotlib.colors.ListedColormap at 0x117843d68>,\n",
       " 'plasma': <matplotlib.colors.ListedColormap at 0x117843e10>,\n",
       " 'plasma_r': <matplotlib.colors.ListedColormap at 0x117843e48>,\n",
       " 'viridis': <matplotlib.colors.ListedColormap at 0x117843e80>,\n",
       " 'viridis_r': <matplotlib.colors.ListedColormap at 0x117843eb8>}"
      ]
     },
     "execution_count": 33,
     "metadata": {},
     "output_type": "execute_result"
    }
   ],
   "source": [
    "mplcm.cmaps_listed"
   ]
  },
  {
   "cell_type": "code",
   "execution_count": 43,
   "metadata": {},
   "outputs": [
    {
     "data": {
      "text/plain": [
       "(256, 3)"
      ]
     },
     "execution_count": 43,
     "metadata": {},
     "output_type": "execute_result"
    }
   ],
   "source": [
    "np.shape(mplcm.cmaps_listed['viridis'].colors)"
   ]
  },
  {
   "cell_type": "code",
   "execution_count": 55,
   "metadata": {},
   "outputs": [
    {
     "data": {
      "text/plain": [
       "{'blue': <function yt.visualization.color_maps.<lambda>>,\n",
       " 'green': <function yt.visualization.color_maps.<lambda>>,\n",
       " 'red': <function yt.visualization.color_maps.<lambda>>}"
      ]
     },
     "execution_count": 55,
     "metadata": {},
     "output_type": "execute_result"
    }
   ],
   "source": [
    "mplcm.cubehelix"
   ]
  },
  {
   "cell_type": "code",
   "execution_count": null,
   "metadata": {
    "collapsed": true
   },
   "outputs": [],
   "source": []
  }
 ],
 "metadata": {
  "kernelspec": {
   "display_name": "Python 3",
   "language": "python",
   "name": "python3"
  },
  "language_info": {
   "codemirror_mode": {
    "name": "ipython",
    "version": 3
   },
   "file_extension": ".py",
   "mimetype": "text/x-python",
   "name": "python",
   "nbconvert_exporter": "python",
   "pygments_lexer": "ipython3",
   "version": "3.6.1"
  }
 },
 "nbformat": 4,
 "nbformat_minor": 2
}
