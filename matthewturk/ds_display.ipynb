{
 "cells": [
  {
   "cell_type": "code",
   "execution_count": 1,
   "metadata": {},
   "outputs": [
    {
     "name": "stderr",
     "output_type": "stream",
     "text": [
      "/home/mturk/conda-py3/lib/python3.6/site-packages/h5py/__init__.py:36: FutureWarning: Conversion of the second argument of issubdtype from `float` to `np.floating` is deprecated. In future, it will be treated as `np.float64 == np.dtype(float).type`.\n",
      "  from ._conv import register_converters as _register_converters\n"
     ]
    }
   ],
   "source": [
    "import ipywidgets\n",
    "import traitlets\n",
    "import yt"
   ]
  },
  {
   "cell_type": "code",
   "execution_count": 2,
   "metadata": {},
   "outputs": [],
   "source": [
    "ds = yt.load(\"IsolatedGalaxy/galaxy0030/galaxy0030\")"
   ]
  },
  {
   "cell_type": "code",
   "execution_count": 3,
   "metadata": {},
   "outputs": [],
   "source": [
    "def display_arr(arr):\n",
    "    unit_registry = arr.units.registry\n",
    "    dimension = arr.units.dimensions\n",
    "    equiv = [k for k, v in unit_registry.lut.items() if v[1] is dimension]\n",
    "    dropdown = ipywidgets.Dropdown(options = sorted(equiv), value = str(arr.units))\n",
    "    def arr_updater(arr, texts):\n",
    "        def _value_updater(change):\n",
    "            arr2 = arr.in_units(change['new'])\n",
    "            if arr2.shape == ():\n",
    "                arr2 = [arr2]\n",
    "            for v, t in zip(arr2, texts):\n",
    "                t.value = str(v.value)\n",
    "        return _value_updater\n",
    "    if arr.shape == ():\n",
    "        arr_iter = [arr]\n",
    "    else:\n",
    "        arr_iter = arr\n",
    "    texts = [ipywidgets.Text(value = str(_.value), disabled = True) for _ in arr_iter]\n",
    "    dropdown.observe(arr_updater(arr, texts), names=\"value\")\n",
    "    return ipywidgets.HBox(texts + [dropdown])"
   ]
  },
  {
   "cell_type": "code",
   "execution_count": 4,
   "metadata": {},
   "outputs": [
    {
     "data": {
      "application/vnd.jupyter.widget-view+json": {
       "model_id": "d39cdb57634945c2a0cca57e399d7ad1",
       "version_major": 2,
       "version_minor": 0
      },
      "text/html": [
       "<p>Failed to display Jupyter Widget of type <code>HBox</code>.</p>\n",
       "<p>\n",
       "  If you're reading this message in the Jupyter Notebook or JupyterLab Notebook, it may mean\n",
       "  that the widgets JavaScript is still loading. If this message persists, it\n",
       "  likely means that the widgets JavaScript library is either not installed or\n",
       "  not enabled. See the <a href=\"https://ipywidgets.readthedocs.io/en/stable/user_install.html\">Jupyter\n",
       "  Widgets Documentation</a> for setup instructions.\n",
       "</p>\n",
       "<p>\n",
       "  If you're reading this message in another frontend (for example, a static\n",
       "  rendering on GitHub or <a href=\"https://nbviewer.jupyter.org/\">NBViewer</a>),\n",
       "  it may mean that your frontend doesn't currently support widgets.\n",
       "</p>\n"
      ],
      "text/plain": [
       "HBox(children=(Text(value='1.0', disabled=True), Text(value='1.0', disabled=True), Text(value='1.0', disabled=True), Dropdown(index=9, options=('AU', 'Angstrom', 'R_earth', 'R_jup', 'R_sun', 'Rsun', 'angstrom', 'au', 'cm', 'code_length', 'ft', 'l_geom', 'l_pl', 'ly', 'm', 'mile', 'pc', 'r_earth', 'r_jup', 'r_sun', 'rsun', 'solRad', 'unitary'), value='code_length')))"
      ]
     },
     "metadata": {},
     "output_type": "display_data"
    }
   ],
   "source": [
    "display_arr(ds.domain_width)"
   ]
  },
  {
   "cell_type": "code",
   "execution_count": 5,
   "metadata": {},
   "outputs": [],
   "source": [
    "def display_ds(ds):\n",
    "    attrs = [\"domain_width\", \"domain_left_edge\", \"domain_right_edge\", \"current_time\"]\n",
    "    lb = ipywidgets.VBox([ ipywidgets.Label(value = _) for _ in attrs])\n",
    "    vb = ipywidgets.VBox([ display_arr(getattr(ds, _)) for _ in attrs])\n",
    "    hb = ipywidgets.HBox([lb, vb])\n",
    "    return hb"
   ]
  },
  {
   "cell_type": "code",
   "execution_count": 6,
   "metadata": {},
   "outputs": [
    {
     "data": {
      "application/vnd.jupyter.widget-view+json": {
       "model_id": "4be4f9cd5fc04322ae689d6752d1fe27",
       "version_major": 2,
       "version_minor": 0
      },
      "text/html": [
       "<p>Failed to display Jupyter Widget of type <code>HBox</code>.</p>\n",
       "<p>\n",
       "  If you're reading this message in the Jupyter Notebook or JupyterLab Notebook, it may mean\n",
       "  that the widgets JavaScript is still loading. If this message persists, it\n",
       "  likely means that the widgets JavaScript library is either not installed or\n",
       "  not enabled. See the <a href=\"https://ipywidgets.readthedocs.io/en/stable/user_install.html\">Jupyter\n",
       "  Widgets Documentation</a> for setup instructions.\n",
       "</p>\n",
       "<p>\n",
       "  If you're reading this message in another frontend (for example, a static\n",
       "  rendering on GitHub or <a href=\"https://nbviewer.jupyter.org/\">NBViewer</a>),\n",
       "  it may mean that your frontend doesn't currently support widgets.\n",
       "</p>\n"
      ],
      "text/plain": [
       "HBox(children=(VBox(children=(Label(value='domain_width'), Label(value='domain_left_edge'), Label(value='domain_right_edge'), Label(value='current_time'))), VBox(children=(HBox(children=(Text(value='1.0', disabled=True), Text(value='1.0', disabled=True), Text(value='1.0', disabled=True), Dropdown(index=9, options=('AU', 'Angstrom', 'R_earth', 'R_jup', 'R_sun', 'Rsun', 'angstrom', 'au', 'cm', 'code_length', 'ft', 'l_geom', 'l_pl', 'ly', 'm', 'mile', 'pc', 'r_earth', 'r_jup', 'r_sun', 'rsun', 'solRad', 'unitary'), value='code_length'))), HBox(children=(Text(value='0.0', disabled=True), Text(value='0.0', disabled=True), Text(value='0.0', disabled=True), Dropdown(index=9, options=('AU', 'Angstrom', 'R_earth', 'R_jup', 'R_sun', 'Rsun', 'angstrom', 'au', 'cm', 'code_length', 'ft', 'l_geom', 'l_pl', 'ly', 'm', 'mile', 'pc', 'r_earth', 'r_jup', 'r_sun', 'rsun', 'solRad', 'unitary'), value='code_length'))), HBox(children=(Text(value='1.0', disabled=True), Text(value='1.0', disabled=True), Text(value='1.0', disabled=True), Dropdown(index=9, options=('AU', 'Angstrom', 'R_earth', 'R_jup', 'R_sun', 'Rsun', 'angstrom', 'au', 'cm', 'code_length', 'ft', 'l_geom', 'l_pl', 'ly', 'm', 'mile', 'pc', 'r_earth', 'r_jup', 'r_sun', 'rsun', 'solRad', 'unitary'), value='code_length'))), HBox(children=(Text(value='0.0060000200028298', disabled=True), Dropdown(options=('code_time', 'd', 'day', 'hr', 'min', 's', 't_geom', 't_pl', 'yr'), value='code_time')))))))"
      ]
     },
     "metadata": {},
     "output_type": "display_data"
    }
   ],
   "source": [
    "display_ds(ds)"
   ]
  },
  {
   "cell_type": "code",
   "execution_count": 7,
   "metadata": {},
   "outputs": [],
   "source": [
    "import ipywidgets as widgets # Loads the Widget framework.\n",
    "from IPython.core.magics.namespace import NamespaceMagics # Used to query namespace.\n",
    "\n",
    "# For this example, hide these names, just to avoid polluting the namespace further\n",
    "get_ipython().user_ns_hidden['widgets'] = widgets\n",
    "get_ipython().user_ns_hidden['NamespaceMagics'] = NamespaceMagics"
   ]
  },
  {
   "cell_type": "code",
   "execution_count": 8,
   "metadata": {},
   "outputs": [],
   "source": [
    "class VariableInspectorWindow(object):\n",
    "    instance = None\n",
    "\n",
    "    def __init__(self, ipython):\n",
    "        \"\"\"Public constructor.\"\"\"\n",
    "        if VariableInspectorWindow.instance is not None:\n",
    "            raise Exception(\"\"\"Only one instance of the Variable Inspector can exist at a\n",
    "                time.  Call close() on the active instance before creating a new instance.\n",
    "                If you have lost the handle to the active instance, you can re-obtain it\n",
    "                via `VariableInspectorWindow.instance`.\"\"\")\n",
    "\n",
    "        VariableInspectorWindow.instance = self\n",
    "        self.closed = False\n",
    "        self.namespace = NamespaceMagics()\n",
    "        self.namespace.shell = ipython.kernel.shell\n",
    "\n",
    "        self._box = widgets.Box()\n",
    "        self._box.layout.overflow_y = 'scroll'\n",
    "        self._table = widgets.HTML(value = 'Not hooked')\n",
    "        self._box.children = [self._table]\n",
    "\n",
    "        self._ipython = ipython\n",
    "        self._ipython.events.register('post_run_cell', self._fill)\n",
    "\n",
    "    def close(self):\n",
    "        \"\"\"Close and remove hooks.\"\"\"\n",
    "        if not self.closed:\n",
    "            self._ipython.events.unregister('post_run_cell', self._fill)\n",
    "            self._box.close()\n",
    "            self.closed = True\n",
    "            VariableInspectorWindow.instance = None\n",
    "\n",
    "    def _fill(self):\n",
    "        \"\"\"Fill self with variable information.\"\"\"\n",
    "        values = self.namespace.who_ls()\n",
    "        self._table.value = '<div class=\"rendered_html jp-RenderedHTMLCommon\"><table><thead><tr><th>Name</th><th>Type</th><th>Value</th></tr></thead><tr><td>' + \\\n",
    "            '</td></tr><tr><td>'.join(['{0}</td><td>{1}</td><td>{2}'.format(v, type(eval(v)).__name__, str(eval(v))) for v in values]) + \\\n",
    "            '</td></tr></table></div>'\n",
    "\n",
    "    def _ipython_display_(self):\n",
    "        \"\"\"Called when display() or pyout is used to display the Variable\n",
    "        Inspector.\"\"\"\n",
    "        self._box._ipython_display_()\n"
   ]
  },
  {
   "cell_type": "code",
   "execution_count": null,
   "metadata": {},
   "outputs": [],
   "source": [
    "inspector = VariableInspectorWindow(get_ipython())\n",
    "inspector"
   ]
  },
  {
   "cell_type": "code",
   "execution_count": 10,
   "metadata": {},
   "outputs": [],
   "source": [
    "v = 'this'"
   ]
  },
  {
   "cell_type": "code",
   "execution_count": 11,
   "metadata": {},
   "outputs": [
    {
     "name": "stderr",
     "output_type": "stream",
     "text": [
      "Parsing Hierarchy : 100%|██████████| 173/173 [00:00<00:00, 3389.44it/s]\n"
     ]
    },
    {
     "data": {
      "text/plain": [
       "<yt.data_objects.static_output.FieldTypeContainer at 0x7f4bc01c2b00>"
      ]
     },
     "execution_count": 11,
     "metadata": {},
     "output_type": "execute_result"
    }
   ],
   "source": [
    "ds.fields"
   ]
  },
  {
   "cell_type": "code",
   "execution_count": 12,
   "metadata": {},
   "outputs": [
    {
     "data": {
      "text/plain": [
       "'cell'"
      ]
     },
     "execution_count": 12,
     "metadata": {},
     "output_type": "execute_result"
    }
   ],
   "source": [
    "ds.fields.gas.density.sampling_type"
   ]
  },
  {
   "cell_type": "code",
   "execution_count": 13,
   "metadata": {},
   "outputs": [
    {
     "data": {
      "text/plain": [
       "['__call__',\n",
       " '__class__',\n",
       " '__delattr__',\n",
       " '__dict__',\n",
       " '__dir__',\n",
       " '__doc__',\n",
       " '__eq__',\n",
       " '__format__',\n",
       " '__ge__',\n",
       " '__getattribute__',\n",
       " '__gt__',\n",
       " '__hash__',\n",
       " '__init__',\n",
       " '__init_subclass__',\n",
       " '__le__',\n",
       " '__lt__',\n",
       " '__module__',\n",
       " '__ne__',\n",
       " '__new__',\n",
       " '__reduce__',\n",
       " '__reduce_ex__',\n",
       " '__repr__',\n",
       " '__setattr__',\n",
       " '__sizeof__',\n",
       " '__str__',\n",
       " '__subclasshook__',\n",
       " '__weakref__',\n",
       " '_copy_def',\n",
       " '_function',\n",
       " '_ion_to_label',\n",
       " '_is_ion',\n",
       " '_unit_registry',\n",
       " 'check_available',\n",
       " 'dimensions',\n",
       " 'display_field',\n",
       " 'display_name',\n",
       " 'ds',\n",
       " 'get_dependencies',\n",
       " 'get_label',\n",
       " 'get_latex_display_name',\n",
       " 'get_projected_units',\n",
       " 'get_source',\n",
       " 'get_units',\n",
       " 'name',\n",
       " 'nodal_flag',\n",
       " 'not_in_all',\n",
       " 'output_units',\n",
       " 'particle_type',\n",
       " 'sampling_type',\n",
       " 'take_log',\n",
       " 'unit_registry',\n",
       " 'units',\n",
       " 'validators',\n",
       " 'vector_field']"
      ]
     },
     "execution_count": 13,
     "metadata": {},
     "output_type": "execute_result"
    }
   ],
   "source": [
    "dir(ds.fields.gas.density)"
   ]
  },
  {
   "cell_type": "code",
   "execution_count": 14,
   "metadata": {},
   "outputs": [],
   "source": [
    "density = ds.fields.gas.density"
   ]
  },
  {
   "cell_type": "code",
   "execution_count": 15,
   "metadata": {},
   "outputs": [],
   "source": [
    "import inspect"
   ]
  },
  {
   "cell_type": "code",
   "execution_count": 16,
   "metadata": {},
   "outputs": [
    {
     "data": {
      "text/plain": [
       "[('__annotations__', {}),\n",
       " ('__call__',\n",
       "  <method-wrapper '__call__' of function object at 0x7f4bc02e1488>),\n",
       " ('__class__', function),\n",
       " ('__closure__', (<cell at 0x7f4bc02cc3d8: tuple object at 0x7f4bc0315f88>,)),\n",
       " ('__code__',\n",
       "  <code object _TranslationFunc at 0x7f4bd00eaed0, file \"/home/mturk/yt/yt/yt/fields/derived_field.py\", line 40>),\n",
       " ('__defaults__', None),\n",
       " ('__delattr__',\n",
       "  <method-wrapper '__delattr__' of function object at 0x7f4bc02e1488>),\n",
       " ('__dict__', {'alias_name': ('enzo', 'Density')}),\n",
       " ('__dir__', <function function.__dir__>),\n",
       " ('__doc__', None),\n",
       " ('__eq__', <method-wrapper '__eq__' of function object at 0x7f4bc02e1488>),\n",
       " ('__format__', <function function.__format__>),\n",
       " ('__ge__', <method-wrapper '__ge__' of function object at 0x7f4bc02e1488>),\n",
       " ('__get__', <method-wrapper '__get__' of function object at 0x7f4bc02e1488>),\n",
       " ('__getattribute__',\n",
       "  <method-wrapper '__getattribute__' of function object at 0x7f4bc02e1488>),\n",
       " ('__globals__',\n",
       "  {'DerivedField': yt.fields.derived_field.DerivedField,\n",
       "   'FieldDetector': yt.fields.field_detector.FieldDetector,\n",
       "   'FieldUnitsError': yt.fields.field_exceptions.FieldUnitsError,\n",
       "   'FieldValidator': yt.fields.derived_field.FieldValidator,\n",
       "   'NeedsDataField': yt.fields.field_exceptions.NeedsDataField,\n",
       "   'NeedsGridType': yt.fields.field_exceptions.NeedsGridType,\n",
       "   'NeedsOriginalGrid': yt.fields.field_exceptions.NeedsOriginalGrid,\n",
       "   'NeedsParameter': yt.fields.field_exceptions.NeedsParameter,\n",
       "   'NeedsParameterValue': yt.fields.field_exceptions.NeedsParameterValue,\n",
       "   'NeedsProperty': yt.fields.field_exceptions.NeedsProperty,\n",
       "   'NullFunc': <function yt.fields.derived_field.NullFunc>,\n",
       "   'PY2': False,\n",
       "   'TranslationFunc': <function yt.fields.derived_field.TranslationFunc>,\n",
       "   'Unit': yt.units.unit_object.Unit,\n",
       "   'ValidateDataField': yt.fields.derived_field.ValidateDataField,\n",
       "   'ValidateGridType': yt.fields.derived_field.ValidateGridType,\n",
       "   'ValidateParameter': yt.fields.derived_field.ValidateParameter,\n",
       "   'ValidateProperty': yt.fields.derived_field.ValidateProperty,\n",
       "   'ValidateSpatial': yt.fields.derived_field.ValidateSpatial,\n",
       "   'YTFieldNotFound': yt.utilities.exceptions.YTFieldNotFound,\n",
       "   '__builtins__': {'ArithmeticError': ArithmeticError,\n",
       "    'AssertionError': AssertionError,\n",
       "    'AttributeError': AttributeError,\n",
       "    'BaseException': BaseException,\n",
       "    'BlockingIOError': BlockingIOError,\n",
       "    'BrokenPipeError': BrokenPipeError,\n",
       "    'BufferError': BufferError,\n",
       "    'BytesWarning': BytesWarning,\n",
       "    'ChildProcessError': ChildProcessError,\n",
       "    'ConnectionAbortedError': ConnectionAbortedError,\n",
       "    'ConnectionError': ConnectionError,\n",
       "    'ConnectionRefusedError': ConnectionRefusedError,\n",
       "    'ConnectionResetError': ConnectionResetError,\n",
       "    'DeprecationWarning': DeprecationWarning,\n",
       "    'EOFError': EOFError,\n",
       "    'Ellipsis': Ellipsis,\n",
       "    'EnvironmentError': OSError,\n",
       "    'Exception': Exception,\n",
       "    'False': False,\n",
       "    'FileExistsError': FileExistsError,\n",
       "    'FileNotFoundError': FileNotFoundError,\n",
       "    'FloatingPointError': FloatingPointError,\n",
       "    'FutureWarning': FutureWarning,\n",
       "    'GeneratorExit': GeneratorExit,\n",
       "    'IOError': OSError,\n",
       "    'ImportError': ImportError,\n",
       "    'ImportWarning': ImportWarning,\n",
       "    'IndentationError': IndentationError,\n",
       "    'IndexError': IndexError,\n",
       "    'InterruptedError': InterruptedError,\n",
       "    'IsADirectoryError': IsADirectoryError,\n",
       "    'KeyError': KeyError,\n",
       "    'KeyboardInterrupt': KeyboardInterrupt,\n",
       "    'LookupError': LookupError,\n",
       "    'MemoryError': MemoryError,\n",
       "    'ModuleNotFoundError': ModuleNotFoundError,\n",
       "    'NameError': NameError,\n",
       "    'None': None,\n",
       "    'NotADirectoryError': NotADirectoryError,\n",
       "    'NotImplemented': NotImplemented,\n",
       "    'NotImplementedError': NotImplementedError,\n",
       "    'OSError': OSError,\n",
       "    'OverflowError': OverflowError,\n",
       "    'PendingDeprecationWarning': PendingDeprecationWarning,\n",
       "    'PermissionError': PermissionError,\n",
       "    'ProcessLookupError': ProcessLookupError,\n",
       "    'RecursionError': RecursionError,\n",
       "    'ReferenceError': ReferenceError,\n",
       "    'ResourceWarning': ResourceWarning,\n",
       "    'RuntimeError': RuntimeError,\n",
       "    'RuntimeWarning': RuntimeWarning,\n",
       "    'StopAsyncIteration': StopAsyncIteration,\n",
       "    'StopIteration': StopIteration,\n",
       "    'SyntaxError': SyntaxError,\n",
       "    'SyntaxWarning': SyntaxWarning,\n",
       "    'SystemError': SystemError,\n",
       "    'SystemExit': SystemExit,\n",
       "    'TabError': TabError,\n",
       "    'TimeoutError': TimeoutError,\n",
       "    'True': True,\n",
       "    'TypeError': TypeError,\n",
       "    'UnboundLocalError': UnboundLocalError,\n",
       "    'UnicodeDecodeError': UnicodeDecodeError,\n",
       "    'UnicodeEncodeError': UnicodeEncodeError,\n",
       "    'UnicodeError': UnicodeError,\n",
       "    'UnicodeTranslateError': UnicodeTranslateError,\n",
       "    'UnicodeWarning': UnicodeWarning,\n",
       "    'UserWarning': UserWarning,\n",
       "    'ValueError': ValueError,\n",
       "    'Warning': Warning,\n",
       "    'ZeroDivisionError': ZeroDivisionError,\n",
       "    '__IPYTHON__': True,\n",
       "    '__build_class__': <function __build_class__>,\n",
       "    '__debug__': True,\n",
       "    '__doc__': \"Built-in functions, exceptions, and other objects.\\n\\nNoteworthy: None is the `nil' object; Ellipsis represents `...' in slices.\",\n",
       "    '__import__': <function __import__>,\n",
       "    '__loader__': _frozen_importlib.BuiltinImporter,\n",
       "    '__name__': 'builtins',\n",
       "    '__package__': '',\n",
       "    '__spec__': ModuleSpec(name='builtins', loader=<class '_frozen_importlib.BuiltinImporter'>),\n",
       "    'abs': <function abs>,\n",
       "    'all': <function all>,\n",
       "    'any': <function any>,\n",
       "    'ascii': <function ascii>,\n",
       "    'bin': <function bin>,\n",
       "    'bool': bool,\n",
       "    'bytearray': bytearray,\n",
       "    'bytes': bytes,\n",
       "    'callable': <function callable>,\n",
       "    'chr': <function chr>,\n",
       "    'classmethod': classmethod,\n",
       "    'compile': <function compile>,\n",
       "    'complex': complex,\n",
       "    'copyright': Copyright (c) 2001-2017 Python Software Foundation.\n",
       "    All Rights Reserved.\n",
       "    \n",
       "    Copyright (c) 2000 BeOpen.com.\n",
       "    All Rights Reserved.\n",
       "    \n",
       "    Copyright (c) 1995-2001 Corporation for National Research Initiatives.\n",
       "    All Rights Reserved.\n",
       "    \n",
       "    Copyright (c) 1991-1995 Stichting Mathematisch Centrum, Amsterdam.\n",
       "    All Rights Reserved.,\n",
       "    'credits':     Thanks to CWI, CNRI, BeOpen.com, Zope Corporation and a cast of thousands\n",
       "        for supporting Python development.  See www.python.org for more information.,\n",
       "    'delattr': <function delattr>,\n",
       "    'dict': dict,\n",
       "    'dir': <function dir>,\n",
       "    'display': <function IPython.core.display.display>,\n",
       "    'divmod': <function divmod>,\n",
       "    'enumerate': enumerate,\n",
       "    'eval': <function eval>,\n",
       "    'exec': <function exec>,\n",
       "    'filter': filter,\n",
       "    'float': float,\n",
       "    'format': <function format>,\n",
       "    'frozenset': frozenset,\n",
       "    'get_ipython': <bound method InteractiveShell.get_ipython of <ipykernel.zmqshell.ZMQInteractiveShell object at 0x7f4c3da155c0>>,\n",
       "    'getattr': <function getattr>,\n",
       "    'globals': <function globals>,\n",
       "    'hasattr': <function hasattr>,\n",
       "    'hash': <function hash>,\n",
       "    'help': Type help() for interactive help, or help(object) for help about object.,\n",
       "    'hex': <function hex>,\n",
       "    'id': <function id>,\n",
       "    'input': <bound method Kernel.raw_input of <ipykernel.ipkernel.IPythonKernel object at 0x7f4c3da155f8>>,\n",
       "    'int': int,\n",
       "    'isinstance': <function isinstance>,\n",
       "    'issubclass': <function issubclass>,\n",
       "    'iter': <function iter>,\n",
       "    'len': <function len>,\n",
       "    'license': Type license() to see the full license text,\n",
       "    'list': list,\n",
       "    'locals': <function locals>,\n",
       "    'map': map,\n",
       "    'max': <function max>,\n",
       "    'memoryview': memoryview,\n",
       "    'min': <function min>,\n",
       "    'next': <function next>,\n",
       "    'object': object,\n",
       "    'oct': <function oct>,\n",
       "    'open': <function io.open>,\n",
       "    'ord': <function ord>,\n",
       "    'pow': <function pow>,\n",
       "    'print': <function print>,\n",
       "    'property': property,\n",
       "    'range': range,\n",
       "    'repr': <function repr>,\n",
       "    'reversed': reversed,\n",
       "    'round': <function round>,\n",
       "    'set': set,\n",
       "    'setattr': <function setattr>,\n",
       "    'slice': slice,\n",
       "    'sorted': <function sorted>,\n",
       "    'staticmethod': staticmethod,\n",
       "    'str': str,\n",
       "    'sum': <function sum>,\n",
       "    'super': super,\n",
       "    'tuple': tuple,\n",
       "    'type': type,\n",
       "    'vars': <function vars>,\n",
       "    'zip': zip},\n",
       "   '__cached__': '/home/mturk/yt/yt/yt/fields/__pycache__/derived_field.cpython-36.pyc',\n",
       "   '__doc__': '\\nDerived field base class.\\n\\n',\n",
       "   '__file__': '/home/mturk/yt/yt/yt/fields/derived_field.py',\n",
       "   '__loader__': <_frozen_importlib_external.SourceFileLoader at 0x7f4bca82c320>,\n",
       "   '__name__': 'yt.fields.derived_field',\n",
       "   '__package__': 'yt.fields',\n",
       "   '__spec__': ModuleSpec(name='yt.fields.derived_field', loader=<_frozen_importlib_external.SourceFileLoader object at 0x7f4bca82c320>, origin='/home/mturk/yt/yt/yt/fields/derived_field.py'),\n",
       "   '__warningregistry__': {(\"particle_type for derived fields has been replaced with sampling_type = 'particle'\",\n",
       "     DeprecationWarning,\n",
       "     117): True,\n",
       "    'version': 266},\n",
       "   'contextlib': <module 'contextlib' from '/home/mturk/conda-py3/lib/python3.6/contextlib.py'>,\n",
       "   'ensure_list': <function yt.funcs.ensure_list>,\n",
       "   'inspect': <module 'inspect' from '/home/mturk/conda-py3/lib/python3.6/inspect.py'>,\n",
       "   're': <module 're' from '/home/mturk/conda-py3/lib/python3.6/re.py'>,\n",
       "   'string_types': (str,),\n",
       "   'warnings': <module 'warnings' from '/home/mturk/conda-py3/lib/python3.6/warnings.py'>,\n",
       "   'ytdims': <module 'yt.units.dimensions' from '/home/mturk/yt/yt/yt/units/dimensions.py'>}),\n",
       " ('__gt__', <method-wrapper '__gt__' of function object at 0x7f4bc02e1488>),\n",
       " ('__hash__',\n",
       "  <method-wrapper '__hash__' of function object at 0x7f4bc02e1488>),\n",
       " ('__init__',\n",
       "  <method-wrapper '__init__' of function object at 0x7f4bc02e1488>),\n",
       " ('__init_subclass__', <function function.__init_subclass__>),\n",
       " ('__kwdefaults__', None),\n",
       " ('__le__', <method-wrapper '__le__' of function object at 0x7f4bc02e1488>),\n",
       " ('__lt__', <method-wrapper '__lt__' of function object at 0x7f4bc02e1488>),\n",
       " ('__module__', 'yt.fields.derived_field'),\n",
       " ('__name__', '_TranslationFunc'),\n",
       " ('__ne__', <method-wrapper '__ne__' of function object at 0x7f4bc02e1488>),\n",
       " ('__new__', <function function.__new__>),\n",
       " ('__qualname__', 'TranslationFunc.<locals>._TranslationFunc'),\n",
       " ('__reduce__', <function function.__reduce__>),\n",
       " ('__reduce_ex__', <function function.__reduce_ex__>),\n",
       " ('__repr__',\n",
       "  <method-wrapper '__repr__' of function object at 0x7f4bc02e1488>),\n",
       " ('__setattr__',\n",
       "  <method-wrapper '__setattr__' of function object at 0x7f4bc02e1488>),\n",
       " ('__sizeof__', <function function.__sizeof__>),\n",
       " ('__str__', <method-wrapper '__str__' of function object at 0x7f4bc02e1488>),\n",
       " ('__subclasshook__', <function function.__subclasshook__>),\n",
       " ('alias_name', ('enzo', 'Density'))]"
      ]
     },
     "execution_count": 16,
     "metadata": {},
     "output_type": "execute_result"
    }
   ],
   "source": [
    "inspect.getmembers(density._function)"
   ]
  },
  {
   "cell_type": "code",
   "execution_count": 18,
   "metadata": {},
   "outputs": [
    {
     "data": {
      "text/plain": [
       "ClosureVars(nonlocals={'field_name': ('enzo', 'Density')}, globals={}, builtins={}, unbound={'copy'})"
      ]
     },
     "execution_count": 18,
     "metadata": {},
     "output_type": "execute_result"
    }
   ],
   "source": [
    "inspect.getclosurevars(density._function)"
   ]
  },
  {
   "cell_type": "code",
   "execution_count": 19,
   "metadata": {},
   "outputs": [],
   "source": [
    "def display_field_source(fobj):\n",
    "    source = ipywidgets.Textarea(value = fobj.get_source())\n",
    "    ac = ipywidgets.Accordion([source])\n",
    "    ac.set_title(0, \"Source\")\n",
    "    return ac"
   ]
  },
  {
   "cell_type": "code",
   "execution_count": null,
   "metadata": {},
   "outputs": [],
   "source": []
  },
  {
   "cell_type": "code",
   "execution_count": 20,
   "metadata": {},
   "outputs": [],
   "source": [
    "ac = display_field_source(density)"
   ]
  },
  {
   "cell_type": "code",
   "execution_count": 22,
   "metadata": {},
   "outputs": [
    {
     "data": {
      "text/plain": [
       "(Textarea(value='    def _TranslationFunc(field, data):\\n        # We do a bunch of in-place modifications, so we will copy this.\\n        return data[field_name].copy()\\n'),)"
      ]
     },
     "execution_count": 22,
     "metadata": {},
     "output_type": "execute_result"
    }
   ],
   "source": [
    "ac.children"
   ]
  },
  {
   "cell_type": "code",
   "execution_count": 26,
   "metadata": {},
   "outputs": [],
   "source": [
    "ac.children[0].style.width = '100%'"
   ]
  },
  {
   "cell_type": "code",
   "execution_count": 27,
   "metadata": {},
   "outputs": [
    {
     "data": {
      "application/vnd.jupyter.widget-view+json": {
       "model_id": "59923e01d8324c27820784ba13100855",
       "version_major": 2,
       "version_minor": 0
      },
      "text/html": [
       "<p>Failed to display Jupyter Widget of type <code>Accordion</code>.</p>\n",
       "<p>\n",
       "  If you're reading this message in the Jupyter Notebook or JupyterLab Notebook, it may mean\n",
       "  that the widgets JavaScript is still loading. If this message persists, it\n",
       "  likely means that the widgets JavaScript library is either not installed or\n",
       "  not enabled. See the <a href=\"https://ipywidgets.readthedocs.io/en/stable/user_install.html\">Jupyter\n",
       "  Widgets Documentation</a> for setup instructions.\n",
       "</p>\n",
       "<p>\n",
       "  If you're reading this message in another frontend (for example, a static\n",
       "  rendering on GitHub or <a href=\"https://nbviewer.jupyter.org/\">NBViewer</a>),\n",
       "  it may mean that your frontend doesn't currently support widgets.\n",
       "</p>\n"
      ],
      "text/plain": [
       "Accordion(children=(Textarea(value='    def _TranslationFunc(field, data):\\n        # We do a bunch of in-place modifications, so we will copy this.\\n        return data[field_name].copy()\\n'),), _titles={'0': 'Source'})"
      ]
     },
     "metadata": {},
     "output_type": "display_data"
    }
   ],
   "source": [
    "ac"
   ]
  },
  {
   "cell_type": "code",
   "execution_count": 28,
   "metadata": {},
   "outputs": [],
   "source": [
    "import pygments"
   ]
  },
  {
   "cell_type": "code",
   "execution_count": 30,
   "metadata": {},
   "outputs": [
    {
     "data": {
      "text/plain": [
       "{'all', 'deposit', 'enzo', 'gas', 'index', 'io'}"
      ]
     },
     "execution_count": 30,
     "metadata": {},
     "output_type": "execute_result"
    }
   ],
   "source": [
    "ds.fields.field_types"
   ]
  },
  {
   "cell_type": "code",
   "execution_count": 124,
   "metadata": {},
   "outputs": [],
   "source": [
    "def display_all_fields(ds):\n",
    "    fnames = []\n",
    "    children = []\n",
    "    for ftype in sorted(ds.fields.field_types):\n",
    "        fnc = getattr(ds.fields, ftype)\n",
    "        names = dir(fnc)\n",
    "        names.sort()\n",
    "        def change_field(_ftype, _box, _var_window):\n",
    "            def _change_field(event):\n",
    "                fobj = getattr(_ftype, event['new'])\n",
    "                _box.value = fobj.get_source()\n",
    "                values = inspect.getclosurevars(fobj._function).nonlocals\n",
    "                _var_window.value = '<div class=\"rendered_html jp-RenderedHTMLCommon\"><table><thead><tr><th>Name</th><th>Type</th><th>Value</th></tr></thead><tr><td>' + \\\n",
    "            '</td></tr><tr><td>'.join(['{0}</td><td>{1}</td><td>{2}'.format(v, type(values[v]).__name__, str(values[v])) for v in sorted(values)]) + \\\n",
    "            '</td></tr></table></div>'\n",
    "            return _change_field\n",
    "        flist = ipywidgets.Select(options = names, layout = ipywidgets.Layout(height = '95%'))\n",
    "        source = ipywidgets.Textarea(layout = ipywidgets.Layout(width = '100%', height = '8em'))\n",
    "        var_window = ipywidgets.HTML(value = 'Empty')\n",
    "        var_box = ipywidgets.Box(layout = ipywidgets.Layout(width = '100%', height = '100%', overflow_y = 'scroll'))\n",
    "        var_box.children = [var_window]\n",
    "        ftype_tabs = ipywidgets.Tab(children = [source, var_box], layout = ipywidgets.Layout(flex = '2 1 auto', width = 'auto', height = '95%'))\n",
    "        ftype_tabs.set_title(0, \"Source\")\n",
    "        ftype_tabs.set_title(1, \"Variables\")\n",
    "        flist.observe(change_field(fnc, source, var_window), \"value\")\n",
    "        children.append(ipywidgets.HBox([flist, ftype_tabs], layout = ipywidgets.Layout(height = '14em')))\n",
    "        fnames.append(ftype)\n",
    "    tabs = ipywidgets.Tab(children = children)\n",
    "    for i, n in enumerate(fnames):\n",
    "        tabs.set_title(i, n)\n",
    "    return tabs"
   ]
  },
  {
   "cell_type": "code",
   "execution_count": 125,
   "metadata": {},
   "outputs": [
    {
     "data": {
      "application/vnd.jupyter.widget-view+json": {
       "model_id": "b7a651d28d2f4698ab068ff6acb3f6cf",
       "version_major": 2,
       "version_minor": 0
      },
      "text/html": [
       "<p>Failed to display Jupyter Widget of type <code>Tab</code>.</p>\n",
       "<p>\n",
       "  If you're reading this message in the Jupyter Notebook or JupyterLab Notebook, it may mean\n",
       "  that the widgets JavaScript is still loading. If this message persists, it\n",
       "  likely means that the widgets JavaScript library is either not installed or\n",
       "  not enabled. See the <a href=\"https://ipywidgets.readthedocs.io/en/stable/user_install.html\">Jupyter\n",
       "  Widgets Documentation</a> for setup instructions.\n",
       "</p>\n",
       "<p>\n",
       "  If you're reading this message in another frontend (for example, a static\n",
       "  rendering on GitHub or <a href=\"https://nbviewer.jupyter.org/\">NBViewer</a>),\n",
       "  it may mean that your frontend doesn't currently support widgets.\n",
       "</p>\n"
      ],
      "text/plain": [
       "Tab(children=(HBox(children=(Select(layout=Layout(height='95%'), options=('age', 'creation_time', 'dynamical_time', 'mesh_id', 'metallicity_fraction', 'particle_angular_momentum', 'particle_angular_momentum_magnitude', 'particle_angular_momentum_x', 'particle_angular_momentum_y', 'particle_angular_momentum_z', 'particle_cylindrical_velocity_theta', 'particle_cylindrical_velocity_z', 'particle_index', 'particle_mass', 'particle_ones', 'particle_position', 'particle_position_cylindrical_radius', 'particle_position_cylindrical_theta', 'particle_position_cylindrical_z', 'particle_position_relative', 'particle_position_relative_x', 'particle_position_relative_y', 'particle_position_relative_z', 'particle_position_spherical_phi', 'particle_position_spherical_radius', 'particle_position_spherical_theta', 'particle_position_x', 'particle_position_y', 'particle_position_z', 'particle_radial_velocity', 'particle_radius', 'particle_specific_angular_momentum', 'particle_specific_angular_momentum_x', 'particle_specific_angular_momentum_y', 'particle_specific_angular_momentum_z', 'particle_spherical_position_phi', 'particle_spherical_position_radius', 'particle_spherical_position_theta', 'particle_spherical_velocity_phi', 'particle_spherical_velocity_radius', 'particle_spherical_velocity_theta', 'particle_type', 'particle_velocity', 'particle_velocity_cylindrical_radius', 'particle_velocity_cylindrical_theta', 'particle_velocity_cylindrical_z', 'particle_velocity_magnitude', 'particle_velocity_relative', 'particle_velocity_relative_x', 'particle_velocity_relative_y', 'particle_velocity_relative_z', 'particle_velocity_spherical_phi', 'particle_velocity_spherical_radius', 'particle_velocity_spherical_theta', 'particle_velocity_x', 'particle_velocity_y', 'particle_velocity_z'), value='age'), Tab(children=(Textarea(value='', layout=Layout(height='8em', width='100%')), Box(children=(HTML(value='Empty'),), layout=Layout(height='100%', overflow_y='scroll', width='100%'))), layout=Layout(flex='2 1 auto', height='95%', width='auto'), _titles={'0': 'Source', '1': 'Variables'})), layout=Layout(height='14em')), HBox(children=(Select(layout=Layout(height='95%'), options=('all_cic', 'all_cic_age', 'all_cic_velocity_x', 'all_cic_velocity_y', 'all_cic_velocity_z', 'all_count', 'all_density', 'all_mass', 'all_nn_age', 'all_nn_velocity_x', 'all_nn_velocity_y', 'all_nn_velocity_z', 'io_cic', 'io_cic_age', 'io_cic_velocity_x', 'io_cic_velocity_y', 'io_cic_velocity_z', 'io_count', 'io_density', 'io_mass', 'io_nn_age', 'io_nn_velocity_x', 'io_nn_velocity_y', 'io_nn_velocity_z'), value='all_cic'), Tab(children=(Textarea(value='', layout=Layout(height='8em', width='100%')), Box(children=(HTML(value='Empty'),), layout=Layout(height='100%', overflow_y='scroll', width='100%'))), layout=Layout(flex='2 1 auto', height='95%', width='auto'), _titles={'0': 'Source', '1': 'Variables'})), layout=Layout(height='14em')), HBox(children=(Select(layout=Layout(height='95%'), options=('Average_creation_time', 'Bx', 'By', 'Bz', 'Cooling_Time', 'Dark_Matter_Density', 'Density', 'Electron_Density', 'Forming_Stellar_Mass_Density', 'Galaxy1Colour', 'Galaxy2Colour', 'HII_Density', 'HI_Density', 'HeIII_Density', 'HeII_Density', 'HeI_Density', 'MBHColour', 'Metal_Density', 'PhiField', 'Phi_pField', 'SFR_Density', 'Star_Particle_Density', 'Temperature', 'TotalEnergy', 'cell_volume', 'dx', 'dy', 'dz', 'gammaHI', 'kphHI', 'kphHeI', 'kphHeII', 'path_element_x', 'path_element_y', 'path_element_z', 'vertex_x', 'vertex_y', 'vertex_z', 'x', 'x-velocity', 'y', 'y-velocity', 'z', 'z-velocity'), value='Average_creation_time'), Tab(children=(Textarea(value='', layout=Layout(height='8em', width='100%')), Box(children=(HTML(value='Empty'),), layout=Layout(height='100%', overflow_y='scroll', width='100%'))), layout=Layout(flex='2 1 auto', height='95%', width='auto'), _titles={'0': 'Source', '1': 'Variables'})), layout=Layout(height='14em')), HBox(children=(Select(layout=Layout(height='95%'), options=('El_density', 'El_fraction', 'El_mass', 'El_number_density', 'H_density', 'H_fraction', 'H_mass', 'H_nuclei_density', 'H_number_density', 'H_p0_density', 'H_p0_fraction', 'H_p0_mass', 'H_p0_number_density', 'H_p1_density', 'H_p1_fraction', 'H_p1_mass', 'H_p1_number_density', 'He_density', 'He_fraction', 'He_mass', 'He_nuclei_density', 'He_number_density', 'He_p0_density', 'He_p0_fraction', 'He_p0_mass', 'He_p0_number_density', 'He_p1_density', 'He_p1_fraction', 'He_p1_mass', 'He_p1_number_density', 'He_p2_density', 'He_p2_fraction', 'He_p2_mass', 'He_p2_number_density', 'alfven_speed', 'angular_momentum_magnitude', 'angular_momentum_x', 'angular_momentum_y', 'angular_momentum_z', 'averaged_density', 'baroclinic_vorticity_magnitude', 'baroclinic_vorticity_x', 'baroclinic_vorticity_y', 'baroclinic_vorticity_z', 'cell_mass', 'cell_volume', 'chandra_emissivity', 'cooling_time', 'courant_time_step', 'cutting_plane_magnetic_field_x', 'cutting_plane_magnetic_field_y', 'cutting_plane_magnetic_field_z', 'cutting_plane_velocity_x', 'cutting_plane_velocity_y', 'cutting_plane_velocity_z', 'cylindrical_radial_magnetic_field', 'cylindrical_radial_magnetic_field_absolute', 'cylindrical_radial_velocity', 'cylindrical_radial_velocity_absolute', 'cylindrical_tangential_magnetic_field', 'cylindrical_tangential_magnetic_field_absolute', 'cylindrical_tangential_velocity', 'cylindrical_tangential_velocity_absolute', 'dark_matter_density', 'density', 'density_gradient_magnitude', 'density_gradient_x', 'density_gradient_y', 'density_gradient_z', 'dx', 'dy', 'dynamical_time', 'dz', 'emission_measure', 'entropy', 'jeans_mass', 'kT', 'kinetic_energy', 'mach_alfven', 'mach_number', 'magnetic_energy', 'magnetic_field_cylindrical_radius', 'magnetic_field_cylindrical_theta', 'magnetic_field_cylindrical_z', 'magnetic_field_divergence', 'magnetic_field_divergence_absolute', 'magnetic_field_magnitude', 'magnetic_field_poloidal', 'magnetic_field_spherical_phi', 'magnetic_field_spherical_radius', 'magnetic_field_spherical_theta', 'magnetic_field_strength', 'magnetic_field_toroidal', 'magnetic_field_x', 'magnetic_field_y', 'magnetic_field_z', 'magnetic_pressure', 'matter_density', 'matter_mass', 'mazzotta_weighting', 'mean_molecular_weight', 'metal_density', 'metal_mass', 'metallicity', 'number_density', 'path_element_x', 'path_element_y', 'path_element_z', 'plasma_beta', 'pressure', 'pressure_gradient_magnitude', 'pressure_gradient_x', 'pressure_gradient_y', 'pressure_gradient_z', 'radial_mach_number', 'radial_magnetic_field', 'radial_magnetic_field_absolute', 'radial_velocity', 'radial_velocity_absolute', 'shear', 'shear_criterion', 'shear_mach', 'sound_speed', 'specific_angular_momentum_magnitude', 'specific_angular_momentum_x', 'specific_angular_momentum_y', 'specific_angular_momentum_z', 'sz_kinetic', 'szy', 'tangential_magnetic_field', 'tangential_over_magnetic_field_magnitude', 'tangential_over_velocity_magnitude', 'tangential_velocity', 'temperature', 'thermal_energy', 'total_energy', 'velocity_cylindrical_radius', 'velocity_cylindrical_theta', 'velocity_cylindrical_z', 'velocity_divergence', 'velocity_divergence_absolute', 'velocity_magnitude', 'velocity_spherical_phi', 'velocity_spherical_radius', 'velocity_spherical_theta', 'velocity_x', 'velocity_y', 'velocity_z', 'vertex_x', 'vertex_y', 'vertex_z', 'vorticity_growth_magnitude', 'vorticity_growth_magnitude_absolute', 'vorticity_growth_timescale', 'vorticity_growth_x', 'vorticity_growth_y', 'vorticity_growth_z', 'vorticity_magnitude', 'vorticity_squared', 'vorticity_stretching_magnitude', 'vorticity_stretching_x', 'vorticity_stretching_y', 'vorticity_stretching_z', 'vorticity_x', 'vorticity_y', 'vorticity_z', 'x', 'xray_emissivity', 'y', 'z'), value='El_density'), Tab(children=(Textarea(value='', layout=Layout(height='8em', width='100%')), Box(children=(HTML(value='Empty'),), layout=Layout(height='100%', overflow_y='scroll', width='100%'))), layout=Layout(flex='2 1 auto', height='95%', width='auto'), _titles={'0': 'Source', '1': 'Variables'})), layout=Layout(height='14em')), HBox(children=(Select(layout=Layout(height='95%'), options=('cell_volume', 'cylindrical_r', 'cylindrical_radius', 'cylindrical_theta', 'cylindrical_z', 'disk_angle', 'dx', 'dy', 'dz', 'grid_indices', 'grid_level', 'height', 'morton_index', 'ones', 'ones_over_dx', 'path_element_x', 'path_element_y', 'path_element_z', 'radius', 'spherical_phi', 'spherical_r', 'spherical_radius', 'spherical_theta', 'vertex_x', 'vertex_y', 'vertex_z', 'virial_radius_fraction', 'x', 'y', 'z', 'zeros'), value='cell_volume'), Tab(children=(Textarea(value='', layout=Layout(height='8em', width='100%')), Box(children=(HTML(value='Empty'),), layout=Layout(height='100%', overflow_y='scroll', width='100%'))), layout=Layout(flex='2 1 auto', height='95%', width='auto'), _titles={'0': 'Source', '1': 'Variables'})), layout=Layout(height='14em')), HBox(children=(Select(layout=Layout(height='95%'), options=('age', 'creation_time', 'dynamical_time', 'mesh_id', 'metallicity_fraction', 'particle_angular_momentum', 'particle_angular_momentum_magnitude', 'particle_angular_momentum_x', 'particle_angular_momentum_y', 'particle_angular_momentum_z', 'particle_cylindrical_velocity_theta', 'particle_cylindrical_velocity_z', 'particle_index', 'particle_mass', 'particle_ones', 'particle_position', 'particle_position_cylindrical_radius', 'particle_position_cylindrical_theta', 'particle_position_cylindrical_z', 'particle_position_relative', 'particle_position_relative_x', 'particle_position_relative_y', 'particle_position_relative_z', 'particle_position_spherical_phi', 'particle_position_spherical_radius', 'particle_position_spherical_theta', 'particle_position_x', 'particle_position_y', 'particle_position_z', 'particle_radial_velocity', 'particle_radius', 'particle_specific_angular_momentum', 'particle_specific_angular_momentum_x', 'particle_specific_angular_momentum_y', 'particle_specific_angular_momentum_z', 'particle_spherical_position_phi', 'particle_spherical_position_radius', 'particle_spherical_position_theta', 'particle_spherical_velocity_phi', 'particle_spherical_velocity_radius', 'particle_spherical_velocity_theta', 'particle_type', 'particle_velocity', 'particle_velocity_cylindrical_radius', 'particle_velocity_cylindrical_theta', 'particle_velocity_cylindrical_z', 'particle_velocity_magnitude', 'particle_velocity_relative', 'particle_velocity_relative_x', 'particle_velocity_relative_y', 'particle_velocity_relative_z', 'particle_velocity_spherical_phi', 'particle_velocity_spherical_radius', 'particle_velocity_spherical_theta', 'particle_velocity_x', 'particle_velocity_y', 'particle_velocity_z'), value='age'), Tab(children=(Textarea(value='', layout=Layout(height='8em', width='100%')), Box(children=(HTML(value='Empty'),), layout=Layout(height='100%', overflow_y='scroll', width='100%'))), layout=Layout(flex='2 1 auto', height='95%', width='auto'), _titles={'0': 'Source', '1': 'Variables'})), layout=Layout(height='14em'))), _titles={'0': 'all', '1': 'deposit', '2': 'enzo', '3': 'gas', '4': 'index', '5': 'io'})"
      ]
     },
     "metadata": {},
     "output_type": "display_data"
    }
   ],
   "source": [
    "display_all_fields(ds)"
   ]
  },
  {
   "cell_type": "code",
   "execution_count": 48,
   "metadata": {},
   "outputs": [],
   "source": [
    "ta = ipywidgets.Textarea()"
   ]
  },
  {
   "cell_type": "code",
   "execution_count": 90,
   "metadata": {},
   "outputs": [
    {
     "data": {
      "application/vnd.jupyter.widget-view+json": {
       "model_id": "375af465da804d60914ec55298360c86",
       "version_major": 2,
       "version_minor": 0
      },
      "text/html": [
       "<p>Failed to display Jupyter Widget of type <code>HTML</code>.</p>\n",
       "<p>\n",
       "  If you're reading this message in the Jupyter Notebook or JupyterLab Notebook, it may mean\n",
       "  that the widgets JavaScript is still loading. If this message persists, it\n",
       "  likely means that the widgets JavaScript library is either not installed or\n",
       "  not enabled. See the <a href=\"https://ipywidgets.readthedocs.io/en/stable/user_install.html\">Jupyter\n",
       "  Widgets Documentation</a> for setup instructions.\n",
       "</p>\n",
       "<p>\n",
       "  If you're reading this message in another frontend (for example, a static\n",
       "  rendering on GitHub or <a href=\"https://nbviewer.jupyter.org/\">NBViewer</a>),\n",
       "  it may mean that your frontend doesn't currently support widgets.\n",
       "</p>\n"
      ],
      "text/plain": [
       "HTML(value='<div class=\"rendered_html jp-RenderedHTMLCommon\"><table><thead><tr><th>Name</th><th>Type</th><th>Value</th></tr></thead><tr><td>field_name</td><td>tuple</td><td>(\\'enzo\\', \\'Density\\')</td></tr></table></div>')"
      ]
     },
     "metadata": {},
     "output_type": "display_data"
    }
   ],
   "source": [
    "var_window = ipywidgets.HTML()\n",
    "fobj = ds.fields.gas.density\n",
    "values = inspect.getclosurevars(fobj._function).nonlocals\n",
    "var_window.value = '<div class=\"rendered_html jp-RenderedHTMLCommon\"><table><thead><tr><th>Name</th><th>Type</th><th>Value</th></tr></thead><tr><td>' + \\\n",
    "            '</td></tr><tr><td>'.join(['{0}</td><td>{1}</td><td>{2}'.format(v, type(values[v]).__name__, str(values[v])) for v in sorted(values)]) + \\\n",
    "            '</td></tr></table></div>'\n",
    "var_window"
   ]
  },
  {
   "cell_type": "code",
   "execution_count": 88,
   "metadata": {},
   "outputs": [
    {
     "data": {
      "text/plain": [
       "['__add__',\n",
       " '__class__',\n",
       " '__contains__',\n",
       " '__delattr__',\n",
       " '__dir__',\n",
       " '__doc__',\n",
       " '__eq__',\n",
       " '__format__',\n",
       " '__ge__',\n",
       " '__getattribute__',\n",
       " '__getitem__',\n",
       " '__getnewargs__',\n",
       " '__gt__',\n",
       " '__hash__',\n",
       " '__init__',\n",
       " '__init_subclass__',\n",
       " '__iter__',\n",
       " '__le__',\n",
       " '__len__',\n",
       " '__lt__',\n",
       " '__module__',\n",
       " '__mul__',\n",
       " '__ne__',\n",
       " '__new__',\n",
       " '__reduce__',\n",
       " '__reduce_ex__',\n",
       " '__repr__',\n",
       " '__rmul__',\n",
       " '__setattr__',\n",
       " '__sizeof__',\n",
       " '__slots__',\n",
       " '__str__',\n",
       " '__subclasshook__',\n",
       " '_asdict',\n",
       " '_fields',\n",
       " '_make',\n",
       " '_replace',\n",
       " '_source',\n",
       " 'builtins',\n",
       " 'count',\n",
       " 'globals',\n",
       " 'index',\n",
       " 'nonlocals',\n",
       " 'unbound']"
      ]
     },
     "execution_count": 88,
     "metadata": {},
     "output_type": "execute_result"
    }
   ],
   "source": []
  },
  {
   "cell_type": "code",
   "execution_count": null,
   "metadata": {},
   "outputs": [],
   "source": []
  }
 ],
 "metadata": {
  "kernelspec": {
   "display_name": "Python 3",
   "language": "python",
   "name": "python3"
  },
  "language_info": {
   "codemirror_mode": {
    "name": "ipython",
    "version": 3
   },
   "file_extension": ".py",
   "mimetype": "text/x-python",
   "name": "python",
   "nbconvert_exporter": "python",
   "pygments_lexer": "ipython3",
   "version": "3.6.4"
  }
 },
 "nbformat": 4,
 "nbformat_minor": 2
}
