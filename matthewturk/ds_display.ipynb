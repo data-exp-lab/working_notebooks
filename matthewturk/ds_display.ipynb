{
 "cells": [
  {
   "cell_type": "code",
   "execution_count": 1,
   "metadata": {},
   "outputs": [
    {
     "name": "stderr",
     "output_type": "stream",
     "text": [
      "/data/data/com.termux/files/usr/lib/python3.6/site-packages/h5py/__init__.py:36: FutureWarning: Conversion of the second argument of issubdtype from `float` to `np.floating` is deprecated. In future, it will be treated as `np.float64 == np.dtype(float).type`.\n",
      "  from ._conv import register_converters as _register_converters\n"
     ]
    }
   ],
   "source": [
    "import ipywidgets\n",
    "import traitlets\n",
    "import yt"
   ]
  },
  {
   "cell_type": "code",
   "execution_count": 2,
   "metadata": {},
   "outputs": [
    {
     "name": "stderr",
     "output_type": "stream",
     "text": [
      "yt : [INFO     ] 2018-03-18 09:27:40,137 Parameters: current_time              = 0.0060000200028297998\n",
      "yt : [INFO     ] 2018-03-18 09:27:40,141 Parameters: domain_dimensions         = [32 32 32]\n",
      "yt : [INFO     ] 2018-03-18 09:27:40,143 Parameters: domain_left_edge          = [0. 0. 0.]\n",
      "yt : [INFO     ] 2018-03-18 09:27:40,146 Parameters: domain_right_edge         = [1. 1. 1.]\n",
      "yt : [INFO     ] 2018-03-18 09:27:40,149 Parameters: cosmological_simulation   = 0.0\n"
     ]
    }
   ],
   "source": [
    "ds = yt.load(\"/home/data/IsolatedGalaxy/galaxy0030/galaxy0030\")"
   ]
  },
  {
   "cell_type": "code",
   "execution_count": 3,
   "metadata": {},
   "outputs": [],
   "source": [
    "def display_arr(arr):\n",
    "    unit_registry = arr.units.registry\n",
    "    dimension = arr.units.dimensions\n",
    "    equiv = [k for k, v in unit_registry.lut.items() if v[1] is dimension]\n",
    "    dropdown = ipywidgets.Dropdown(options = sorted(equiv), value = str(arr.units))\n",
    "    def arr_updater(arr, texts):\n",
    "        def _value_updater(change):\n",
    "            arr2 = arr.in_units(change['new'])\n",
    "            if arr2.shape == ():\n",
    "                arr2 = [arr2]\n",
    "            for v, t in zip(arr2, texts):\n",
    "                t.value = str(v.value)\n",
    "        return _value_updater\n",
    "    if arr.shape == ():\n",
    "        arr_iter = [arr]\n",
    "    else:\n",
    "        arr_iter = arr\n",
    "    texts = [ipywidgets.Text(value = str(_.value), disabled = True) for _ in arr_iter]\n",
    "    dropdown.observe(arr_updater(arr, texts), names=\"value\")\n",
    "    return ipywidgets.HBox(texts + [dropdown])"
   ]
  },
  {
   "cell_type": "code",
   "execution_count": 4,
   "metadata": {},
   "outputs": [
    {
     "data": {
      "application/vnd.jupyter.widget-view+json": {
       "model_id": "4b51c983aa2f4be78e31bb67b93fa8ff",
       "version_major": 2,
       "version_minor": 0
      },
      "text/html": [
       "<p>Failed to display Jupyter Widget of type <code>HBox</code>.</p>\n",
       "<p>\n",
       "  If you're reading this message in the Jupyter Notebook or JupyterLab Notebook, it may mean\n",
       "  that the widgets JavaScript is still loading. If this message persists, it\n",
       "  likely means that the widgets JavaScript library is either not installed or\n",
       "  not enabled. See the <a href=\"https://ipywidgets.readthedocs.io/en/stable/user_install.html\">Jupyter\n",
       "  Widgets Documentation</a> for setup instructions.\n",
       "</p>\n",
       "<p>\n",
       "  If you're reading this message in another frontend (for example, a static\n",
       "  rendering on GitHub or <a href=\"https://nbviewer.jupyter.org/\">NBViewer</a>),\n",
       "  it may mean that your frontend doesn't currently support widgets.\n",
       "</p>\n"
      ],
      "text/plain": [
       "HBox(children=(Text(value='1.0', disabled=True), Text(value='1.0', disabled=True), Text(value='1.0', disabled=True), Dropdown(index=9, options=('AU', 'Angstrom', 'R_earth', 'R_jup', 'R_sun', 'Rsun', 'angstrom', 'au', 'cm', 'code_length', 'ft', 'l_geom', 'l_pl', 'ly', 'm', 'mile', 'pc', 'r_earth', 'r_jup', 'r_sun', 'rsun', 'solRad', 'unitary'), value='code_length')))"
      ]
     },
     "metadata": {},
     "output_type": "display_data"
    }
   ],
   "source": [
    "display_arr(ds.domain_width)"
   ]
  },
  {
   "cell_type": "code",
   "execution_count": 5,
   "metadata": {},
   "outputs": [],
   "source": [
    "def display_ds(ds):\n",
    "    attrs = [\"domain_width\", \"domain_left_edge\", \"domain_right_edge\", \"current_time\"]\n",
    "    lb = ipywidgets.VBox([ ipywidgets.Label(value = _) for _ in attrs])\n",
    "    vb = ipywidgets.VBox([ display_arr(getattr(ds, _)) for _ in attrs])\n",
    "    hb = ipywidgets.HBox([lb, vb])\n",
    "    return hb"
   ]
  },
  {
   "cell_type": "code",
   "execution_count": 6,
   "metadata": {},
   "outputs": [
    {
     "data": {
      "application/vnd.jupyter.widget-view+json": {
       "model_id": "db757ec9f447439da6c60f25d4230b73",
       "version_major": 2,
       "version_minor": 0
      },
      "text/html": [
       "<p>Failed to display Jupyter Widget of type <code>HBox</code>.</p>\n",
       "<p>\n",
       "  If you're reading this message in the Jupyter Notebook or JupyterLab Notebook, it may mean\n",
       "  that the widgets JavaScript is still loading. If this message persists, it\n",
       "  likely means that the widgets JavaScript library is either not installed or\n",
       "  not enabled. See the <a href=\"https://ipywidgets.readthedocs.io/en/stable/user_install.html\">Jupyter\n",
       "  Widgets Documentation</a> for setup instructions.\n",
       "</p>\n",
       "<p>\n",
       "  If you're reading this message in another frontend (for example, a static\n",
       "  rendering on GitHub or <a href=\"https://nbviewer.jupyter.org/\">NBViewer</a>),\n",
       "  it may mean that your frontend doesn't currently support widgets.\n",
       "</p>\n"
      ],
      "text/plain": [
       "HBox(children=(VBox(children=(Label(value='domain_width'), Label(value='domain_left_edge'), Label(value='domain_right_edge'), Label(value='current_time'))), VBox(children=(HBox(children=(Text(value='1.0', disabled=True), Text(value='1.0', disabled=True), Text(value='1.0', disabled=True), Dropdown(index=9, options=('AU', 'Angstrom', 'R_earth', 'R_jup', 'R_sun', 'Rsun', 'angstrom', 'au', 'cm', 'code_length', 'ft', 'l_geom', 'l_pl', 'ly', 'm', 'mile', 'pc', 'r_earth', 'r_jup', 'r_sun', 'rsun', 'solRad', 'unitary'), value='code_length'))), HBox(children=(Text(value='0.0', disabled=True), Text(value='0.0', disabled=True), Text(value='0.0', disabled=True), Dropdown(index=9, options=('AU', 'Angstrom', 'R_earth', 'R_jup', 'R_sun', 'Rsun', 'angstrom', 'au', 'cm', 'code_length', 'ft', 'l_geom', 'l_pl', 'ly', 'm', 'mile', 'pc', 'r_earth', 'r_jup', 'r_sun', 'rsun', 'solRad', 'unitary'), value='code_length'))), HBox(children=(Text(value='1.0', disabled=True), Text(value='1.0', disabled=True), Text(value='1.0', disabled=True), Dropdown(index=9, options=('AU', 'Angstrom', 'R_earth', 'R_jup', 'R_sun', 'Rsun', 'angstrom', 'au', 'cm', 'code_length', 'ft', 'l_geom', 'l_pl', 'ly', 'm', 'mile', 'pc', 'r_earth', 'r_jup', 'r_sun', 'rsun', 'solRad', 'unitary'), value='code_length'))), HBox(children=(Text(value='0.0060000200028298', disabled=True), Dropdown(options=('code_time', 'd', 'day', 'hr', 'min', 's', 't_geom', 't_pl', 'yr'), value='code_time')))))))"
      ]
     },
     "metadata": {},
     "output_type": "display_data"
    }
   ],
   "source": [
    "display_ds(ds)"
   ]
  },
  {
   "cell_type": "code",
   "execution_count": 7,
   "metadata": {},
   "outputs": [],
   "source": [
    "import ipywidgets as widgets # Loads the Widget framework.\n",
    "from IPython.core.magics.namespace import NamespaceMagics # Used to query namespace.\n",
    "\n",
    "# For this example, hide these names, just to avoid polluting the namespace further\n",
    "get_ipython().user_ns_hidden['widgets'] = widgets\n",
    "get_ipython().user_ns_hidden['NamespaceMagics'] = NamespaceMagics"
   ]
  },
  {
   "cell_type": "code",
   "execution_count": 8,
   "metadata": {},
   "outputs": [],
   "source": [
    "class VariableInspectorWindow(object):\n",
    "    instance = None\n",
    "\n",
    "    def __init__(self, ipython):\n",
    "        \"\"\"Public constructor.\"\"\"\n",
    "        if VariableInspectorWindow.instance is not None:\n",
    "            raise Exception(\"\"\"Only one instance of the Variable Inspector can exist at a\n",
    "                time.  Call close() on the active instance before creating a new instance.\n",
    "                If you have lost the handle to the active instance, you can re-obtain it\n",
    "                via `VariableInspectorWindow.instance`.\"\"\")\n",
    "\n",
    "        VariableInspectorWindow.instance = self\n",
    "        self.closed = False\n",
    "        self.namespace = NamespaceMagics()\n",
    "        self.namespace.shell = ipython.kernel.shell\n",
    "\n",
    "        self._box = widgets.Box()\n",
    "        self._box.layout.overflow_y = 'scroll'\n",
    "        self._table = widgets.HTML(value = 'Not hooked')\n",
    "        self._box.children = [self._table]\n",
    "\n",
    "        self._ipython = ipython\n",
    "        self._ipython.events.register('post_run_cell', self._fill)\n",
    "\n",
    "    def close(self):\n",
    "        \"\"\"Close and remove hooks.\"\"\"\n",
    "        if not self.closed:\n",
    "            self._ipython.events.unregister('post_run_cell', self._fill)\n",
    "            self._box.close()\n",
    "            self.closed = True\n",
    "            VariableInspectorWindow.instance = None\n",
    "\n",
    "    def _fill(self):\n",
    "        \"\"\"Fill self with variable information.\"\"\"\n",
    "        values = self.namespace.who_ls()\n",
    "        self._table.value = '<div class=\"rendered_html jp-RenderedHTMLCommon\"><table><thead><tr><th>Name</th><th>Type</th><th>Value</th></tr></thead><tr><td>' + \\\n",
    "            '</td></tr><tr><td>'.join(['{0}</td><td>{1}</td><td>{2}'.format(v, type(eval(v)).__name__, str(eval(v))) for v in values]) + \\\n",
    "            '</td></tr></table></div>'\n",
    "\n",
    "    def _ipython_display_(self):\n",
    "        \"\"\"Called when display() or pyout is used to display the Variable\n",
    "        Inspector.\"\"\"\n",
    "        self._box._ipython_display_()\n"
   ]
  },
  {
   "cell_type": "code",
   "execution_count": 9,
   "metadata": {},
   "outputs": [
    {
     "data": {
      "application/vnd.jupyter.widget-view+json": {
       "model_id": "8771efc672c94ea5adaa8c2f40809747",
       "version_major": 2,
       "version_minor": 0
      },
      "text/html": [
       "<p>Failed to display Jupyter Widget of type <code>Box</code>.</p>\n",
       "<p>\n",
       "  If you're reading this message in the Jupyter Notebook or JupyterLab Notebook, it may mean\n",
       "  that the widgets JavaScript is still loading. If this message persists, it\n",
       "  likely means that the widgets JavaScript library is either not installed or\n",
       "  not enabled. See the <a href=\"https://ipywidgets.readthedocs.io/en/stable/user_install.html\">Jupyter\n",
       "  Widgets Documentation</a> for setup instructions.\n",
       "</p>\n",
       "<p>\n",
       "  If you're reading this message in another frontend (for example, a static\n",
       "  rendering on GitHub or <a href=\"https://nbviewer.jupyter.org/\">NBViewer</a>),\n",
       "  it may mean that your frontend doesn't currently support widgets.\n",
       "</p>\n"
      ],
      "text/plain": [
       "Box(children=(HTML(value='Not hooked'),), layout=Layout(overflow_y='scroll'))"
      ]
     },
     "metadata": {},
     "output_type": "display_data"
    }
   ],
   "source": [
    "inspector = VariableInspectorWindow(get_ipython())\n",
    "inspector"
   ]
  },
  {
   "cell_type": "code",
   "execution_count": 10,
   "metadata": {},
   "outputs": [],
   "source": [
    "v = 'this'"
   ]
  },
  {
   "cell_type": "code",
   "execution_count": 11,
   "metadata": {},
   "outputs": [
    {
     "name": "stderr",
     "output_type": "stream",
     "text": [
      "Parsing Hierarchy : 100%|██████████| 173/173 [00:00<00:00, 1234.86it/s]\n",
      "yt : [INFO     ] 2018-03-18 09:27:41,548 Gathering a field list (this may take a moment.)\n"
     ]
    },
    {
     "data": {
      "text/plain": [
       "<yt.data_objects.static_output.FieldTypeContainer at 0x7a188e76a240>"
      ]
     },
     "execution_count": 11,
     "metadata": {},
     "output_type": "execute_result"
    }
   ],
   "source": [
    "ds.fields"
   ]
  },
  {
   "cell_type": "code",
   "execution_count": 12,
   "metadata": {},
   "outputs": [
    {
     "data": {
      "text/plain": [
       "'cell'"
      ]
     },
     "execution_count": 12,
     "metadata": {},
     "output_type": "execute_result"
    }
   ],
   "source": [
    "ds.fields.gas.density.sampling_type"
   ]
  },
  {
   "cell_type": "code",
   "execution_count": 13,
   "metadata": {},
   "outputs": [
    {
     "data": {
      "text/plain": [
       "['__call__',\n",
       " '__class__',\n",
       " '__delattr__',\n",
       " '__dict__',\n",
       " '__dir__',\n",
       " '__doc__',\n",
       " '__eq__',\n",
       " '__format__',\n",
       " '__ge__',\n",
       " '__getattribute__',\n",
       " '__gt__',\n",
       " '__hash__',\n",
       " '__init__',\n",
       " '__init_subclass__',\n",
       " '__le__',\n",
       " '__lt__',\n",
       " '__module__',\n",
       " '__ne__',\n",
       " '__new__',\n",
       " '__reduce__',\n",
       " '__reduce_ex__',\n",
       " '__repr__',\n",
       " '__setattr__',\n",
       " '__sizeof__',\n",
       " '__str__',\n",
       " '__subclasshook__',\n",
       " '__weakref__',\n",
       " '_copy_def',\n",
       " '_function',\n",
       " '_ion_to_label',\n",
       " '_is_ion',\n",
       " '_unit_registry',\n",
       " 'check_available',\n",
       " 'dimensions',\n",
       " 'display_field',\n",
       " 'display_name',\n",
       " 'ds',\n",
       " 'get_dependencies',\n",
       " 'get_label',\n",
       " 'get_latex_display_name',\n",
       " 'get_projected_units',\n",
       " 'get_source',\n",
       " 'get_units',\n",
       " 'name',\n",
       " 'nodal_flag',\n",
       " 'not_in_all',\n",
       " 'output_units',\n",
       " 'particle_type',\n",
       " 'sampling_type',\n",
       " 'take_log',\n",
       " 'unit_registry',\n",
       " 'units',\n",
       " 'validators',\n",
       " 'vector_field']"
      ]
     },
     "execution_count": 13,
     "metadata": {},
     "output_type": "execute_result"
    }
   ],
   "source": [
    "dir(ds.fields.gas.density)"
   ]
  },
  {
   "cell_type": "code",
   "execution_count": 14,
   "metadata": {},
   "outputs": [],
   "source": [
    "density = ds.fields.gas.density"
   ]
  },
  {
   "cell_type": "code",
   "execution_count": 32,
   "metadata": {},
   "outputs": [],
   "source": [
    "import inspect"
   ]
  },
  {
   "cell_type": "code",
   "execution_count": 35,
   "metadata": {},
   "outputs": [
    {
     "data": {
      "text/plain": [
       "[('__annotations__', {}),\n",
       " ('__call__',\n",
       "  <method-wrapper '__call__' of function object at 0x7a188ea62158>),\n",
       " ('__class__', function),\n",
       " ('__closure__', (<cell at 0x7a188ed3e5b8: tuple object at 0x7a188ea61808>,)),\n",
       " ('__code__',\n",
       "  <code object _TranslationFunc at 0x7a189a4f7c00, file \"/data/data/com.termux/files/home/yt/yt/yt/fields/derived_field.py\", line 40>),\n",
       " ('__defaults__', None),\n",
       " ('__delattr__',\n",
       "  <method-wrapper '__delattr__' of function object at 0x7a188ea62158>),\n",
       " ('__dict__', {'alias_name': ('enzo', 'Density')}),\n",
       " ('__dir__', <function function.__dir__>),\n",
       " ('__doc__', None),\n",
       " ('__eq__', <method-wrapper '__eq__' of function object at 0x7a188ea62158>),\n",
       " ('__format__', <function function.__format__>),\n",
       " ('__ge__', <method-wrapper '__ge__' of function object at 0x7a188ea62158>),\n",
       " ('__get__', <method-wrapper '__get__' of function object at 0x7a188ea62158>),\n",
       " ('__getattribute__',\n",
       "  <method-wrapper '__getattribute__' of function object at 0x7a188ea62158>),\n",
       " ('__globals__',\n",
       "  {'DerivedField': yt.fields.derived_field.DerivedField,\n",
       "   'FieldDetector': yt.fields.field_detector.FieldDetector,\n",
       "   'FieldUnitsError': yt.fields.field_exceptions.FieldUnitsError,\n",
       "   'FieldValidator': yt.fields.derived_field.FieldValidator,\n",
       "   'NeedsDataField': yt.fields.field_exceptions.NeedsDataField,\n",
       "   'NeedsGridType': yt.fields.field_exceptions.NeedsGridType,\n",
       "   'NeedsOriginalGrid': yt.fields.field_exceptions.NeedsOriginalGrid,\n",
       "   'NeedsParameter': yt.fields.field_exceptions.NeedsParameter,\n",
       "   'NeedsParameterValue': yt.fields.field_exceptions.NeedsParameterValue,\n",
       "   'NeedsProperty': yt.fields.field_exceptions.NeedsProperty,\n",
       "   'NullFunc': <function yt.fields.derived_field.NullFunc>,\n",
       "   'PY2': False,\n",
       "   'TranslationFunc': <function yt.fields.derived_field.TranslationFunc>,\n",
       "   'Unit': yt.units.unit_object.Unit,\n",
       "   'ValidateDataField': yt.fields.derived_field.ValidateDataField,\n",
       "   'ValidateGridType': yt.fields.derived_field.ValidateGridType,\n",
       "   'ValidateParameter': yt.fields.derived_field.ValidateParameter,\n",
       "   'ValidateProperty': yt.fields.derived_field.ValidateProperty,\n",
       "   'ValidateSpatial': yt.fields.derived_field.ValidateSpatial,\n",
       "   'YTFieldNotFound': yt.utilities.exceptions.YTFieldNotFound,\n",
       "   '__builtins__': {'ArithmeticError': ArithmeticError,\n",
       "    'AssertionError': AssertionError,\n",
       "    'AttributeError': AttributeError,\n",
       "    'BaseException': BaseException,\n",
       "    'BlockingIOError': BlockingIOError,\n",
       "    'BrokenPipeError': BrokenPipeError,\n",
       "    'BufferError': BufferError,\n",
       "    'BytesWarning': BytesWarning,\n",
       "    'ChildProcessError': ChildProcessError,\n",
       "    'ConnectionAbortedError': ConnectionAbortedError,\n",
       "    'ConnectionError': ConnectionError,\n",
       "    'ConnectionRefusedError': ConnectionRefusedError,\n",
       "    'ConnectionResetError': ConnectionResetError,\n",
       "    'DeprecationWarning': DeprecationWarning,\n",
       "    'EOFError': EOFError,\n",
       "    'Ellipsis': Ellipsis,\n",
       "    'EnvironmentError': OSError,\n",
       "    'Exception': Exception,\n",
       "    'False': False,\n",
       "    'FileExistsError': FileExistsError,\n",
       "    'FileNotFoundError': FileNotFoundError,\n",
       "    'FloatingPointError': FloatingPointError,\n",
       "    'FutureWarning': FutureWarning,\n",
       "    'GeneratorExit': GeneratorExit,\n",
       "    'IOError': OSError,\n",
       "    'ImportError': ImportError,\n",
       "    'ImportWarning': ImportWarning,\n",
       "    'IndentationError': IndentationError,\n",
       "    'IndexError': IndexError,\n",
       "    'InterruptedError': InterruptedError,\n",
       "    'IsADirectoryError': IsADirectoryError,\n",
       "    'KeyError': KeyError,\n",
       "    'KeyboardInterrupt': KeyboardInterrupt,\n",
       "    'LookupError': LookupError,\n",
       "    'MemoryError': MemoryError,\n",
       "    'ModuleNotFoundError': ModuleNotFoundError,\n",
       "    'NameError': NameError,\n",
       "    'None': None,\n",
       "    'NotADirectoryError': NotADirectoryError,\n",
       "    'NotImplemented': NotImplemented,\n",
       "    'NotImplementedError': NotImplementedError,\n",
       "    'OSError': OSError,\n",
       "    'OverflowError': OverflowError,\n",
       "    'PendingDeprecationWarning': PendingDeprecationWarning,\n",
       "    'PermissionError': PermissionError,\n",
       "    'ProcessLookupError': ProcessLookupError,\n",
       "    'RecursionError': RecursionError,\n",
       "    'ReferenceError': ReferenceError,\n",
       "    'ResourceWarning': ResourceWarning,\n",
       "    'RuntimeError': RuntimeError,\n",
       "    'RuntimeWarning': RuntimeWarning,\n",
       "    'StopAsyncIteration': StopAsyncIteration,\n",
       "    'StopIteration': StopIteration,\n",
       "    'SyntaxError': SyntaxError,\n",
       "    'SyntaxWarning': SyntaxWarning,\n",
       "    'SystemError': SystemError,\n",
       "    'SystemExit': SystemExit,\n",
       "    'TabError': TabError,\n",
       "    'TimeoutError': TimeoutError,\n",
       "    'True': True,\n",
       "    'TypeError': TypeError,\n",
       "    'UnboundLocalError': UnboundLocalError,\n",
       "    'UnicodeDecodeError': UnicodeDecodeError,\n",
       "    'UnicodeEncodeError': UnicodeEncodeError,\n",
       "    'UnicodeError': UnicodeError,\n",
       "    'UnicodeTranslateError': UnicodeTranslateError,\n",
       "    'UnicodeWarning': UnicodeWarning,\n",
       "    'UserWarning': UserWarning,\n",
       "    'ValueError': ValueError,\n",
       "    'Warning': Warning,\n",
       "    'ZeroDivisionError': ZeroDivisionError,\n",
       "    '__IPYTHON__': True,\n",
       "    '__build_class__': <function __build_class__>,\n",
       "    '__debug__': True,\n",
       "    '__doc__': \"Built-in functions, exceptions, and other objects.\\n\\nNoteworthy: None is the `nil' object; Ellipsis represents `...' in slices.\",\n",
       "    '__import__': <function __import__>,\n",
       "    '__loader__': _frozen_importlib.BuiltinImporter,\n",
       "    '__name__': 'builtins',\n",
       "    '__package__': '',\n",
       "    '__spec__': ModuleSpec(name='builtins', loader=<class '_frozen_importlib.BuiltinImporter'>),\n",
       "    'abs': <function abs>,\n",
       "    'all': <function all>,\n",
       "    'any': <function any>,\n",
       "    'ascii': <function ascii>,\n",
       "    'bin': <function bin>,\n",
       "    'bool': bool,\n",
       "    'bytearray': bytearray,\n",
       "    'bytes': bytes,\n",
       "    'callable': <function callable>,\n",
       "    'chr': <function chr>,\n",
       "    'classmethod': classmethod,\n",
       "    'compile': <function compile>,\n",
       "    'complex': complex,\n",
       "    'copyright': Copyright (c) 2001-2017 Python Software Foundation.\n",
       "    All Rights Reserved.\n",
       "    \n",
       "    Copyright (c) 2000 BeOpen.com.\n",
       "    All Rights Reserved.\n",
       "    \n",
       "    Copyright (c) 1995-2001 Corporation for National Research Initiatives.\n",
       "    All Rights Reserved.\n",
       "    \n",
       "    Copyright (c) 1991-1995 Stichting Mathematisch Centrum, Amsterdam.\n",
       "    All Rights Reserved.,\n",
       "    'credits':     Thanks to CWI, CNRI, BeOpen.com, Zope Corporation and a cast of thousands\n",
       "        for supporting Python development.  See www.python.org for more information.,\n",
       "    'delattr': <function delattr>,\n",
       "    'dict': dict,\n",
       "    'dir': <function dir>,\n",
       "    'display': <function IPython.core.display.display>,\n",
       "    'divmod': <function divmod>,\n",
       "    'enumerate': enumerate,\n",
       "    'eval': <function eval>,\n",
       "    'exec': <function exec>,\n",
       "    'filter': filter,\n",
       "    'float': float,\n",
       "    'format': <function format>,\n",
       "    'frozenset': frozenset,\n",
       "    'get_ipython': <bound method InteractiveShell.get_ipython of <ipykernel.zmqshell.ZMQInteractiveShell object at 0x7a189d9adfd0>>,\n",
       "    'getattr': <function getattr>,\n",
       "    'globals': <function globals>,\n",
       "    'hasattr': <function hasattr>,\n",
       "    'hash': <function hash>,\n",
       "    'help': Type help() for interactive help, or help(object) for help about object.,\n",
       "    'hex': <function hex>,\n",
       "    'id': <function id>,\n",
       "    'input': <bound method Kernel.raw_input of <ipykernel.ipkernel.IPythonKernel object at 0x7a189d9ad208>>,\n",
       "    'int': int,\n",
       "    'isinstance': <function isinstance>,\n",
       "    'issubclass': <function issubclass>,\n",
       "    'iter': <function iter>,\n",
       "    'len': <function len>,\n",
       "    'license': Type license() to see the full license text,\n",
       "    'list': list,\n",
       "    'locals': <function locals>,\n",
       "    'map': map,\n",
       "    'max': <function max>,\n",
       "    'memoryview': memoryview,\n",
       "    'min': <function min>,\n",
       "    'next': <function next>,\n",
       "    'object': object,\n",
       "    'oct': <function oct>,\n",
       "    'open': <function io.open>,\n",
       "    'ord': <function ord>,\n",
       "    'pow': <function pow>,\n",
       "    'print': <function print>,\n",
       "    'property': property,\n",
       "    'range': range,\n",
       "    'repr': <function repr>,\n",
       "    'reversed': reversed,\n",
       "    'round': <function round>,\n",
       "    'set': set,\n",
       "    'setattr': <function setattr>,\n",
       "    'slice': slice,\n",
       "    'sorted': <function sorted>,\n",
       "    'staticmethod': staticmethod,\n",
       "    'str': str,\n",
       "    'sum': <function sum>,\n",
       "    'super': super,\n",
       "    'tuple': tuple,\n",
       "    'type': type,\n",
       "    'vars': <function vars>,\n",
       "    'zip': zip},\n",
       "   '__cached__': '/data/data/com.termux/files/home/yt/yt/yt/fields/__pycache__/derived_field.cpython-36.pyc',\n",
       "   '__doc__': '\\nDerived field base class.\\n\\n',\n",
       "   '__file__': '/data/data/com.termux/files/home/yt/yt/yt/fields/derived_field.py',\n",
       "   '__loader__': <_frozen_importlib_external.SourceFileLoader at 0x7a1895056400>,\n",
       "   '__name__': 'yt.fields.derived_field',\n",
       "   '__package__': 'yt.fields',\n",
       "   '__spec__': ModuleSpec(name='yt.fields.derived_field', loader=<_frozen_importlib_external.SourceFileLoader object at 0x7a1895056400>, origin='/data/data/com.termux/files/home/yt/yt/yt/fields/derived_field.py'),\n",
       "   '__warningregistry__': {(\"particle_type for derived fields has been replaced with sampling_type = 'particle'\",\n",
       "     DeprecationWarning,\n",
       "     117): True,\n",
       "    'version': 257},\n",
       "   'contextlib': <module 'contextlib' from '/data/data/com.termux/files/usr/lib/python3.6/contextlib.py'>,\n",
       "   'ensure_list': <function yt.funcs.ensure_list>,\n",
       "   'inspect': <module 'inspect' from '/data/data/com.termux/files/usr/lib/python3.6/inspect.py'>,\n",
       "   're': <module 're' from '/data/data/com.termux/files/usr/lib/python3.6/re.py'>,\n",
       "   'string_types': (str,),\n",
       "   'warnings': <module 'warnings' from '/data/data/com.termux/files/usr/lib/python3.6/warnings.py'>,\n",
       "   'ytdims': <module 'yt.units.dimensions' from '/data/data/com.termux/files/home/yt/yt/yt/units/dimensions.py'>}),\n",
       " ('__gt__', <method-wrapper '__gt__' of function object at 0x7a188ea62158>),\n",
       " ('__hash__',\n",
       "  <method-wrapper '__hash__' of function object at 0x7a188ea62158>),\n",
       " ('__init__',\n",
       "  <method-wrapper '__init__' of function object at 0x7a188ea62158>),\n",
       " ('__init_subclass__', <function function.__init_subclass__>),\n",
       " ('__kwdefaults__', None),\n",
       " ('__le__', <method-wrapper '__le__' of function object at 0x7a188ea62158>),\n",
       " ('__lt__', <method-wrapper '__lt__' of function object at 0x7a188ea62158>),\n",
       " ('__module__', 'yt.fields.derived_field'),\n",
       " ('__name__', '_TranslationFunc'),\n",
       " ('__ne__', <method-wrapper '__ne__' of function object at 0x7a188ea62158>),\n",
       " ('__new__', <function function.__new__>),\n",
       " ('__qualname__', 'TranslationFunc.<locals>._TranslationFunc'),\n",
       " ('__reduce__', <function function.__reduce__>),\n",
       " ('__reduce_ex__', <function function.__reduce_ex__>),\n",
       " ('__repr__',\n",
       "  <method-wrapper '__repr__' of function object at 0x7a188ea62158>),\n",
       " ('__setattr__',\n",
       "  <method-wrapper '__setattr__' of function object at 0x7a188ea62158>),\n",
       " ('__sizeof__', <function function.__sizeof__>),\n",
       " ('__str__', <method-wrapper '__str__' of function object at 0x7a188ea62158>),\n",
       " ('__subclasshook__', <function function.__subclasshook__>),\n",
       " ('alias_name', ('enzo', 'Density'))]"
      ]
     },
     "execution_count": 35,
     "metadata": {},
     "output_type": "execute_result"
    }
   ],
   "source": [
    "inspect.getmembers(density._function)"
   ]
  },
  {
   "cell_type": "code",
   "execution_count": 38,
   "metadata": {},
   "outputs": [
    {
     "ename": "AttributeError",
     "evalue": "'cell' object has no attribute 'frame'",
     "output_type": "error",
     "traceback": [
      "\u001b[0;31m---------------------------------------------------------------------------\u001b[0m",
      "\u001b[0;31mAttributeError\u001b[0m                            Traceback (most recent call last)",
      "\u001b[0;32m<ipython-input-38-91aeb3939e6b>\u001b[0m in \u001b[0;36m<module>\u001b[0;34m()\u001b[0m\n\u001b[0;32m----> 1\u001b[0;31m \u001b[0minspect\u001b[0m\u001b[0;34m.\u001b[0m\u001b[0mgetframeinfo\u001b[0m\u001b[0;34m(\u001b[0m\u001b[0mdensity\u001b[0m\u001b[0;34m.\u001b[0m\u001b[0m_function\u001b[0m\u001b[0;34m.\u001b[0m\u001b[0m__closure__\u001b[0m\u001b[0;34m[\u001b[0m\u001b[0;36m0\u001b[0m\u001b[0;34m]\u001b[0m\u001b[0;34m.\u001b[0m\u001b[0mframe\u001b[0m\u001b[0;34m)\u001b[0m\u001b[0;34m\u001b[0m\u001b[0m\n\u001b[0m",
      "\u001b[0;31mAttributeError\u001b[0m: 'cell' object has no attribute 'frame'"
     ]
    }
   ],
   "source": [
    "inspect.getframeinfo(density._function.__closure__[0].frame)"
   ]
  },
  {
   "cell_type": "code",
   "execution_count": 43,
   "metadata": {},
   "outputs": [
    {
     "data": {
      "text/plain": [
       "ClosureVars(nonlocals={'field_name': ('enzo', 'Density')}, globals={}, builtins={}, unbound={'copy'})"
      ]
     },
     "execution_count": 43,
     "metadata": {},
     "output_type": "execute_result"
    }
   ],
   "source": [
    "inspect.getclosurevars(density._function)"
   ]
  },
  {
   "cell_type": "code",
   "execution_count": 56,
   "metadata": {},
   "outputs": [],
   "source": [
    "def display_field_source(fobj):\n",
    "    source = ipywidgets.Textarea(value = fobj.get_source())\n",
    "    ac = ipywidgets.Accordion([source])\n",
    "    ac.set_title(0, \"Source\")\n",
    "    return ac"
   ]
  },
  {
   "cell_type": "code",
   "execution_count": null,
   "metadata": {},
   "outputs": [],
   "source": []
  },
  {
   "cell_type": "code",
   "execution_count": 58,
   "metadata": {},
   "outputs": [],
   "source": [
    "ac = display_field_source(density)"
   ]
  },
  {
   "cell_type": "code",
   "execution_count": 59,
   "metadata": {},
   "outputs": [
    {
     "data": {
      "text/plain": [
       "{'_display_callbacks': <traitlets.traitlets.Instance at 0x7a189d30d470>,\n",
       " '_dom_classes': <traitlets.traitlets.Tuple at 0x7a189d308518>,\n",
       " '_model_module': <traitlets.traitlets.Unicode at 0x7a189d2c0be0>,\n",
       " '_model_module_version': <traitlets.traitlets.Unicode at 0x7a189d2c0c88>,\n",
       " '_model_name': <traitlets.traitlets.Unicode at 0x7a189d21d3c8>,\n",
       " '_msg_callbacks': <traitlets.traitlets.Instance at 0x7a189d30d198>,\n",
       " '_property_lock': <traitlets.traitlets.Dict at 0x7a189d30db00>,\n",
       " '_states_to_send': <traitlets.traitlets.Set at 0x7a189d30d7b8>,\n",
       " '_titles': <traitlets.traitlets.Dict at 0x7a189d21d2b0>,\n",
       " '_view_count': <traitlets.traitlets.Int at 0x7a189d30dcf8>,\n",
       " '_view_module': <traitlets.traitlets.Unicode at 0x7a189d2c0cc0>,\n",
       " '_view_module_version': <traitlets.traitlets.Unicode at 0x7a189d2c0cf8>,\n",
       " '_view_name': <traitlets.traitlets.Unicode at 0x7a189d21d390>,\n",
       " 'box_style': <traitlets.traitlets.CaselessStrEnum at 0x7a189d24dfd0>,\n",
       " 'children': <traitlets.traitlets.Tuple at 0x7a189d24de48>,\n",
       " 'comm': <traitlets.traitlets.Instance at 0x7a189d30dd30>,\n",
       " 'keys': <traitlets.traitlets.List at 0x7a189d30dcc0>,\n",
       " 'layout': <ipywidgets.widgets.trait_types.InstanceDict at 0x7a189d308cc0>,\n",
       " 'log': <traitlets.traitlets.Instance at 0x7a189d2adeb8>,\n",
       " 'selected_index': <traitlets.traitlets.CInt at 0x7a189d21d2e8>}"
      ]
     },
     "execution_count": 59,
     "metadata": {},
     "output_type": "execute_result"
    }
   ],
   "source": [
    "ac.traits()"
   ]
  },
  {
   "cell_type": "code",
   "execution_count": 60,
   "metadata": {},
   "outputs": [
    {
     "data": {
      "text/plain": [
       "(Textarea(value='    def _TranslationFunc(field, data):\\n        # We do a bunch of in-place modifications, so we will copy this.\\n        return data[field_name].copy()\\n'),)"
      ]
     },
     "execution_count": 60,
     "metadata": {},
     "output_type": "execute_result"
    }
   ],
   "source": [
    "ac.children"
   ]
  },
  {
   "cell_type": "code",
   "execution_count": null,
   "metadata": {},
   "outputs": [],
   "source": []
  }
 ],
 "metadata": {
  "kernelspec": {
   "display_name": "Python 3",
   "language": "python",
   "name": "python3"
  },
  "language_info": {
   "codemirror_mode": {
    "name": "ipython",
    "version": 3
   },
   "file_extension": ".py",
   "mimetype": "text/x-python",
   "name": "python",
   "nbconvert_exporter": "python",
   "pygments_lexer": "ipython3",
   "version": "3.6.4"
  }
 },
 "nbformat": 4,
 "nbformat_minor": 2
}
