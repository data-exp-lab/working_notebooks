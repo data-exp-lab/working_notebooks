{
 "cells": [
  {
   "cell_type": "code",
   "execution_count": 1,
   "metadata": {},
   "outputs": [
    {
     "name": "stderr",
     "output_type": "stream",
     "text": [
      "/home/mturk/conda-py3/lib/python3.6/site-packages/h5py/__init__.py:36: FutureWarning: Conversion of the second argument of issubdtype from `float` to `np.floating` is deprecated. In future, it will be treated as `np.float64 == np.dtype(float).type`.\n",
      "  from ._conv import register_converters as _register_converters\n"
     ]
    }
   ],
   "source": [
    "import IPython.display\n",
    "import textwrap\n",
    "import ipywidgets\n",
    "import traitlets\n",
    "import yt"
   ]
  },
  {
   "cell_type": "code",
   "execution_count": 2,
   "metadata": {},
   "outputs": [
    {
     "name": "stderr",
     "output_type": "stream",
     "text": [
      "Parsing Hierarchy : 100%|██████████| 173/173 [00:00<00:00, 3408.74it/s]\n"
     ]
    },
    {
     "data": {
      "text/plain": [
       "<yt.frontends.enzo.data_structures.EnzoHierarchy at 0x7f2db9552828>"
      ]
     },
     "execution_count": 2,
     "metadata": {},
     "output_type": "execute_result"
    }
   ],
   "source": [
    "ds = yt.load(\"IsolatedGalaxy/galaxy0030/galaxy0030\")\n",
    "ds.index"
   ]
  },
  {
   "cell_type": "code",
   "execution_count": 3,
   "metadata": {},
   "outputs": [
    {
     "data": {
      "application/vnd.jupyter.widget-view+json": {
       "model_id": "92bc5390b42b4527a3cc04874520ea90",
       "version_major": 2,
       "version_minor": 0
      },
      "text/html": [
       "<p>Failed to display Jupyter Widget of type <code>Tab</code>.</p>\n",
       "<p>\n",
       "  If you're reading this message in the Jupyter Notebook or JupyterLab Notebook, it may mean\n",
       "  that the widgets JavaScript is still loading. If this message persists, it\n",
       "  likely means that the widgets JavaScript library is either not installed or\n",
       "  not enabled. See the <a href=\"https://ipywidgets.readthedocs.io/en/stable/user_install.html\">Jupyter\n",
       "  Widgets Documentation</a> for setup instructions.\n",
       "</p>\n",
       "<p>\n",
       "  If you're reading this message in another frontend (for example, a static\n",
       "  rendering on GitHub or <a href=\"https://nbviewer.jupyter.org/\">NBViewer</a>),\n",
       "  it may mean that your frontend doesn't currently support widgets.\n",
       "</p>\n"
      ],
      "text/plain": [
       "Tab(children=(HBox(children=(Select(layout=Layout(height='95%'), options=('age', 'creation_time', 'dynamical_time', 'mesh_id', 'metallicity_fraction', 'particle_angular_momentum', 'particle_angular_momentum_magnitude', 'particle_angular_momentum_x', 'particle_angular_momentum_y', 'particle_angular_momentum_z', 'particle_cylindrical_velocity_theta', 'particle_cylindrical_velocity_z', 'particle_index', 'particle_mass', 'particle_ones', 'particle_position', 'particle_position_cylindrical_radius', 'particle_position_cylindrical_theta', 'particle_position_cylindrical_z', 'particle_position_relative', 'particle_position_relative_x', 'particle_position_relative_y', 'particle_position_relative_z', 'particle_position_spherical_phi', 'particle_position_spherical_radius', 'particle_position_spherical_theta', 'particle_position_x', 'particle_position_y', 'particle_position_z', 'particle_radial_velocity', 'particle_radius', 'particle_specific_angular_momentum', 'particle_specific_angular_momentum_x', 'particle_specific_angular_momentum_y', 'particle_specific_angular_momentum_z', 'particle_spherical_position_phi', 'particle_spherical_position_radius', 'particle_spherical_position_theta', 'particle_spherical_velocity_phi', 'particle_spherical_velocity_radius', 'particle_spherical_velocity_theta', 'particle_type', 'particle_velocity', 'particle_velocity_cylindrical_radius', 'particle_velocity_cylindrical_theta', 'particle_velocity_cylindrical_z', 'particle_velocity_magnitude', 'particle_velocity_relative', 'particle_velocity_relative_x', 'particle_velocity_relative_y', 'particle_velocity_relative_z', 'particle_velocity_spherical_phi', 'particle_velocity_spherical_radius', 'particle_velocity_spherical_theta', 'particle_velocity_x', 'particle_velocity_y', 'particle_velocity_z'), value='age'), Tab(children=(Output(layout=Layout(height='9em', width='100%')), Box(children=(HTML(value='Empty'),), layout=Layout(height='100%', overflow_y='scroll', width='100%'))), layout=Layout(flex='2 1 auto', height='95%', width='auto'), _titles={'0': 'Source', '1': 'Variables'})), layout=Layout(height='14em')), HBox(children=(Select(layout=Layout(height='95%'), options=('all_cic', 'all_cic_age', 'all_cic_velocity_x', 'all_cic_velocity_y', 'all_cic_velocity_z', 'all_count', 'all_density', 'all_mass', 'all_nn_age', 'all_nn_velocity_x', 'all_nn_velocity_y', 'all_nn_velocity_z', 'io_cic', 'io_cic_age', 'io_cic_velocity_x', 'io_cic_velocity_y', 'io_cic_velocity_z', 'io_count', 'io_density', 'io_mass', 'io_nn_age', 'io_nn_velocity_x', 'io_nn_velocity_y', 'io_nn_velocity_z'), value='all_cic'), Tab(children=(Output(layout=Layout(height='9em', width='100%')), Box(children=(HTML(value='Empty'),), layout=Layout(height='100%', overflow_y='scroll', width='100%'))), layout=Layout(flex='2 1 auto', height='95%', width='auto'), _titles={'0': 'Source', '1': 'Variables'})), layout=Layout(height='14em')), HBox(children=(Select(layout=Layout(height='95%'), options=('Average_creation_time', 'Bx', 'By', 'Bz', 'Cooling_Time', 'Dark_Matter_Density', 'Density', 'Electron_Density', 'Forming_Stellar_Mass_Density', 'Galaxy1Colour', 'Galaxy2Colour', 'HII_Density', 'HI_Density', 'HeIII_Density', 'HeII_Density', 'HeI_Density', 'MBHColour', 'Metal_Density', 'PhiField', 'Phi_pField', 'SFR_Density', 'Star_Particle_Density', 'Temperature', 'TotalEnergy', 'cell_volume', 'dx', 'dy', 'dz', 'gammaHI', 'kphHI', 'kphHeI', 'kphHeII', 'path_element_x', 'path_element_y', 'path_element_z', 'vertex_x', 'vertex_y', 'vertex_z', 'x', 'x-velocity', 'y', 'y-velocity', 'z', 'z-velocity'), value='Average_creation_time'), Tab(children=(Output(layout=Layout(height='9em', width='100%')), Box(children=(HTML(value='Empty'),), layout=Layout(height='100%', overflow_y='scroll', width='100%'))), layout=Layout(flex='2 1 auto', height='95%', width='auto'), _titles={'0': 'Source', '1': 'Variables'})), layout=Layout(height='14em')), HBox(children=(Select(layout=Layout(height='95%'), options=('El_density', 'El_fraction', 'El_mass', 'El_number_density', 'H_density', 'H_fraction', 'H_mass', 'H_nuclei_density', 'H_number_density', 'H_p0_density', 'H_p0_fraction', 'H_p0_mass', 'H_p0_number_density', 'H_p1_density', 'H_p1_fraction', 'H_p1_mass', 'H_p1_number_density', 'He_density', 'He_fraction', 'He_mass', 'He_nuclei_density', 'He_number_density', 'He_p0_density', 'He_p0_fraction', 'He_p0_mass', 'He_p0_number_density', 'He_p1_density', 'He_p1_fraction', 'He_p1_mass', 'He_p1_number_density', 'He_p2_density', 'He_p2_fraction', 'He_p2_mass', 'He_p2_number_density', 'alfven_speed', 'angular_momentum_magnitude', 'angular_momentum_x', 'angular_momentum_y', 'angular_momentum_z', 'averaged_density', 'baroclinic_vorticity_magnitude', 'baroclinic_vorticity_x', 'baroclinic_vorticity_y', 'baroclinic_vorticity_z', 'cell_mass', 'cell_volume', 'chandra_emissivity', 'cooling_time', 'courant_time_step', 'cutting_plane_magnetic_field_x', 'cutting_plane_magnetic_field_y', 'cutting_plane_magnetic_field_z', 'cutting_plane_velocity_x', 'cutting_plane_velocity_y', 'cutting_plane_velocity_z', 'cylindrical_radial_magnetic_field', 'cylindrical_radial_magnetic_field_absolute', 'cylindrical_radial_velocity', 'cylindrical_radial_velocity_absolute', 'cylindrical_tangential_magnetic_field', 'cylindrical_tangential_magnetic_field_absolute', 'cylindrical_tangential_velocity', 'cylindrical_tangential_velocity_absolute', 'dark_matter_density', 'density', 'density_gradient_magnitude', 'density_gradient_x', 'density_gradient_y', 'density_gradient_z', 'dx', 'dy', 'dynamical_time', 'dz', 'emission_measure', 'entropy', 'jeans_mass', 'kT', 'kinetic_energy', 'mach_alfven', 'mach_number', 'magnetic_energy', 'magnetic_field_cylindrical_radius', 'magnetic_field_cylindrical_theta', 'magnetic_field_cylindrical_z', 'magnetic_field_divergence', 'magnetic_field_divergence_absolute', 'magnetic_field_magnitude', 'magnetic_field_poloidal', 'magnetic_field_spherical_phi', 'magnetic_field_spherical_radius', 'magnetic_field_spherical_theta', 'magnetic_field_strength', 'magnetic_field_toroidal', 'magnetic_field_x', 'magnetic_field_y', 'magnetic_field_z', 'magnetic_pressure', 'matter_density', 'matter_mass', 'mazzotta_weighting', 'mean_molecular_weight', 'metal_density', 'metal_mass', 'metallicity', 'number_density', 'path_element_x', 'path_element_y', 'path_element_z', 'plasma_beta', 'pressure', 'pressure_gradient_magnitude', 'pressure_gradient_x', 'pressure_gradient_y', 'pressure_gradient_z', 'radial_mach_number', 'radial_magnetic_field', 'radial_magnetic_field_absolute', 'radial_velocity', 'radial_velocity_absolute', 'shear', 'shear_criterion', 'shear_mach', 'sound_speed', 'specific_angular_momentum_magnitude', 'specific_angular_momentum_x', 'specific_angular_momentum_y', 'specific_angular_momentum_z', 'sz_kinetic', 'szy', 'tangential_magnetic_field', 'tangential_over_magnetic_field_magnitude', 'tangential_over_velocity_magnitude', 'tangential_velocity', 'temperature', 'thermal_energy', 'total_energy', 'velocity_cylindrical_radius', 'velocity_cylindrical_theta', 'velocity_cylindrical_z', 'velocity_divergence', 'velocity_divergence_absolute', 'velocity_magnitude', 'velocity_spherical_phi', 'velocity_spherical_radius', 'velocity_spherical_theta', 'velocity_x', 'velocity_y', 'velocity_z', 'vertex_x', 'vertex_y', 'vertex_z', 'vorticity_growth_magnitude', 'vorticity_growth_magnitude_absolute', 'vorticity_growth_timescale', 'vorticity_growth_x', 'vorticity_growth_y', 'vorticity_growth_z', 'vorticity_magnitude', 'vorticity_squared', 'vorticity_stretching_magnitude', 'vorticity_stretching_x', 'vorticity_stretching_y', 'vorticity_stretching_z', 'vorticity_x', 'vorticity_y', 'vorticity_z', 'x', 'xray_emissivity', 'y', 'z'), value='El_density'), Tab(children=(Output(layout=Layout(height='9em', width='100%')), Box(children=(HTML(value='Empty'),), layout=Layout(height='100%', overflow_y='scroll', width='100%'))), layout=Layout(flex='2 1 auto', height='95%', width='auto'), _titles={'0': 'Source', '1': 'Variables'})), layout=Layout(height='14em')), HBox(children=(Select(layout=Layout(height='95%'), options=('cell_volume', 'cylindrical_r', 'cylindrical_radius', 'cylindrical_theta', 'cylindrical_z', 'disk_angle', 'dx', 'dy', 'dz', 'grid_indices', 'grid_level', 'height', 'morton_index', 'ones', 'ones_over_dx', 'path_element_x', 'path_element_y', 'path_element_z', 'radius', 'spherical_phi', 'spherical_r', 'spherical_radius', 'spherical_theta', 'vertex_x', 'vertex_y', 'vertex_z', 'virial_radius_fraction', 'x', 'y', 'z', 'zeros'), value='cell_volume'), Tab(children=(Output(layout=Layout(height='9em', width='100%')), Box(children=(HTML(value='Empty'),), layout=Layout(height='100%', overflow_y='scroll', width='100%'))), layout=Layout(flex='2 1 auto', height='95%', width='auto'), _titles={'0': 'Source', '1': 'Variables'})), layout=Layout(height='14em')), HBox(children=(Select(layout=Layout(height='95%'), options=('age', 'creation_time', 'dynamical_time', 'mesh_id', 'metallicity_fraction', 'particle_angular_momentum', 'particle_angular_momentum_magnitude', 'particle_angular_momentum_x', 'particle_angular_momentum_y', 'particle_angular_momentum_z', 'particle_cylindrical_velocity_theta', 'particle_cylindrical_velocity_z', 'particle_index', 'particle_mass', 'particle_ones', 'particle_position', 'particle_position_cylindrical_radius', 'particle_position_cylindrical_theta', 'particle_position_cylindrical_z', 'particle_position_relative', 'particle_position_relative_x', 'particle_position_relative_y', 'particle_position_relative_z', 'particle_position_spherical_phi', 'particle_position_spherical_radius', 'particle_position_spherical_theta', 'particle_position_x', 'particle_position_y', 'particle_position_z', 'particle_radial_velocity', 'particle_radius', 'particle_specific_angular_momentum', 'particle_specific_angular_momentum_x', 'particle_specific_angular_momentum_y', 'particle_specific_angular_momentum_z', 'particle_spherical_position_phi', 'particle_spherical_position_radius', 'particle_spherical_position_theta', 'particle_spherical_velocity_phi', 'particle_spherical_velocity_radius', 'particle_spherical_velocity_theta', 'particle_type', 'particle_velocity', 'particle_velocity_cylindrical_radius', 'particle_velocity_cylindrical_theta', 'particle_velocity_cylindrical_z', 'particle_velocity_magnitude', 'particle_velocity_relative', 'particle_velocity_relative_x', 'particle_velocity_relative_y', 'particle_velocity_relative_z', 'particle_velocity_spherical_phi', 'particle_velocity_spherical_radius', 'particle_velocity_spherical_theta', 'particle_velocity_x', 'particle_velocity_y', 'particle_velocity_z'), value='age'), Tab(children=(Output(layout=Layout(height='9em', width='100%')), Box(children=(HTML(value='Empty'),), layout=Layout(height='100%', overflow_y='scroll', width='100%'))), layout=Layout(flex='2 1 auto', height='95%', width='auto'), _titles={'0': 'Source', '1': 'Variables'})), layout=Layout(height='14em'))), _titles={'0': 'all', '1': 'deposit', '2': 'enzo', '3': 'gas', '4': 'index', '5': 'io'})"
      ]
     },
     "metadata": {},
     "output_type": "display_data"
    }
   ],
   "source": [
    "ds.fields"
   ]
  },
  {
   "cell_type": "code",
   "execution_count": 4,
   "metadata": {},
   "outputs": [
    {
     "data": {
      "application/vnd.jupyter.widget-view+json": {
       "model_id": "232d1aea80ff4b0eb91bb1c5736da1e9",
       "version_major": 2,
       "version_minor": 0
      },
      "text/html": [
       "<p>Failed to display Jupyter Widget of type <code>Tab</code>.</p>\n",
       "<p>\n",
       "  If you're reading this message in the Jupyter Notebook or JupyterLab Notebook, it may mean\n",
       "  that the widgets JavaScript is still loading. If this message persists, it\n",
       "  likely means that the widgets JavaScript library is either not installed or\n",
       "  not enabled. See the <a href=\"https://ipywidgets.readthedocs.io/en/stable/user_install.html\">Jupyter\n",
       "  Widgets Documentation</a> for setup instructions.\n",
       "</p>\n",
       "<p>\n",
       "  If you're reading this message in another frontend (for example, a static\n",
       "  rendering on GitHub or <a href=\"https://nbviewer.jupyter.org/\">NBViewer</a>),\n",
       "  it may mean that your frontend doesn't currently support widgets.\n",
       "</p>\n"
      ],
      "text/plain": [
       "Tab(children=(HBox(children=(Select(layout=Layout(height='95%'), options=('age', 'creation_time', 'dynamical_time', 'mesh_id', 'metallicity_fraction', 'particle_angular_momentum', 'particle_angular_momentum_magnitude', 'particle_angular_momentum_x', 'particle_angular_momentum_y', 'particle_angular_momentum_z', 'particle_cylindrical_velocity_theta', 'particle_cylindrical_velocity_z', 'particle_index', 'particle_mass', 'particle_ones', 'particle_position', 'particle_position_cylindrical_radius', 'particle_position_cylindrical_theta', 'particle_position_cylindrical_z', 'particle_position_relative', 'particle_position_relative_x', 'particle_position_relative_y', 'particle_position_relative_z', 'particle_position_spherical_phi', 'particle_position_spherical_radius', 'particle_position_spherical_theta', 'particle_position_x', 'particle_position_y', 'particle_position_z', 'particle_radial_velocity', 'particle_radius', 'particle_specific_angular_momentum', 'particle_specific_angular_momentum_x', 'particle_specific_angular_momentum_y', 'particle_specific_angular_momentum_z', 'particle_spherical_position_phi', 'particle_spherical_position_radius', 'particle_spherical_position_theta', 'particle_spherical_velocity_phi', 'particle_spherical_velocity_radius', 'particle_spherical_velocity_theta', 'particle_type', 'particle_velocity', 'particle_velocity_cylindrical_radius', 'particle_velocity_cylindrical_theta', 'particle_velocity_cylindrical_z', 'particle_velocity_magnitude', 'particle_velocity_relative', 'particle_velocity_relative_x', 'particle_velocity_relative_y', 'particle_velocity_relative_z', 'particle_velocity_spherical_phi', 'particle_velocity_spherical_radius', 'particle_velocity_spherical_theta', 'particle_velocity_x', 'particle_velocity_y', 'particle_velocity_z'), value='age'), Tab(children=(Output(layout=Layout(height='9em', width='100%')), Box(children=(HTML(value='Empty'),), layout=Layout(height='100%', overflow_y='scroll', width='100%'))), layout=Layout(flex='2 1 auto', height='95%', width='auto'), _titles={'0': 'Source', '1': 'Variables'})), layout=Layout(height='14em')), HBox(children=(Select(layout=Layout(height='95%'), options=('all_cic', 'all_cic_age', 'all_cic_velocity_x', 'all_cic_velocity_y', 'all_cic_velocity_z', 'all_count', 'all_density', 'all_mass', 'all_nn_age', 'all_nn_velocity_x', 'all_nn_velocity_y', 'all_nn_velocity_z', 'io_cic', 'io_cic_age', 'io_cic_velocity_x', 'io_cic_velocity_y', 'io_cic_velocity_z', 'io_count', 'io_density', 'io_mass', 'io_nn_age', 'io_nn_velocity_x', 'io_nn_velocity_y', 'io_nn_velocity_z'), value='all_cic'), Tab(children=(Output(layout=Layout(height='9em', width='100%')), Box(children=(HTML(value='Empty'),), layout=Layout(height='100%', overflow_y='scroll', width='100%'))), layout=Layout(flex='2 1 auto', height='95%', width='auto'), _titles={'0': 'Source', '1': 'Variables'})), layout=Layout(height='14em')), HBox(children=(Select(layout=Layout(height='95%'), options=('Average_creation_time', 'Bx', 'By', 'Bz', 'Cooling_Time', 'Dark_Matter_Density', 'Density', 'Electron_Density', 'Forming_Stellar_Mass_Density', 'Galaxy1Colour', 'Galaxy2Colour', 'HII_Density', 'HI_Density', 'HeIII_Density', 'HeII_Density', 'HeI_Density', 'MBHColour', 'Metal_Density', 'PhiField', 'Phi_pField', 'SFR_Density', 'Star_Particle_Density', 'Temperature', 'TotalEnergy', 'cell_volume', 'dx', 'dy', 'dz', 'gammaHI', 'kphHI', 'kphHeI', 'kphHeII', 'path_element_x', 'path_element_y', 'path_element_z', 'vertex_x', 'vertex_y', 'vertex_z', 'x', 'x-velocity', 'y', 'y-velocity', 'z', 'z-velocity'), value='Average_creation_time'), Tab(children=(Output(layout=Layout(height='9em', width='100%')), Box(children=(HTML(value='Empty'),), layout=Layout(height='100%', overflow_y='scroll', width='100%'))), layout=Layout(flex='2 1 auto', height='95%', width='auto'), _titles={'0': 'Source', '1': 'Variables'})), layout=Layout(height='14em')), HBox(children=(Select(layout=Layout(height='95%'), options=('El_density', 'El_fraction', 'El_mass', 'El_number_density', 'H_density', 'H_fraction', 'H_mass', 'H_nuclei_density', 'H_number_density', 'H_p0_density', 'H_p0_fraction', 'H_p0_mass', 'H_p0_number_density', 'H_p1_density', 'H_p1_fraction', 'H_p1_mass', 'H_p1_number_density', 'He_density', 'He_fraction', 'He_mass', 'He_nuclei_density', 'He_number_density', 'He_p0_density', 'He_p0_fraction', 'He_p0_mass', 'He_p0_number_density', 'He_p1_density', 'He_p1_fraction', 'He_p1_mass', 'He_p1_number_density', 'He_p2_density', 'He_p2_fraction', 'He_p2_mass', 'He_p2_number_density', 'alfven_speed', 'angular_momentum_magnitude', 'angular_momentum_x', 'angular_momentum_y', 'angular_momentum_z', 'averaged_density', 'baroclinic_vorticity_magnitude', 'baroclinic_vorticity_x', 'baroclinic_vorticity_y', 'baroclinic_vorticity_z', 'cell_mass', 'cell_volume', 'chandra_emissivity', 'cooling_time', 'courant_time_step', 'cutting_plane_magnetic_field_x', 'cutting_plane_magnetic_field_y', 'cutting_plane_magnetic_field_z', 'cutting_plane_velocity_x', 'cutting_plane_velocity_y', 'cutting_plane_velocity_z', 'cylindrical_radial_magnetic_field', 'cylindrical_radial_magnetic_field_absolute', 'cylindrical_radial_velocity', 'cylindrical_radial_velocity_absolute', 'cylindrical_tangential_magnetic_field', 'cylindrical_tangential_magnetic_field_absolute', 'cylindrical_tangential_velocity', 'cylindrical_tangential_velocity_absolute', 'dark_matter_density', 'density', 'density_gradient_magnitude', 'density_gradient_x', 'density_gradient_y', 'density_gradient_z', 'dx', 'dy', 'dynamical_time', 'dz', 'emission_measure', 'entropy', 'jeans_mass', 'kT', 'kinetic_energy', 'mach_alfven', 'mach_number', 'magnetic_energy', 'magnetic_field_cylindrical_radius', 'magnetic_field_cylindrical_theta', 'magnetic_field_cylindrical_z', 'magnetic_field_divergence', 'magnetic_field_divergence_absolute', 'magnetic_field_magnitude', 'magnetic_field_poloidal', 'magnetic_field_spherical_phi', 'magnetic_field_spherical_radius', 'magnetic_field_spherical_theta', 'magnetic_field_strength', 'magnetic_field_toroidal', 'magnetic_field_x', 'magnetic_field_y', 'magnetic_field_z', 'magnetic_pressure', 'matter_density', 'matter_mass', 'mazzotta_weighting', 'mean_molecular_weight', 'metal_density', 'metal_mass', 'metallicity', 'number_density', 'path_element_x', 'path_element_y', 'path_element_z', 'plasma_beta', 'pressure', 'pressure_gradient_magnitude', 'pressure_gradient_x', 'pressure_gradient_y', 'pressure_gradient_z', 'radial_mach_number', 'radial_magnetic_field', 'radial_magnetic_field_absolute', 'radial_velocity', 'radial_velocity_absolute', 'shear', 'shear_criterion', 'shear_mach', 'sound_speed', 'specific_angular_momentum_magnitude', 'specific_angular_momentum_x', 'specific_angular_momentum_y', 'specific_angular_momentum_z', 'sz_kinetic', 'szy', 'tangential_magnetic_field', 'tangential_over_magnetic_field_magnitude', 'tangential_over_velocity_magnitude', 'tangential_velocity', 'temperature', 'thermal_energy', 'total_energy', 'velocity_cylindrical_radius', 'velocity_cylindrical_theta', 'velocity_cylindrical_z', 'velocity_divergence', 'velocity_divergence_absolute', 'velocity_magnitude', 'velocity_spherical_phi', 'velocity_spherical_radius', 'velocity_spherical_theta', 'velocity_x', 'velocity_y', 'velocity_z', 'vertex_x', 'vertex_y', 'vertex_z', 'vorticity_growth_magnitude', 'vorticity_growth_magnitude_absolute', 'vorticity_growth_timescale', 'vorticity_growth_x', 'vorticity_growth_y', 'vorticity_growth_z', 'vorticity_magnitude', 'vorticity_squared', 'vorticity_stretching_magnitude', 'vorticity_stretching_x', 'vorticity_stretching_y', 'vorticity_stretching_z', 'vorticity_x', 'vorticity_y', 'vorticity_z', 'x', 'xray_emissivity', 'y', 'z'), value='El_density'), Tab(children=(Output(layout=Layout(height='9em', width='100%')), Box(children=(HTML(value='Empty'),), layout=Layout(height='100%', overflow_y='scroll', width='100%'))), layout=Layout(flex='2 1 auto', height='95%', width='auto'), _titles={'0': 'Source', '1': 'Variables'})), layout=Layout(height='14em')), HBox(children=(Select(layout=Layout(height='95%'), options=('cell_volume', 'cylindrical_r', 'cylindrical_radius', 'cylindrical_theta', 'cylindrical_z', 'disk_angle', 'dx', 'dy', 'dz', 'grid_indices', 'grid_level', 'height', 'morton_index', 'ones', 'ones_over_dx', 'path_element_x', 'path_element_y', 'path_element_z', 'radius', 'spherical_phi', 'spherical_r', 'spherical_radius', 'spherical_theta', 'vertex_x', 'vertex_y', 'vertex_z', 'virial_radius_fraction', 'x', 'y', 'z', 'zeros'), value='cell_volume'), Tab(children=(Output(layout=Layout(height='9em', width='100%')), Box(children=(HTML(value='Empty'),), layout=Layout(height='100%', overflow_y='scroll', width='100%'))), layout=Layout(flex='2 1 auto', height='95%', width='auto'), _titles={'0': 'Source', '1': 'Variables'})), layout=Layout(height='14em')), HBox(children=(Select(layout=Layout(height='95%'), options=('age', 'creation_time', 'dynamical_time', 'mesh_id', 'metallicity_fraction', 'particle_angular_momentum', 'particle_angular_momentum_magnitude', 'particle_angular_momentum_x', 'particle_angular_momentum_y', 'particle_angular_momentum_z', 'particle_cylindrical_velocity_theta', 'particle_cylindrical_velocity_z', 'particle_index', 'particle_mass', 'particle_ones', 'particle_position', 'particle_position_cylindrical_radius', 'particle_position_cylindrical_theta', 'particle_position_cylindrical_z', 'particle_position_relative', 'particle_position_relative_x', 'particle_position_relative_y', 'particle_position_relative_z', 'particle_position_spherical_phi', 'particle_position_spherical_radius', 'particle_position_spherical_theta', 'particle_position_x', 'particle_position_y', 'particle_position_z', 'particle_radial_velocity', 'particle_radius', 'particle_specific_angular_momentum', 'particle_specific_angular_momentum_x', 'particle_specific_angular_momentum_y', 'particle_specific_angular_momentum_z', 'particle_spherical_position_phi', 'particle_spherical_position_radius', 'particle_spherical_position_theta', 'particle_spherical_velocity_phi', 'particle_spherical_velocity_radius', 'particle_spherical_velocity_theta', 'particle_type', 'particle_velocity', 'particle_velocity_cylindrical_radius', 'particle_velocity_cylindrical_theta', 'particle_velocity_cylindrical_z', 'particle_velocity_magnitude', 'particle_velocity_relative', 'particle_velocity_relative_x', 'particle_velocity_relative_y', 'particle_velocity_relative_z', 'particle_velocity_spherical_phi', 'particle_velocity_spherical_radius', 'particle_velocity_spherical_theta', 'particle_velocity_x', 'particle_velocity_y', 'particle_velocity_z'), value='age'), Tab(children=(Output(layout=Layout(height='9em', width='100%')), Box(children=(HTML(value='Empty'),), layout=Layout(height='100%', overflow_y='scroll', width='100%'))), layout=Layout(flex='2 1 auto', height='95%', width='auto'), _titles={'0': 'Source', '1': 'Variables'})), layout=Layout(height='14em'))), _titles={'0': 'all', '1': 'deposit', '2': 'enzo', '3': 'gas', '4': 'index', '5': 'io'})"
      ]
     },
     "metadata": {},
     "output_type": "display_data"
    }
   ],
   "source": [
    "display(ds.fields)"
   ]
  },
  {
   "cell_type": "code",
   "execution_count": 5,
   "metadata": {},
   "outputs": [],
   "source": [
    "def display_arr(arr):\n",
    "    unit_registry = arr.units.registry\n",
    "    dimension = arr.units.dimensions\n",
    "    equiv = unit_registry.list_same_dimensions(arr.units)\n",
    "    dropdown = ipywidgets.Dropdown(options = sorted(equiv), value = str(arr.units))\n",
    "    def arr_updater(arr, texts):\n",
    "        def _value_updater(change):\n",
    "            arr2 = arr.in_units(change['new'])\n",
    "            if arr2.shape == ():\n",
    "                arr2 = [arr2]\n",
    "            for v, t in zip(arr2, texts):\n",
    "                t.value = str(v.value)\n",
    "        return _value_updater\n",
    "    if arr.shape == ():\n",
    "        arr_iter = [arr]\n",
    "    else:\n",
    "        arr_iter = arr\n",
    "    texts = [ipywidgets.Text(value = str(_.value), disabled = True) for _ in arr_iter]\n",
    "    dropdown.observe(arr_updater(arr, texts), names=\"value\")\n",
    "    return ipywidgets.HBox(texts + [dropdown])"
   ]
  },
  {
   "cell_type": "code",
   "execution_count": 6,
   "metadata": {},
   "outputs": [
    {
     "data": {
      "application/vnd.jupyter.widget-view+json": {
       "model_id": "aa09e8a487e94b7ea9c25b7126146aed",
       "version_major": 2,
       "version_minor": 0
      },
      "text/html": [
       "<p>Failed to display Jupyter Widget of type <code>HBox</code>.</p>\n",
       "<p>\n",
       "  If you're reading this message in the Jupyter Notebook or JupyterLab Notebook, it may mean\n",
       "  that the widgets JavaScript is still loading. If this message persists, it\n",
       "  likely means that the widgets JavaScript library is either not installed or\n",
       "  not enabled. See the <a href=\"https://ipywidgets.readthedocs.io/en/stable/user_install.html\">Jupyter\n",
       "  Widgets Documentation</a> for setup instructions.\n",
       "</p>\n",
       "<p>\n",
       "  If you're reading this message in another frontend (for example, a static\n",
       "  rendering on GitHub or <a href=\"https://nbviewer.jupyter.org/\">NBViewer</a>),\n",
       "  it may mean that your frontend doesn't currently support widgets.\n",
       "</p>\n"
      ],
      "text/plain": [
       "HBox(children=(Text(value='1.0', disabled=True), Text(value='1.0', disabled=True), Text(value='1.0', disabled=True), Dropdown(index=9, options=('AU', 'Angstrom', 'R_earth', 'R_jup', 'R_sun', 'Rsun', 'angstrom', 'au', 'cm', 'code_length', 'ft', 'l_geom', 'l_pl', 'ly', 'm', 'mile', 'pc', 'r_earth', 'r_jup', 'r_sun', 'rsun', 'solRad', 'unitary'), value='code_length')))"
      ]
     },
     "metadata": {},
     "output_type": "display_data"
    }
   ],
   "source": [
    "display_arr(ds.domain_width)"
   ]
  },
  {
   "cell_type": "code",
   "execution_count": 7,
   "metadata": {},
   "outputs": [
    {
     "data": {
      "text/plain": [
       "(3.0856775809623245e+18, (length), 0.0, '\\\\rm{pc}')"
      ]
     },
     "execution_count": 7,
     "metadata": {},
     "output_type": "execute_result"
    }
   ],
   "source": [
    "ds.unit_registry.lut['pc']"
   ]
  },
  {
   "cell_type": "code",
   "execution_count": 8,
   "metadata": {},
   "outputs": [],
   "source": [
    "def display_ds(ds):\n",
    "    attrs = [\"domain_width\", \"domain_left_edge\", \"domain_right_edge\", \"current_time\"]\n",
    "    lb = ipywidgets.VBox([ ipywidgets.Label(value = _) for _ in attrs])\n",
    "    vb = ipywidgets.VBox([ display_arr(getattr(ds, _)) for _ in attrs])\n",
    "    hb = ipywidgets.HBox([lb, vb])\n",
    "    return hb"
   ]
  },
  {
   "cell_type": "code",
   "execution_count": 9,
   "metadata": {},
   "outputs": [
    {
     "data": {
      "application/vnd.jupyter.widget-view+json": {
       "model_id": "123a685548364c568b791676975e9ad6",
       "version_major": 2,
       "version_minor": 0
      },
      "text/html": [
       "<p>Failed to display Jupyter Widget of type <code>HBox</code>.</p>\n",
       "<p>\n",
       "  If you're reading this message in the Jupyter Notebook or JupyterLab Notebook, it may mean\n",
       "  that the widgets JavaScript is still loading. If this message persists, it\n",
       "  likely means that the widgets JavaScript library is either not installed or\n",
       "  not enabled. See the <a href=\"https://ipywidgets.readthedocs.io/en/stable/user_install.html\">Jupyter\n",
       "  Widgets Documentation</a> for setup instructions.\n",
       "</p>\n",
       "<p>\n",
       "  If you're reading this message in another frontend (for example, a static\n",
       "  rendering on GitHub or <a href=\"https://nbviewer.jupyter.org/\">NBViewer</a>),\n",
       "  it may mean that your frontend doesn't currently support widgets.\n",
       "</p>\n"
      ],
      "text/plain": [
       "HBox(children=(VBox(children=(Label(value='domain_width'), Label(value='domain_left_edge'), Label(value='domain_right_edge'), Label(value='current_time'))), VBox(children=(HBox(children=(Text(value='1.0', disabled=True), Text(value='1.0', disabled=True), Text(value='1.0', disabled=True), Dropdown(index=9, options=('AU', 'Angstrom', 'R_earth', 'R_jup', 'R_sun', 'Rsun', 'angstrom', 'au', 'cm', 'code_length', 'ft', 'l_geom', 'l_pl', 'ly', 'm', 'mile', 'pc', 'r_earth', 'r_jup', 'r_sun', 'rsun', 'solRad', 'unitary'), value='code_length'))), HBox(children=(Text(value='0.0', disabled=True), Text(value='0.0', disabled=True), Text(value='0.0', disabled=True), Dropdown(index=9, options=('AU', 'Angstrom', 'R_earth', 'R_jup', 'R_sun', 'Rsun', 'angstrom', 'au', 'cm', 'code_length', 'ft', 'l_geom', 'l_pl', 'ly', 'm', 'mile', 'pc', 'r_earth', 'r_jup', 'r_sun', 'rsun', 'solRad', 'unitary'), value='code_length'))), HBox(children=(Text(value='1.0', disabled=True), Text(value='1.0', disabled=True), Text(value='1.0', disabled=True), Dropdown(index=9, options=('AU', 'Angstrom', 'R_earth', 'R_jup', 'R_sun', 'Rsun', 'angstrom', 'au', 'cm', 'code_length', 'ft', 'l_geom', 'l_pl', 'ly', 'm', 'mile', 'pc', 'r_earth', 'r_jup', 'r_sun', 'rsun', 'solRad', 'unitary'), value='code_length'))), HBox(children=(Text(value='0.0060000200028298', disabled=True), Dropdown(options=('code_time', 'd', 'day', 'hr', 'min', 's', 't_geom', 't_pl', 'yr'), value='code_time')))))))"
      ]
     },
     "metadata": {},
     "output_type": "display_data"
    }
   ],
   "source": [
    "display_ds(ds)"
   ]
  },
  {
   "cell_type": "code",
   "execution_count": 10,
   "metadata": {},
   "outputs": [],
   "source": [
    "import ipywidgets as widgets # Loads the Widget framework.\n",
    "from IPython.core.magics.namespace import NamespaceMagics # Used to query namespace.\n",
    "\n",
    "# For this example, hide these names, just to avoid polluting the namespace further\n",
    "get_ipython().user_ns_hidden['widgets'] = widgets\n",
    "get_ipython().user_ns_hidden['NamespaceMagics'] = NamespaceMagics"
   ]
  },
  {
   "cell_type": "code",
   "execution_count": 11,
   "metadata": {},
   "outputs": [],
   "source": [
    "class VariableInspectorWindow(object):\n",
    "    instance = None\n",
    "\n",
    "    def __init__(self, ipython):\n",
    "        \"\"\"Public constructor.\"\"\"\n",
    "        if VariableInspectorWindow.instance is not None:\n",
    "            raise Exception(\"\"\"Only one instance of the Variable Inspector can exist at a\n",
    "                time.  Call close() on the active instance before creating a new instance.\n",
    "                If you have lost the handle to the active instance, you can re-obtain it\n",
    "                via `VariableInspectorWindow.instance`.\"\"\")\n",
    "\n",
    "        VariableInspectorWindow.instance = self\n",
    "        self.closed = False\n",
    "        self.namespace = NamespaceMagics()\n",
    "        self.namespace.shell = ipython.kernel.shell\n",
    "\n",
    "        self._box = widgets.Box()\n",
    "        self._box.layout.overflow_y = 'scroll'\n",
    "        self._table = widgets.HTML(value = 'Not hooked')\n",
    "        self._box.children = [self._table]\n",
    "\n",
    "        self._ipython = ipython\n",
    "        self._ipython.events.register('post_run_cell', self._fill)\n",
    "\n",
    "    def close(self):\n",
    "        \"\"\"Close and remove hooks.\"\"\"\n",
    "        if not self.closed:\n",
    "            self._ipython.events.unregister('post_run_cell', self._fill)\n",
    "            self._box.close()\n",
    "            self.closed = True\n",
    "            VariableInspectorWindow.instance = None\n",
    "\n",
    "    def _fill(self):\n",
    "        \"\"\"Fill self with variable information.\"\"\"\n",
    "        values = self.namespace.who_ls()\n",
    "        self._table.value = '<div class=\"rendered_html jp-RenderedHTMLCommon\"><table><thead><tr><th>Name</th><th>Type</th><th>Value</th></tr></thead><tr><td>' + \\\n",
    "            '</td></tr><tr><td>'.join(['{0}</td><td>{1}</td><td>{2}'.format(v, type(eval(v)).__name__, str(eval(v))) for v in values]) + \\\n",
    "            '</td></tr></table></div>'\n",
    "\n",
    "    def _ipython_display_(self):\n",
    "        \"\"\"Called when display() or pyout is used to display the Variable\n",
    "        Inspector.\"\"\"\n",
    "        self._box._ipython_display_()\n"
   ]
  },
  {
   "cell_type": "code",
   "execution_count": 12,
   "metadata": {},
   "outputs": [
    {
     "data": {
      "application/vnd.jupyter.widget-view+json": {
       "model_id": "db7ff0a1a9d941b995d915817cdbca1a",
       "version_major": 2,
       "version_minor": 0
      },
      "text/html": [
       "<p>Failed to display Jupyter Widget of type <code>Box</code>.</p>\n",
       "<p>\n",
       "  If you're reading this message in the Jupyter Notebook or JupyterLab Notebook, it may mean\n",
       "  that the widgets JavaScript is still loading. If this message persists, it\n",
       "  likely means that the widgets JavaScript library is either not installed or\n",
       "  not enabled. See the <a href=\"https://ipywidgets.readthedocs.io/en/stable/user_install.html\">Jupyter\n",
       "  Widgets Documentation</a> for setup instructions.\n",
       "</p>\n",
       "<p>\n",
       "  If you're reading this message in another frontend (for example, a static\n",
       "  rendering on GitHub or <a href=\"https://nbviewer.jupyter.org/\">NBViewer</a>),\n",
       "  it may mean that your frontend doesn't currently support widgets.\n",
       "</p>\n"
      ],
      "text/plain": [
       "Box(children=(HTML(value='Not hooked'),), layout=Layout(overflow_y='scroll'))"
      ]
     },
     "metadata": {},
     "output_type": "display_data"
    }
   ],
   "source": [
    "inspector = VariableInspectorWindow(get_ipython())\n",
    "inspector"
   ]
  },
  {
   "cell_type": "code",
   "execution_count": 13,
   "metadata": {},
   "outputs": [],
   "source": [
    "v = 'this'"
   ]
  },
  {
   "cell_type": "code",
   "execution_count": null,
   "metadata": {},
   "outputs": [],
   "source": [
    "ds.fields"
   ]
  },
  {
   "cell_type": "code",
   "execution_count": null,
   "metadata": {},
   "outputs": [],
   "source": [
    "ds.fields.gas.density.sampling_type"
   ]
  },
  {
   "cell_type": "code",
   "execution_count": null,
   "metadata": {},
   "outputs": [],
   "source": [
    "density = ds.fields.gas.density"
   ]
  },
  {
   "cell_type": "code",
   "execution_count": null,
   "metadata": {},
   "outputs": [],
   "source": [
    "import inspect"
   ]
  },
  {
   "cell_type": "code",
   "execution_count": null,
   "metadata": {},
   "outputs": [],
   "source": [
    "inspect.getclosurevars(density._function)"
   ]
  },
  {
   "cell_type": "code",
   "execution_count": null,
   "metadata": {},
   "outputs": [],
   "source": [
    "def display_field_source(fobj):\n",
    "    source = ipywidgets.Textarea(value = fobj.get_source())\n",
    "    ac = ipywidgets.Accordion([source])\n",
    "    ac.set_title(0, \"Source\")\n",
    "    return ac"
   ]
  },
  {
   "cell_type": "code",
   "execution_count": null,
   "metadata": {},
   "outputs": [],
   "source": []
  },
  {
   "cell_type": "code",
   "execution_count": null,
   "metadata": {},
   "outputs": [],
   "source": [
    "ac = display_field_source(density)"
   ]
  },
  {
   "cell_type": "code",
   "execution_count": null,
   "metadata": {},
   "outputs": [],
   "source": [
    "ac.children"
   ]
  },
  {
   "cell_type": "code",
   "execution_count": null,
   "metadata": {},
   "outputs": [],
   "source": [
    "ac.children[0].style.width = '100%'"
   ]
  },
  {
   "cell_type": "code",
   "execution_count": null,
   "metadata": {},
   "outputs": [],
   "source": [
    "ac"
   ]
  },
  {
   "cell_type": "code",
   "execution_count": null,
   "metadata": {},
   "outputs": [],
   "source": [
    "import pygments"
   ]
  },
  {
   "cell_type": "code",
   "execution_count": null,
   "metadata": {},
   "outputs": [],
   "source": [
    "ds.fields.field_types"
   ]
  },
  {
   "cell_type": "code",
   "execution_count": null,
   "metadata": {},
   "outputs": [],
   "source": [
    "def display_all_fields(ds):\n",
    "    fnames = []\n",
    "    children = []\n",
    "    for ftype in sorted(ds.fields.field_types):\n",
    "        fnc = getattr(ds.fields, ftype)\n",
    "        names = dir(fnc)\n",
    "        names.sort()\n",
    "        def change_field(_ftype, _box, _var_window):\n",
    "            def _change_field(event):\n",
    "                fobj = getattr(_ftype, event['new'])\n",
    "                _box.clear_output()\n",
    "                with _box:\n",
    "                    IPython.display.display(IPython.display.Markdown(data = \"```python\\n\" + textwrap.dedent(fobj.get_source()) + \"\\n```\"))\n",
    "                values = inspect.getclosurevars(fobj._function).nonlocals\n",
    "                _var_window.value = '<div class=\"rendered_html jp-RenderedHTMLCommon\"><table><thead><tr><th>Name</th><th>Type</th><th>Value</th></tr></thead><tr><td>' + \\\n",
    "            '</td></tr><tr><td>'.join(['{0}</td><td>{1}</td><td>{2}'.format(v, type(values[v]).__name__, str(values[v])) for v in sorted(values)]) + \\\n",
    "            '</td></tr></table></div>'\n",
    "            return _change_field\n",
    "        flist = ipywidgets.Select(options = names, layout = ipywidgets.Layout(height = '95%'))\n",
    "        source = ipywidgets.Output(layout = ipywidgets.Layout(width = '100%', height = '9em'))\n",
    "        var_window = ipywidgets.HTML(value = 'Empty')\n",
    "        var_box = ipywidgets.Box(layout = ipywidgets.Layout(width = '100%', height = '100%', overflow_y = 'scroll'))\n",
    "        var_box.children = [var_window]\n",
    "        ftype_tabs = ipywidgets.Tab(children = [source, var_box], layout = ipywidgets.Layout(flex = '2 1 auto', width = 'auto', height = '95%'))\n",
    "        ftype_tabs.set_title(0, \"Source\")\n",
    "        ftype_tabs.set_title(1, \"Variables\")\n",
    "        flist.observe(change_field(fnc, source, var_window), \"value\")\n",
    "        children.append(ipywidgets.HBox([flist, ftype_tabs], layout = ipywidgets.Layout(height = '14em')))\n",
    "        fnames.append(ftype)\n",
    "    tabs = ipywidgets.Tab(children = children)\n",
    "    for i, n in enumerate(fnames):\n",
    "        tabs.set_title(i, n)\n",
    "    return tabs"
   ]
  },
  {
   "cell_type": "code",
   "execution_count": null,
   "metadata": {},
   "outputs": [],
   "source": [
    "display_all_fields(ds)"
   ]
  },
  {
   "cell_type": "code",
   "execution_count": null,
   "metadata": {},
   "outputs": [],
   "source": [
    "from yt.units.unit_registry import UnitRegistry"
   ]
  },
  {
   "cell_type": "code",
   "execution_count": null,
   "metadata": {},
   "outputs": [],
   "source": [
    "reg = UnitRegistry()"
   ]
  },
  {
   "cell_type": "code",
   "execution_count": null,
   "metadata": {},
   "outputs": [],
   "source": [
    "for i in reg.unit_objs: print(i)"
   ]
  },
  {
   "cell_type": "code",
   "execution_count": null,
   "metadata": {},
   "outputs": [],
   "source": [
    "reg['A'][0]"
   ]
  },
  {
   "cell_type": "code",
   "execution_count": null,
   "metadata": {},
   "outputs": [],
   "source": [
    "from yt.units.unit_object import default_unit_registry"
   ]
  },
  {
   "cell_type": "code",
   "execution_count": null,
   "metadata": {},
   "outputs": [],
   "source": [
    "default_unit_registry.unit_objs.items()"
   ]
  },
  {
   "cell_type": "code",
   "execution_count": null,
   "metadata": {},
   "outputs": [],
   "source": []
  }
 ],
 "metadata": {
  "kernelspec": {
   "display_name": "Python 3",
   "language": "python",
   "name": "python3"
  },
  "language_info": {
   "codemirror_mode": {
    "name": "ipython",
    "version": 3
   },
   "file_extension": ".py",
   "mimetype": "text/x-python",
   "name": "python",
   "nbconvert_exporter": "python",
   "pygments_lexer": "ipython3",
   "version": "3.6.4"
  }
 },
 "nbformat": 4,
 "nbformat_minor": 2
}
