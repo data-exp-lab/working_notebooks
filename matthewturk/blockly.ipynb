{
 "cells": [
  {
   "cell_type": "markdown",
   "metadata": {},
   "source": [
    "To get this to load, you need to clone the blockly repo:\n",
    "\n",
    "```bash\n",
    "git clone git@github.com:google/blockly.git\n",
    "```\n",
    "\n",
    "Then, add the path to that to your static files.  You may need to generate a Jupyter config with:\n",
    "\n",
    "```bash\n",
    "jupyter notebook --generate-config\n",
    "```\n",
    "\n",
    "In the resultant file (the path will be output on the command line) you will need to modify:\n",
    "\n",
    "```python\n",
    "c.NotebookApp.extra_static_paths = ['/path/to/blockly/']\n",
    "```"
   ]
  },
  {
   "cell_type": "code",
   "execution_count": 1,
   "metadata": {},
   "outputs": [
    {
     "data": {
      "application/javascript": [
       "requirejs.config({\n",
       "    paths: {\n",
       "        'blockly': ['blockly_compressed'],\n",
       "        'blocks': ['blocks_compressed']\n",
       "    }\n",
       "});\n",
       "\n",
       "require(['blockly'], function() {\n",
       "    require(['blocks', 'msg/js/en'], function() {console.log(\"Loaded blocks\");});\n",
       "    console.log(\"Loaded blockly\");\n",
       "});"
      ],
      "text/plain": [
       "<IPython.core.display.Javascript object>"
      ]
     },
     "metadata": {},
     "output_type": "display_data"
    }
   ],
   "source": [
    "%%javascript\n",
    "requirejs.config({\n",
    "    paths: {\n",
    "        'blockly': ['blockly_compressed'],\n",
    "        'blocks': ['blocks_compressed']\n",
    "    }\n",
    "});\n",
    "\n",
    "require(['blockly'], function() {\n",
    "    require(['blocks', 'msg/js/en'], function() {console.log(\"Loaded blocks\");});\n",
    "    console.log(\"Loaded blockly\");\n",
    "});"
   ]
  },
  {
   "cell_type": "code",
   "execution_count": 2,
   "metadata": {},
   "outputs": [
    {
     "data": {
      "text/html": [
       "<div id=\"blocklyDiv\" style=\"height: 480px; width: 600px;\"></div>\n",
       "<xml id=\"toolbox\" style=\"display: none\">\n",
       "  <block type=\"controls_if\"></block>\n",
       "  <block type=\"controls_repeat_ext\"></block>\n",
       "  <block type=\"logic_compare\"></block>\n",
       "  <block type=\"math_number\"></block>\n",
       "  <block type=\"math_arithmetic\"></block>\n",
       "  <block type=\"text\"></block>\n",
       "  <block type=\"text_print\"></block>\n",
       "</xml>\n",
       "<script>\n",
       "  var workspacePlayground = Blockly.inject('blocklyDiv',\n",
       "      {toolbox: document.getElementById('toolbox')});\n",
       "</script>"
      ],
      "text/plain": [
       "<IPython.core.display.HTML object>"
      ]
     },
     "metadata": {},
     "output_type": "display_data"
    }
   ],
   "source": [
    "%%html\n",
    "<div id=\"blocklyDiv\" style=\"height: 480px; width: 600px;\"></div>\n",
    "<xml id=\"toolbox\" style=\"display: none\">\n",
    "  <block type=\"controls_if\"></block>\n",
    "  <block type=\"controls_repeat_ext\"></block>\n",
    "  <block type=\"logic_compare\"></block>\n",
    "  <block type=\"math_number\"></block>\n",
    "  <block type=\"math_arithmetic\"></block>\n",
    "  <block type=\"text\"></block>\n",
    "  <block type=\"text_print\"></block>\n",
    "</xml>\n",
    "<script>\n",
    "  var workspacePlayground = Blockly.inject('blocklyDiv',\n",
    "      {toolbox: document.getElementById('toolbox')});\n",
    "</script>"
   ]
  },
  {
   "cell_type": "code",
   "execution_count": null,
   "metadata": {},
   "outputs": [],
   "source": []
  }
 ],
 "metadata": {
  "kernelspec": {
   "display_name": "Python 3",
   "language": "python",
   "name": "python3"
  },
  "language_info": {
   "codemirror_mode": {
    "name": "ipython",
    "version": 3
   },
   "file_extension": ".py",
   "mimetype": "text/x-python",
   "name": "python",
   "nbconvert_exporter": "python",
   "pygments_lexer": "ipython3",
   "version": "3.6.4"
  }
 },
 "nbformat": 4,
 "nbformat_minor": 2
}
